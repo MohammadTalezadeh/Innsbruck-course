{
 "cells": [
  {
   "cell_type": "markdown",
   "metadata": {},
   "source": [
    "# Kinematics of NGC 5927\n",
    "\n",
    "This project is based on spectroscopic data from the Gaia-ESO Survey (GES) obtained to study 71 stars that are candidate members of the\n",
    "galactic globular cluster NGC 5927. For each star you have a high-resolution spectrum in the spectral range [8475 - 8982 Å] \n",
    "taken with the FLAMES spectrograph mounted at the ESO Very Large Telescope. The spectra are saved as FITS files in the directory `spectra`.\n",
    "\n",
    "You have to measure the radial velocity *in km/s* of each star using the *calcium triplet* (CaT) lines, three CaII absorption lines with a restframe wavelength:\n",
    "* CaII$_1$: 8498.03 A\n",
    "* CaII$_2$: 8542.09 A\n",
    "* CaII$_3$: 8662.14 A\n",
    "\n",
    "\n",
    "The file `targets.csv` is an ascii file in tabular form that lists, for each star:\n",
    "1. the file name.\n",
    "2. an ID that identify the target.\n",
    "3. the right ascension (in degrees) and \n",
    "4. the declination (in degrees).\n",
    "------\n",
    "\n",
    "## preliminary plot\n",
    "Plot the position of all 71 target stars on a 2MASS J-band image\n",
    "\n",
    "## radial velocity measurement\n",
    "\n",
    "For each star, obtain 3 measurements of the radial velocity\n",
    "from the 3 CaT line by fitting each of them *independently* with an appropriate model.\n",
    "* What is the function that better describe the shape of the line profile? Try using a Gaussian and a Lorentzian\n",
    "\n",
    "Compute the final value for the radial velocity of a star as the average of the three measurements;\n",
    "to estimate the uncertainty to be associated to the result\n",
    "you can use the semi-difference between the maximum and the minimum value.\n",
    "* Use one star to test the measurement procedure and then convert it in a python function.\n",
    "\n",
    "For each star you have to create a figure showing :\n",
    "* the spectrum in the CaT region\n",
    "* the 3 best-fit models for each line\n",
    "* an annotation with the final radial velocity and the uncertainty\n",
    "\n",
    "  As an option you can create 3 subplots, one for each line. \n",
    "  *NOTE*: the radial velocity of each star is different, and therefore the blue- or redshift is not constant\n",
    "\n",
    "Save the figure to a `.png` file using the target ID as a filename\n",
    "\n",
    "Measure the radial velocity and its error of all target stars\n",
    "\n",
    "Given the quality and resolution of the spectra, you *should* obtain uncertainties of 1-2 km/s. \n",
    "\n",
    "\n",
    "\n",
    "\n",
    "## analysis\n",
    "\n",
    "* What is the distribution of the radial velocities and uncertainties you obtained?\n",
    "* Make two histograms: one with the 71 radial velocities and one with the corresponding 71 measurement errors.\n",
    "\n",
    "Some of the stars may not be members of NGC 5927 but foreground or background Milky Way stars.\n",
    "Assess the membership of each star by computing the mean and dispersion of your sample and define as members\n",
    "of NGC 5927 all stars with a radial velocity within ±3σ range around the global mean.\n",
    "\n",
    "Compute the on-sky separation in arcminutes of each star from the center of NGC 5927.\n",
    "Make a plot of the radial velocity against the on-sky separation for for all target stars.\n",
    "* overplot 3 horizontal lines to show the member selection criteria: a line for the global mean velocity and two lines for ±3σ\n",
    "* plot members and non-members using different colors and/or symbols\n",
    "\n",
    "Optional: Create an ascii file (in a convenient format of your choice) with the RA, DEC, ID, velocity, error on velocity of each star (we never saved an ascii file during the classes: find a way to do it)\n",
    "\n",
    "Optional2: add another information on the output file. Is the star a member of the cluster or not?\n",
    "\n",
    "------------\n",
    "\n",
    "* Make the analysis on a single jupyter notebook. Name the notebook \"project_YourFamilyName\"\n",
    "* Write your name in the first cell of the notebook\n",
    "* Integrate the code with text cells to explain each section of your analysis.\n",
    "* Add comments to the code to make it easily readable\n",
    "\n",
    "send me the jupyter notebook via e-mail\n",
    "\n",
    "**Deadline: 21/01/2018**\n"
   ]
  },
  {
   "cell_type": "code",
   "execution_count": null,
   "metadata": {
    "collapsed": true
   },
   "outputs": [],
   "source": []
  },
  {
   "cell_type": "code",
   "execution_count": null,
   "metadata": {
    "collapsed": true
   },
   "outputs": [],
   "source": []
  }
 ],
 "metadata": {
  "kernelspec": {
   "display_name": "Python 3",
   "language": "python",
   "name": "python3"
  },
  "language_info": {
   "codemirror_mode": {
    "name": "ipython",
    "version": 3
   },
   "file_extension": ".py",
   "mimetype": "text/x-python",
   "name": "python",
   "nbconvert_exporter": "python",
   "pygments_lexer": "ipython3",
   "version": "3.6.3"
  }
 },
 "nbformat": 4,
 "nbformat_minor": 2
}
