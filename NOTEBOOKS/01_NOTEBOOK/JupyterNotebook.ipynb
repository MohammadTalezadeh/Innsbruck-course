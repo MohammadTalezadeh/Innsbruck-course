{
 "cells": [
  {
   "cell_type": "markdown",
   "metadata": {},
   "source": [
    "# Start the Jupyter notebook\n",
    "Notebook is a wonderful environment to write your research notes. You can merge comments and code in a single document, pass this to your colleagues and let them check what you did.\n",
    "\n",
    "To start the notebook just type this command\n",
    "\n",
    "\n",
    "    jupyter notebook\n",
    "\n",
    "A new window (or tab) will be opened in your default browser showing the Notebook Dashboard; this looks like a file manager showing the content of the current directory. In our example we launched the Jupiter Notebook from an empty directory.\n",
    "\n",
    "To open a new Notebook use the New button on the top-right corner of the window and select Python3\n",
    "\n",
    "![alt](images/notebook1.png)\n",
    "\n",
    "The default name for the notebook is \"Untitled\" and it is shown in the upper;left corner, just on the right of the jupyter logo. Click on it to change the name. a new file (with extension ```.ipynb```) will be created.\n",
    "\n",
    "\n"
   ]
  },
  {
   "cell_type": "markdown",
   "metadata": {},
   "source": [
    "# Shut down the Jupyter Notebook App\n",
    "\n",
    "Closing the browser (or the tab) will not close the Jupyter Notebook App. To completely shut it down you need to close the associated terminal. Go back to the terminal that was used to launch the Notebook and press Control-C twice\n",
    "\n",
    "![shutdown](images/notebook_shutdown.png)\n",
    "\n"
   ]
  },
  {
   "cell_type": "markdown",
   "metadata": {},
   "source": [
    "# Using the Jupyter notebook\n",
    "\n",
    "## (Python) code cells:\n",
    "By default cells are \"code cells\". You type python code on them and then you can run it selecting ```Cell - Run Cells``` in the menu or by typing ```Ctrl-Enter```."
   ]
  },
  {
   "cell_type": "code",
   "execution_count": 1,
   "metadata": {},
   "outputs": [
    {
     "name": "stdout",
     "output_type": "stream",
     "text": [
      "I am a cell with Python code\n",
      "3\n"
     ]
    }
   ],
   "source": [
    "print (\"I am a cell with Python code\")\n",
    "a=1\n",
    "b=2\n",
    "print (a+b)"
   ]
  },
  {
   "cell_type": "markdown",
   "metadata": {},
   "source": [
    "The jupyter notebook displays the last output of the commands. For example if you just type the name of a variable, it will be shown"
   ]
  },
  {
   "cell_type": "code",
   "execution_count": 2,
   "metadata": {},
   "outputs": [
    {
     "data": {
      "text/plain": [
       "1"
      ]
     },
     "execution_count": 2,
     "metadata": {},
     "output_type": "execute_result"
    }
   ],
   "source": [
    "a"
   ]
  },
  {
   "cell_type": "markdown",
   "metadata": {},
   "source": [
    "but if you type more than one variable you will see only the last one"
   ]
  },
  {
   "cell_type": "code",
   "execution_count": 3,
   "metadata": {},
   "outputs": [
    {
     "data": {
      "text/plain": [
       "2"
      ]
     },
     "execution_count": 3,
     "metadata": {},
     "output_type": "execute_result"
    }
   ],
   "source": [
    "a\n",
    "b"
   ]
  },
  {
   "cell_type": "markdown",
   "metadata": {},
   "source": [
    "## Order DOES matter!\n",
    "Pay attention to the numbers on the left side of the cell. If you execute cells in different order, you can have problems!"
   ]
  },
  {
   "cell_type": "code",
   "execution_count": 4,
   "metadata": {
    "collapsed": true
   },
   "outputs": [],
   "source": [
    "a=1"
   ]
  },
  {
   "cell_type": "code",
   "execution_count": 5,
   "metadata": {
    "collapsed": true
   },
   "outputs": [],
   "source": [
    "a=2"
   ]
  },
  {
   "cell_type": "code",
   "execution_count": 6,
   "metadata": {},
   "outputs": [
    {
     "data": {
      "text/plain": [
       "2"
      ]
     },
     "execution_count": 6,
     "metadata": {},
     "output_type": "execute_result"
    }
   ],
   "source": [
    "a"
   ]
  },
  {
   "cell_type": "markdown",
   "metadata": {},
   "source": [
    "## Markdown cells\n",
    "If you want to insert some notes using formatting text, you can convert the cell to a Markdown cell,\n",
    "using the menu or typing ```Esc-y```\n",
    "![md](images/notebook_md.png)\n"
   ]
  },
  {
   "cell_type": "markdown",
   "metadata": {},
   "source": [
    "You can define a header by adding a pound sign (#) or two (##) to obtain different\n",
    "sizes in boldface.\n",
    "\n",
    "### Headers\n",
    "```\n",
    "# H1\n",
    "## H2\n",
    "### H3\n",
    "#### H4\n",
    "##### H5\n",
    "###### H6\n",
    "```\n",
    "# H1\n",
    "## H2\n",
    "### H3\n",
    "#### H4\n",
    "##### H5\n",
    "###### H6"
   ]
  },
  {
   "cell_type": "markdown",
   "metadata": {},
   "source": [
    "### Emphasis\n",
    "\n",
    "Italic: ```*asterisks* or  _underscores_```: \n",
    "*asterisks* or  _underscores_\n",
    "\n",
    "Bold:  ```**asterisks**  or __underscores__```:\n",
    "**asterisks**  or __underscores__\n",
    "\n",
    "Strikethrough:  ```~~scratch this ~~```:\n",
    "~~scratch this~~\n",
    "\n",
    "\n",
    "Each of these symbols can be escaped using a backslash before it,\n",
    "such a \\#  or \\* \\~."
   ]
  },
  {
   "cell_type": "markdown",
   "metadata": {},
   "source": [
    "### Unordered lists\n",
    "\n",
    "* Item 1\n",
    "* Item 2\n",
    "  * if you add some spaces atthe begining you have sub-items\n",
    " * another sub-item\n",
    " "
   ]
  },
  {
   "cell_type": "markdown",
   "metadata": {},
   "source": [
    "### Ordered Lists\n",
    "\n",
    "1. First ordered list item\n",
    "2. Another item\n",
    "1. Actual numbers don't matter, just that it's a number\n",
    "1. Actual numbers don't matter, just that it's a number\n",
    "   1. Ordered sub-list. just type a space before the number\n",
    "   1. second item of sub list\n",
    " "
   ]
  },
  {
   "cell_type": "markdown",
   "metadata": {},
   "source": [
    "### Mathematical formulae\n",
    "\n",
    "Mathematical formulae can be used by surrounding a typical Latex expression\n",
    "with \\$ ... \\$:\n",
    "\n",
    "$ \\int x^2 dx = x^3/3 $"
   ]
  },
  {
   "cell_type": "markdown",
   "metadata": {},
   "source": [
    "### URL\n",
    "\n",
    "You can add a link with \\[ linked name \\] (http://...)\n",
    "\n",
    "[ipython](http://ipython.org)\n"
   ]
  },
  {
   "cell_type": "markdown",
   "metadata": {
    "collapsed": true
   },
   "source": [
    "### Guide\n",
    "For all other formatting commands, read the [Mastering Markdown guide](https://guides.github.com/features/mastering-markdown/)\n"
   ]
  },
  {
   "cell_type": "markdown",
   "metadata": {},
   "source": [
    "## keyboard shortcuts\n",
    "\n",
    "`Esc` will take you into command mode where you can navigate around your notebook with arrow keys.\n",
    "When you are in command mode, the cell is highlighted in blue\n",
    "\n",
    "While in command mode:\n",
    "\n",
    "* `A` to insert a new cell above the current cell, \n",
    "* `B` to insert a new cell below.\n",
    "* `M` to change the current cell to Markdown\n",
    "* `Y` to change it back to code\n",
    "* `D+D` (press the key twice) to delete the current cell\n",
    "\n",
    "`Enter` will take you from command mode back into edit mode for the given cell.\n",
    "\n",
    "When you are in Edit mode, the cell is highlighted in green\n"
   ]
  },
  {
   "cell_type": "markdown",
   "metadata": {},
   "source": [
    "\n"
   ]
  }
 ],
 "metadata": {
  "kernelspec": {
   "display_name": "Python 3",
   "language": "python",
   "name": "python3"
  },
  "language_info": {
   "codemirror_mode": {
    "name": "ipython",
    "version": 3
   },
   "file_extension": ".py",
   "mimetype": "text/x-python",
   "name": "python",
   "nbconvert_exporter": "python",
   "pygments_lexer": "ipython3",
   "version": "3.6.3"
  }
 },
 "nbformat": 4,
 "nbformat_minor": 2
}
