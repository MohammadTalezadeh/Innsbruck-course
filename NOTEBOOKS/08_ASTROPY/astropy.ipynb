{
 "cells": [
  {
   "cell_type": "markdown",
   "metadata": {},
   "source": [
    "# The astropy project\n",
    "\n",
    "The Astropy Project is a community effort to develop a common core package for Astronomy in Python and foster an ecosystem of interoperable astronomy packages.\n",
    "\n",
    "A major part of the Astropy Project is the concept of [“Affiliated Packages”](http://www.astropy.org/affiliated/index.html). An affiliated package is an astronomy-related Python package that is not part of the astropy core package, but has requested to be included as part of the Astropy Project community. These packages demonstrate a commitment to Astropy’s goals of improving reuse, interoperability, and interface standards for Python astronomy and astrophysics packages.\n",
    "\n",
    "See the [Astropy documentation](http://docs.astropy.org) for a structured view of the functionality within the Astropy project.\n",
    "\n",
    "Other useful resources are the [Example Gallery](http://docs.astropy.org/en/stable/generated/examples/) and the\n",
    " [Tutorials](http://www.astropy.org/astropy-tutorials/)\n",
    " \n",
    " \n",
    "This notebook presents a few useful classes defined by `astropy`.  "
   ]
  },
  {
   "cell_type": "markdown",
   "metadata": {},
   "source": [
    "# Quantities and units\n",
    "\n",
    "`astropy.units` handles defining, converting between, and performing arithmetic with physical quantities, such as meters, seconds, Hz, etc. It also handles logarithmic units such as magnitude and decibel.\n",
    "\n",
    "`astropy.units` does not know spherical geometry or sexagesimal (hours, min, sec): if you want to deal with celestial coordinates, see the astropy.coordinates package.\n",
    "\n",
    "A `Quantity` represents a number with some associated unit.\n",
    "The Quantity object is meant to represent a value that has some unit associated with the number.\n",
    "\n",
    "* http://docs.astropy.org/en/stable/units/index.html\n",
    "* http://docs.astropy.org/en/stable/units/quantity.html\n"
   ]
  },
  {
   "cell_type": "code",
   "execution_count": 1,
   "metadata": {},
   "outputs": [
    {
     "data": {
      "text/latex": [
       "$1 \\; \\mathrm{\\frac{m}{s}}$"
      ],
      "text/plain": [
       "<Quantity 1.0 m / s>"
      ]
     },
     "execution_count": 1,
     "metadata": {},
     "output_type": "execute_result"
    }
   ],
   "source": [
    "from astropy import units as u\n",
    "\n",
    "l=1*u.m # define a Quantity\n",
    "t=1*u.s\n",
    "\n",
    "# you can make operations with Quantities\n",
    "v=l/t\n",
    "v"
   ]
  },
  {
   "cell_type": "markdown",
   "metadata": {},
   "source": [
    "Unit conversion is done using the `to()` method, which returns a new `Quantity` in the given unit:"
   ]
  },
  {
   "cell_type": "code",
   "execution_count": 2,
   "metadata": {},
   "outputs": [
    {
     "data": {
      "text/latex": [
       "$3.6 \\; \\mathrm{\\frac{km}{h}}$"
      ],
      "text/plain": [
       "<Quantity 3.5999999999999996 km / h>"
      ]
     },
     "execution_count": 2,
     "metadata": {},
     "output_type": "execute_result"
    }
   ],
   "source": [
    "v_kmh=v.to(u.km/u.h)\n",
    "v_kmh"
   ]
  },
  {
   "cell_type": "markdown",
   "metadata": {},
   "source": [
    "# Constants\n",
    "`astropy.constants` contains a number of physical constants useful in astronomy. Constants are `Quantity` objects with additional meta-data describing their provenance and uncertainties.\n",
    "\n",
    "\n",
    "http://docs.astropy.org/en/stable/constants/index.html"
   ]
  },
  {
   "cell_type": "markdown",
   "metadata": {},
   "source": [
    "To use the constants in S.I. units, you can import the constants directly from the astropy.constants sub-package:"
   ]
  },
  {
   "cell_type": "code",
   "execution_count": 3,
   "metadata": {},
   "outputs": [
    {
     "name": "stdout",
     "output_type": "stream",
     "text": [
      "  Name   = Speed of light in vacuum\n",
      "  Value  = 299792458.0\n",
      "  Uncertainty  = 0.0\n",
      "  Unit  = m / s\n",
      "  Reference = CODATA 2014\n"
     ]
    },
    {
     "data": {
      "text/latex": [
       "$2.9979246 \\times 10^{8} \\; \\mathrm{\\frac{m}{s}}$"
      ],
      "text/plain": [
       "<<class 'astropy.constants.codata2014.CODATA2014'> name='Speed of light in vacuum' value=299792458.0 uncertainty=0.0 unit='m / s' reference='CODATA 2014'>"
      ]
     },
     "execution_count": 3,
     "metadata": {},
     "output_type": "execute_result"
    }
   ],
   "source": [
    "from astropy import constants as const\n",
    "\n",
    "print (const.c)\n",
    "const.c"
   ]
  },
  {
   "cell_type": "markdown",
   "metadata": {},
   "source": [
    "`astropy.constants` are `Quantities` and therefore it is possible to convert them to other units"
   ]
  },
  {
   "cell_type": "code",
   "execution_count": 4,
   "metadata": {},
   "outputs": [
    {
     "name": "stdout",
     "output_type": "stream",
     "text": [
      "299792.458 km / s\n"
     ]
    }
   ],
   "source": [
    "c_kms=const.c.to('km/s')\n",
    "\n",
    "print(c_kms)"
   ]
  },
  {
   "cell_type": "markdown",
   "metadata": {},
   "source": [
    "It is possible to convert most constants to cgs using e.g.:"
   ]
  },
  {
   "cell_type": "code",
   "execution_count": 5,
   "metadata": {},
   "outputs": [
    {
     "data": {
      "text/latex": [
       "$2.9979246 \\times 10^{10} \\; \\mathrm{\\frac{cm}{s}}$"
      ],
      "text/plain": [
       "<Quantity 29979245800.0 cm / s>"
      ]
     },
     "execution_count": 5,
     "metadata": {},
     "output_type": "execute_result"
    }
   ],
   "source": [
    "const.c.cgs"
   ]
  },
  {
   "cell_type": "markdown",
   "metadata": {},
   "source": [
    "You can find the list of available constants here:\n",
    "http://docs.astropy.org/en/stable/constants/index.html#reference-api"
   ]
  },
  {
   "cell_type": "markdown",
   "metadata": {},
   "source": [
    "### <span style=\"color:red\">Example</span> Calculate the mean density of the Earth in $g/cm^3$"
   ]
  },
  {
   "cell_type": "code",
   "execution_count": 6,
   "metadata": {},
   "outputs": [
    {
     "data": {
      "text/latex": [
       "$5.495203 \\; \\mathrm{\\frac{g}{cm^{3}}}$"
      ],
      "text/plain": [
       "<Quantity 5.495202999855434 g / cm3>"
      ]
     },
     "execution_count": 6,
     "metadata": {},
     "output_type": "execute_result"
    }
   ],
   "source": [
    "import numpy as np\n",
    "\n",
    "m=const.M_earth\n",
    "r=const.R_earth\n",
    "V=4/3*np.pi*r**3\n",
    "\n",
    "d=(m/V).to(u.g/u.cm**3)\n",
    "d"
   ]
  },
  {
   "cell_type": "markdown",
   "metadata": {},
   "source": [
    "### <span style=\"color:red\">Exercise</span> orbital speed of the Earth\n",
    "\n",
    "Use `Quantity` and Kepler's law in the form given below to determine the (circular) orbital speed of the Earth around the sun in km/s. \n",
    "\n",
    "\\begin{equation}\n",
    "\\sqrt{\\frac{GM_\\odot}{r}}\n",
    "\\end{equation}\n",
    "\n",
    "\n",
    "There's a much easier way to figure out the velocity of the Earth using just two units or quantities. Do that and then compare to the Kepler's law answer (the easiest way is probably to compute the percentage difference, if any)."
   ]
  },
  {
   "cell_type": "code",
   "execution_count": null,
   "metadata": {
    "collapsed": true
   },
   "outputs": [],
   "source": []
  },
  {
   "cell_type": "code",
   "execution_count": 7,
   "metadata": {
    "collapsed": true
   },
   "outputs": [],
   "source": [
    "# %load solutions/earth_speed.py\n"
   ]
  },
  {
   "cell_type": "markdown",
   "metadata": {},
   "source": [
    "# Coordinates\n",
    "The [astropy.coordinates](http://docs.astropy.org/en/stable/coordinates/index.html) package provides classes for representing a variety of celestial/spatial coordinates and their velocity components, as well as tools for converting between common coordinate systems in a uniform way.\n",
    "\n",
    "`Skycoord` is a class providing a flexible interface  for celestial coordinate representation, manipulation, and transformation between systems.\n",
    "\n",
    "The `SkyCoord` class accepts a wide variety of inputs for initialization. At a minimum these must provide one or more celestial coordinate values **with unambiguous units**. Inputs may be scalars or lists/tuples/arrays, yielding scalar or array coordinates "
   ]
  },
  {
   "cell_type": "code",
   "execution_count": 8,
   "metadata": {},
   "outputs": [
    {
     "data": {
      "text/plain": [
       "<SkyCoord (ICRS): (ra, dec) in deg\n",
       "    ( 10.6252,  41.27321)>"
      ]
     },
     "execution_count": 8,
     "metadata": {},
     "output_type": "execute_result"
    }
   ],
   "source": [
    "from astropy import units as u\n",
    "from astropy.coordinates import SkyCoord\n",
    "\n",
    "# define a `Skycoord` using RA and DEC **with units**\n",
    "c1 = SkyCoord(ra=10.6252*u.degree, dec=41.27321*u.degree, frame='icrs')\n",
    "c1"
   ]
  },
  {
   "cell_type": "markdown",
   "metadata": {},
   "source": [
    "There is a quick way to get coordinates for named objects assuming you have an active internet connection. "
   ]
  },
  {
   "cell_type": "code",
   "execution_count": 9,
   "metadata": {},
   "outputs": [
    {
     "data": {
      "text/plain": [
       "<SkyCoord (ICRS): (ra, dec) in deg\n",
       "    ( 10.6847929,  41.269065)>"
      ]
     },
     "execution_count": 9,
     "metadata": {},
     "output_type": "execute_result"
    }
   ],
   "source": [
    "c2=SkyCoord.from_name(\"M31\")\n",
    "c2"
   ]
  },
  {
   "cell_type": "code",
   "execution_count": 10,
   "metadata": {},
   "outputs": [
    {
     "name": "stdout",
     "output_type": "stream",
     "text": [
      "10d41m05.2544s\n",
      "41d16m08.634s\n",
      "10.6847929\n",
      "41.269065\n",
      "---\n",
      "121.17440967072984\n",
      "-21.572996314671283\n"
     ]
    }
   ],
   "source": [
    "RA=c2.ra\n",
    "DE=c2.dec\n",
    "print (RA)\n",
    "print (DE)\n",
    "print (RA.degree)\n",
    "print (DE.degree)\n",
    "\n",
    "print (\"---\")\n",
    "# galactic coordinates\n",
    "l=c2.galactic.l\n",
    "b=c2.galactic.b\n",
    "print (l.degree)\n",
    "print (b.degree)"
   ]
  },
  {
   "cell_type": "markdown",
   "metadata": {},
   "source": [
    "Computes on-sky separation between `c1` and another skycoordinate:"
   ]
  },
  {
   "cell_type": "code",
   "execution_count": 11,
   "metadata": {},
   "outputs": [
    {
     "name": "stdout",
     "output_type": "stream",
     "text": [
      "0d02m41.9323s\n"
     ]
    },
    {
     "data": {
      "text/plain": [
       "astropy.coordinates.angles.Angle"
      ]
     },
     "execution_count": 11,
     "metadata": {},
     "output_type": "execute_result"
    }
   ],
   "source": [
    "sep=c1.separation(c2)\n",
    "\n",
    "print (sep)\n",
    "type(sep)\n"
   ]
  },
  {
   "cell_type": "markdown",
   "metadata": {},
   "source": [
    "an Angle is a quantity"
   ]
  },
  {
   "cell_type": "code",
   "execution_count": 12,
   "metadata": {},
   "outputs": [
    {
     "name": "stdout",
     "output_type": "stream",
     "text": [
      "2.69887arcmin\n"
     ]
    },
    {
     "data": {
      "text/plain": [
       "2.698872122049102"
      ]
     },
     "execution_count": 12,
     "metadata": {},
     "output_type": "execute_result"
    }
   ],
   "source": [
    "print (sep.to(u.arcmin))\n",
    "# but you can also do:\n",
    "sep.arcmin"
   ]
  },
  {
   "cell_type": "markdown",
   "metadata": {},
   "source": [
    "# Tables\n",
    "\n",
    "`astropy.table` provides functionality for storing and manipulating heterogeneous tables of data in a way that is familiar to numpy users.\n",
    "\n",
    "A few notable capabilities of this package are:\n",
    "* Initialize a table from a wide variety of input data structures and types.\n",
    "* Modify a table by adding or removing columns, changing column names, or adding new rows of data.\n",
    "* Handle tables containing missing values.\n",
    "* Create a new table by selecting rows or columns from a table.\n",
    "* Maintain a table index for fast retrieval of table items or ranges.\n",
    "* Reading and writing Table objects to files.\n",
    "\n",
    "http://docs.astropy.org/en/stable/table/\n",
    "\n",
    "## Reading and Table objects\n",
    "\n",
    "It is possible to create a Table from files in different formats.\n",
    "(see [Built-in table readers/writers](\"http://docs.astropy.org/en/stable/io/unified.html#built-in-readers-writers\"))\n",
    "\n",
    "http://docs.astropy.org/en/stable/table/io.html#read-write-tables"
   ]
  },
  {
   "cell_type": "code",
   "execution_count": 13,
   "metadata": {},
   "outputs": [
    {
     "data": {
      "text/html": [
       "&lt;Table length=10&gt;\n",
       "<table id=\"table140037001834848\" class=\"table-striped table-bordered table-condensed\">\n",
       "<thead><tr><th>Name</th><th>RAJ2000</th><th>DEJ2000</th><th>z</th></tr></thead>\n",
       "<thead><tr><th>str17</th><th>str10</th><th>str9</th><th>float64</th></tr></thead>\n",
       "<tr><td>FIRST J00000-0202</td><td>00:00:01.3</td><td>-02:02:00</td><td>1.356</td></tr>\n",
       "<tr><td>2QZ J000001-3036</td><td>00:00:01.4</td><td>-30:36:27</td><td>1.143</td></tr>\n",
       "<tr><td>2QZ J000001-3122</td><td>00:00:01.7</td><td>-31:22:26</td><td>1.331</td></tr>\n",
       "<tr><td>XMM J00000-2511</td><td>00:00:02.7</td><td>-25:11:37</td><td>1.314</td></tr>\n",
       "<tr><td>MS 23574-3520</td><td>00:00:02.8</td><td>-35:03:33</td><td>0.508</td></tr>\n",
       "<tr><td>2QZ J000005-2725</td><td>00:00:05.6</td><td>-27:25:10</td><td>1.93</td></tr>\n",
       "<tr><td>SDSS J00001+0030</td><td>00:00:06.6</td><td>+00:30:55</td><td>1.823</td></tr>\n",
       "<tr><td>SDSS J00001+0016</td><td>00:00:08.2</td><td>+00:16:35</td><td>1.837</td></tr>\n",
       "<tr><td>SDSS J00001+1517</td><td>00:00:09.3</td><td>+15:17:54</td><td>1.199</td></tr>\n",
       "<tr><td>SDSS J00001+1356</td><td>00:00:09.4</td><td>+13:56:18</td><td>2.24</td></tr>\n",
       "</table>"
      ],
      "text/plain": [
       "<Table length=10>\n",
       "       Name        RAJ2000    DEJ2000     z   \n",
       "      str17         str10       str9   float64\n",
       "----------------- ---------- --------- -------\n",
       "FIRST J00000-0202 00:00:01.3 -02:02:00   1.356\n",
       " 2QZ J000001-3036 00:00:01.4 -30:36:27   1.143\n",
       " 2QZ J000001-3122 00:00:01.7 -31:22:26   1.331\n",
       "  XMM J00000-2511 00:00:02.7 -25:11:37   1.314\n",
       "    MS 23574-3520 00:00:02.8 -35:03:33   0.508\n",
       " 2QZ J000005-2725 00:00:05.6 -27:25:10    1.93\n",
       " SDSS J00001+0030 00:00:06.6 +00:30:55   1.823\n",
       " SDSS J00001+0016 00:00:08.2 +00:16:35   1.837\n",
       " SDSS J00001+1517 00:00:09.3 +15:17:54   1.199\n",
       " SDSS J00001+1356 00:00:09.4 +13:56:18    2.24"
      ]
     },
     "execution_count": 13,
     "metadata": {},
     "output_type": "execute_result"
    }
   ],
   "source": [
    "from astropy.table import Table\n",
    "tab=Table.read(\"data/quasars.csv\")\n",
    "tab"
   ]
  },
  {
   "cell_type": "code",
   "execution_count": 14,
   "metadata": {},
   "outputs": [
    {
     "data": {
      "text/html": [
       "&lt;Table length=10&gt;\n",
       "<table id=\"table140037001356400\" class=\"table-striped table-bordered table-condensed\">\n",
       "<thead><tr><th>Name</th><th>RAJ2000</th><th>DEJ2000</th><th>z</th></tr></thead>\n",
       "<thead><tr><th>str17</th><th>str10</th><th>str9</th><th>float64</th></tr></thead>\n",
       "<tr><td>FIRST J00000-0202</td><td>00:00:01.3</td><td>-02:02:00</td><td>1.356</td></tr>\n",
       "<tr><td>2QZ J000001-3036</td><td>00:00:01.4</td><td>-30:36:27</td><td>1.143</td></tr>\n",
       "<tr><td>2QZ J000001-3122</td><td>00:00:01.7</td><td>-31:22:26</td><td>1.331</td></tr>\n",
       "<tr><td>XMM J00000-2511</td><td>00:00:02.7</td><td>-25:11:37</td><td>1.314</td></tr>\n",
       "<tr><td>MS 23574-3520</td><td>00:00:02.8</td><td>-35:03:33</td><td>0.508</td></tr>\n",
       "<tr><td>2QZ J000005-2725</td><td>00:00:05.6</td><td>-27:25:10</td><td>1.93</td></tr>\n",
       "<tr><td>SDSS J00001+0030</td><td>00:00:06.6</td><td>+00:30:55</td><td>1.823</td></tr>\n",
       "<tr><td>SDSS J00001+0016</td><td>00:00:08.2</td><td>+00:16:35</td><td>1.837</td></tr>\n",
       "<tr><td>SDSS J00001+1517</td><td>00:00:09.3</td><td>+15:17:54</td><td>1.199</td></tr>\n",
       "<tr><td>SDSS J00001+1356</td><td>00:00:09.4</td><td>+13:56:18</td><td>2.24</td></tr>\n",
       "</table>"
      ],
      "text/plain": [
       "<Table length=10>\n",
       "       Name        RAJ2000    DEJ2000     z   \n",
       "      str17         str10       str9   float64\n",
       "----------------- ---------- --------- -------\n",
       "FIRST J00000-0202 00:00:01.3 -02:02:00   1.356\n",
       " 2QZ J000001-3036 00:00:01.4 -30:36:27   1.143\n",
       " 2QZ J000001-3122 00:00:01.7 -31:22:26   1.331\n",
       "  XMM J00000-2511 00:00:02.7 -25:11:37   1.314\n",
       "    MS 23574-3520 00:00:02.8 -35:03:33   0.508\n",
       " 2QZ J000005-2725 00:00:05.6 -27:25:10    1.93\n",
       " SDSS J00001+0030 00:00:06.6 +00:30:55   1.823\n",
       " SDSS J00001+0016 00:00:08.2 +00:16:35   1.837\n",
       " SDSS J00001+1517 00:00:09.3 +15:17:54   1.199\n",
       " SDSS J00001+1356 00:00:09.4 +13:56:18    2.24"
      ]
     },
     "execution_count": 14,
     "metadata": {},
     "output_type": "execute_result"
    }
   ],
   "source": [
    "# The same can be obtained using the ascii module \n",
    "\n",
    "from astropy.io import ascii\n",
    "\n",
    "tab=ascii.read(\"data/quasars.csv\") # the input filw is csv\n",
    "tab"
   ]
  },
  {
   "cell_type": "code",
   "execution_count": 15,
   "metadata": {},
   "outputs": [
    {
     "data": {
      "text/html": [
       "&lt;Row index=3&gt;\n",
       "<table id=\"table140037001356400\">\n",
       "<thead><tr><th>Name</th><th>RAJ2000</th><th>DEJ2000</th><th>z</th></tr></thead>\n",
       "<thead><tr><th>str17</th><th>str10</th><th>str9</th><th>float64</th></tr></thead>\n",
       "<tr><td>XMM J00000-2511</td><td>00:00:02.7</td><td>-25:11:37</td><td>1.314</td></tr>\n",
       "</table>"
      ],
      "text/plain": [
       "<Row index=3>\n",
       "      Name       RAJ2000    DEJ2000     z   \n",
       "     str17        str10       str9   float64\n",
       "--------------- ---------- --------- -------\n",
       "XMM J00000-2511 00:00:02.7 -25:11:37   1.314"
      ]
     },
     "execution_count": 15,
     "metadata": {},
     "output_type": "execute_result"
    }
   ],
   "source": [
    "# get the 4th row\n",
    "tab[3]"
   ]
  },
  {
   "cell_type": "code",
   "execution_count": 16,
   "metadata": {},
   "outputs": [
    {
     "data": {
      "text/plain": [
       "['Name', 'RAJ2000', 'DEJ2000', 'z']"
      ]
     },
     "execution_count": 16,
     "metadata": {},
     "output_type": "execute_result"
    }
   ],
   "source": [
    "# get the names of the columns\n",
    "tab.colnames"
   ]
  },
  {
   "cell_type": "code",
   "execution_count": 17,
   "metadata": {},
   "outputs": [
    {
     "data": {
      "text/html": [
       "&lt;Column name=&apos;z&apos; dtype=&apos;float64&apos; length=10&gt;\n",
       "<table>\n",
       "<tr><td>1.356</td></tr>\n",
       "<tr><td>1.143</td></tr>\n",
       "<tr><td>1.331</td></tr>\n",
       "<tr><td>1.314</td></tr>\n",
       "<tr><td>0.508</td></tr>\n",
       "<tr><td>1.93</td></tr>\n",
       "<tr><td>1.823</td></tr>\n",
       "<tr><td>1.837</td></tr>\n",
       "<tr><td>1.199</td></tr>\n",
       "<tr><td>2.24</td></tr>\n",
       "</table>"
      ],
      "text/plain": [
       "<Column name='z' dtype='float64' length=10>\n",
       "1.356\n",
       "1.143\n",
       "1.331\n",
       "1.314\n",
       "0.508\n",
       " 1.93\n",
       "1.823\n",
       "1.837\n",
       "1.199\n",
       " 2.24"
      ]
     },
     "execution_count": 17,
     "metadata": {},
     "output_type": "execute_result"
    }
   ],
   "source": [
    "# get the values in one columns\n",
    "tab[\"z\"]"
   ]
  },
  {
   "cell_type": "markdown",
   "metadata": {},
   "source": [
    "`tab[\"z\"]` is not a numpy array, but it can be used like an array. "
   ]
  },
  {
   "cell_type": "code",
   "execution_count": 18,
   "metadata": {},
   "outputs": [
    {
     "name": "stdout",
     "output_type": "stream",
     "text": [
      "MAX 2.24\n",
      " \n",
      "  z  \n",
      "-----\n",
      "2.356\n",
      "2.143\n",
      "2.331\n",
      "2.314\n",
      "1.508\n",
      " 2.93\n",
      "2.823\n",
      "2.837\n",
      "2.199\n",
      " 3.24\n"
     ]
    }
   ],
   "source": [
    "\n",
    "print(\"MAX\",tab[\"z\"].max())\n",
    "print(\" \")\n",
    "\n",
    "print(tab[\"z\"]+1) ## note that you make operations on the content of the column, the name of the column does not change!!\n",
    "                   ## when you print this column its name is \"z\"\n",
    "# note: when you print you are printing the column, with the header\n"
   ]
  },
  {
   "cell_type": "code",
   "execution_count": 19,
   "metadata": {},
   "outputs": [
    {
     "name": "stdout",
     "output_type": "stream",
     "text": [
      "<class 'numpy.ndarray'>\n",
      "[ 1.356  1.143  1.331  1.314  0.508  1.93   1.823  1.837  1.199  2.24 ]\n"
     ]
    }
   ],
   "source": [
    "# if you want to extract the numpy array:\n",
    "v=tab[\"z\"].data\n",
    "\n",
    "print (type(v))\n",
    "print (v)"
   ]
  },
  {
   "cell_type": "markdown",
   "metadata": {},
   "source": [
    "## add columns\n",
    "\n",
    "* create an array from one column\n",
    "* process the data to create something new\n",
    "* add this as a new column to the table.\n",
    "\n",
    "for example: \n",
    "convert RAJ2000 (that is in `h:m:s`) and DEJ2000 (that is in `d:m:s`) in decimal degrees and add them as two new columns named\n",
    "`RAdeg` and `DEdeg`"
   ]
  },
  {
   "cell_type": "code",
   "execution_count": 20,
   "metadata": {},
   "outputs": [
    {
     "data": {
      "text/html": [
       "&lt;Table length=10&gt;\n",
       "<table id=\"table140037001356400\" class=\"table-striped table-bordered table-condensed\">\n",
       "<thead><tr><th>Name</th><th>RAJ2000</th><th>DEJ2000</th><th>z</th><th>RAdeg</th><th>DEdeg</th></tr></thead>\n",
       "<thead><tr><th></th><th></th><th></th><th></th><th>deg</th><th>deg</th></tr></thead>\n",
       "<thead><tr><th>str17</th><th>str10</th><th>str9</th><th>float64</th><th>float64</th><th>float64</th></tr></thead>\n",
       "<tr><td>FIRST J00000-0202</td><td>00:00:01.3</td><td>-02:02:00</td><td>1.356</td><td>0.00541666666667</td><td>-2.03333333333</td></tr>\n",
       "<tr><td>2QZ J000001-3036</td><td>00:00:01.4</td><td>-30:36:27</td><td>1.143</td><td>0.00583333333333</td><td>-30.6075</td></tr>\n",
       "<tr><td>2QZ J000001-3122</td><td>00:00:01.7</td><td>-31:22:26</td><td>1.331</td><td>0.00708333333333</td><td>-31.3738888889</td></tr>\n",
       "<tr><td>XMM J00000-2511</td><td>00:00:02.7</td><td>-25:11:37</td><td>1.314</td><td>0.01125</td><td>-25.1936111111</td></tr>\n",
       "<tr><td>MS 23574-3520</td><td>00:00:02.8</td><td>-35:03:33</td><td>0.508</td><td>0.0116666666667</td><td>-35.0591666667</td></tr>\n",
       "<tr><td>2QZ J000005-2725</td><td>00:00:05.6</td><td>-27:25:10</td><td>1.93</td><td>0.0233333333333</td><td>-27.4194444444</td></tr>\n",
       "<tr><td>SDSS J00001+0030</td><td>00:00:06.6</td><td>+00:30:55</td><td>1.823</td><td>0.0275</td><td>0.515277777778</td></tr>\n",
       "<tr><td>SDSS J00001+0016</td><td>00:00:08.2</td><td>+00:16:35</td><td>1.837</td><td>0.0341666666667</td><td>0.276388888889</td></tr>\n",
       "<tr><td>SDSS J00001+1517</td><td>00:00:09.3</td><td>+15:17:54</td><td>1.199</td><td>0.03875</td><td>15.2983333333</td></tr>\n",
       "<tr><td>SDSS J00001+1356</td><td>00:00:09.4</td><td>+13:56:18</td><td>2.24</td><td>0.0391666666667</td><td>13.9383333333</td></tr>\n",
       "</table>"
      ],
      "text/plain": [
       "<Table length=10>\n",
       "       Name        RAJ2000    DEJ2000     z         RAdeg           DEdeg     \n",
       "                                                     deg             deg      \n",
       "      str17         str10       str9   float64     float64         float64    \n",
       "----------------- ---------- --------- ------- ---------------- --------------\n",
       "FIRST J00000-0202 00:00:01.3 -02:02:00   1.356 0.00541666666667 -2.03333333333\n",
       " 2QZ J000001-3036 00:00:01.4 -30:36:27   1.143 0.00583333333333       -30.6075\n",
       " 2QZ J000001-3122 00:00:01.7 -31:22:26   1.331 0.00708333333333 -31.3738888889\n",
       "  XMM J00000-2511 00:00:02.7 -25:11:37   1.314          0.01125 -25.1936111111\n",
       "    MS 23574-3520 00:00:02.8 -35:03:33   0.508  0.0116666666667 -35.0591666667\n",
       " 2QZ J000005-2725 00:00:05.6 -27:25:10    1.93  0.0233333333333 -27.4194444444\n",
       " SDSS J00001+0030 00:00:06.6 +00:30:55   1.823           0.0275 0.515277777778\n",
       " SDSS J00001+0016 00:00:08.2 +00:16:35   1.837  0.0341666666667 0.276388888889\n",
       " SDSS J00001+1517 00:00:09.3 +15:17:54   1.199          0.03875  15.2983333333\n",
       " SDSS J00001+1356 00:00:09.4 +13:56:18    2.24  0.0391666666667  13.9383333333"
      ]
     },
     "execution_count": 20,
     "metadata": {},
     "output_type": "execute_result"
    }
   ],
   "source": [
    "from astropy.coordinates import SkyCoord\n",
    "import astropy.units as u\n",
    "\n",
    "coordinates=SkyCoord(tab[\"RAJ2000\"], tab[\"DEJ2000\"],unit=(u.hour,u.degree))\n",
    "ra=coordinates.ra\n",
    "de=coordinates.dec\n",
    "#ra = coord.Angle( unit=u.hour).to(u.degree)\n",
    "#de = coord.Angle(tab[\"DEJ2000\"], unit=u.degree) \n",
    "\n",
    "tab[\"RAdeg\"]=ra\n",
    "tab[\"DEdeg\"]=de\n",
    "tab"
   ]
  },
  {
   "cell_type": "markdown",
   "metadata": {},
   "source": [
    "**NOTE**: `tab[\"RAdeg\"]`\n",
    "\n",
    "```python\n",
    "if a column named \"RAdeg\" already exists\n",
    "    update\n",
    "else\n",
    "    create a new column\n",
    "```"
   ]
  },
  {
   "cell_type": "code",
   "execution_count": null,
   "metadata": {
    "collapsed": true
   },
   "outputs": [],
   "source": []
  }
 ],
 "metadata": {
  "kernelspec": {
   "display_name": "Python 3",
   "language": "python",
   "name": "python3"
  },
  "language_info": {
   "codemirror_mode": {
    "name": "ipython",
    "version": 3
   },
   "file_extension": ".py",
   "mimetype": "text/x-python",
   "name": "python",
   "nbconvert_exporter": "python",
   "pygments_lexer": "ipython3",
   "version": "3.6.3"
  }
 },
 "nbformat": 4,
 "nbformat_minor": 2
}
