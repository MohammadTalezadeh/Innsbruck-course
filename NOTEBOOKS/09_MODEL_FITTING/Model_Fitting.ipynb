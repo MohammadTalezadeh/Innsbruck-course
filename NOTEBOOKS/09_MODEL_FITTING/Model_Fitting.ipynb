{
 "cells": [
  {
   "cell_type": "code",
   "execution_count": 1,
   "metadata": {
    "collapsed": true
   },
   "outputs": [],
   "source": [
    "%matplotlib inline\n",
    "\n",
    "import numpy as np\n",
    "import matplotlib.pylab as plt"
   ]
  },
  {
   "cell_type": "markdown",
   "metadata": {
    "collapsed": true
   },
   "source": [
    "# Polynomials with numpy\n",
    "\n",
    "In numpy there is a module useful for dealing with polynomial functions and fitting polynomials to data. \n",
    "\n",
    "\n",
    "\\begin{equation}\n",
    "p(x)=\\sum_{i=0}^{n} a_i \\,x^{(n-i)}\n",
    "\\end{equation}\n",
    "\n",
    "e.g. a parabola (n=2) is $p(x)=a_0x^2+a_1x+a_2$\n",
    "\n",
    "To this end you just need 2 functions defined in numpy:\n",
    "\n",
    "```\n",
    "numpy.polyval(p, x)\n",
    "\n",
    "        Evaluate a polynomial at specific values.\n",
    "\n",
    "        If p is of length N, this function returns the value:\n",
    "            p[0]*x**(N-1) + p[1]*x**(N-2) + ... + p[N-2]*x + p[N-1]\n",
    "\n",
    "\n",
    "     numpy.polyfit(x, y, deg)\n",
    "\n",
    "        Least squares polynomial fit.\n",
    "        Fit a polynomial p(x) = p[0] * x**deg + ... + p[deg] of degree deg to points (x, y). Returns a vector of coefficients p that minimises the squared error.\n",
    "        \n",
    " ```"
   ]
  },
  {
   "cell_type": "code",
   "execution_count": 2,
   "metadata": {},
   "outputs": [
    {
     "data": {
      "image/png": "[encoded data removed]",
      "text/plain": [
       "<matplotlib.figure.Figure at 0x7f9d99c118d0>"
      ]
     },
     "metadata": {},
     "output_type": "display_data"
    }
   ],
   "source": [
    "# generate some random numbers for x\n",
    "\n",
    "npts=100\n",
    "x=np.random.uniform(-2,5,npts)\n",
    "\n",
    "y= -0.1*x**3+0.6*x**2 - 1.5*x +4\n",
    "# add some random noise\n",
    "y+=np.random.normal(0,.1,npts)\n",
    "\n",
    "fig,ax=plt.subplots()\n",
    "ax.plot(x,y,'ok');"
   ]
  },
  {
   "cell_type": "code",
   "execution_count": 3,
   "metadata": {},
   "outputs": [
    {
     "name": "stdout",
     "output_type": "stream",
     "text": [
      "[-0.10152098  0.60618164 -1.49109263  3.98177807]\n"
     ]
    }
   ],
   "source": [
    "# fit x,y with a cubic function\n",
    "\n",
    "p=np.polyfit(x,y,3) # deg=3\n",
    "print (p)\n",
    "\n",
    "# generate some points at which you want to evaluate the fit (to plot the best-fit model)\n",
    "xfit=np.linspace(x.min(),x.max(),100)\n",
    "# get the values of the bestf-fit model at x\n",
    "yfit=np.polyval(p,xfit)\n"
   ]
  },
  {
   "cell_type": "code",
   "execution_count": 4,
   "metadata": {},
   "outputs": [
    {
     "data": {
      "image/png": "[encoded data removed]",
      "text/plain": [
       "<matplotlib.figure.Figure at 0x7f9d99c118d0>"
      ]
     },
     "execution_count": 4,
     "metadata": {},
     "output_type": "execute_result"
    }
   ],
   "source": [
    "# overplot on the previously defined axis\n",
    "ax.plot(xfit,yfit)\n",
    "fig  # display fig again"
   ]
  },
  {
   "cell_type": "markdown",
   "metadata": {},
   "source": [
    "## <span style=\"color:red\">Exercise:</span> Carbon Dioxide\n",
    "\n",
    "The values of the atmospheric CO2 levels measured at Mauna Loa Observatory, Hawaii, are stored in the file `data/co2.txt`.\n",
    "The second column are CO2 levels in part per million (ppm); the third one are the values with the average seasonal cycle removed. \n",
    "\n",
    "Credit: NOAA. https://climate.nasa.gov/vital-signs/carbon-dioxide/\n",
    "\n",
    "* Create an `astropy Table` reading the data from the file\n",
    "* plot the data (seasonal cycle removed)\n",
    "* make a polynomial fit to the data and plot the result"
   ]
  },
  {
   "cell_type": "code",
   "execution_count": 5,
   "metadata": {},
   "outputs": [
    {
     "data": {
      "text/html": [
       "&lt;Table length=716&gt;\n",
       "<table id=\"table140314624900344\" class=\"table-striped table-bordered table-condensed\">\n",
       "<thead><tr><th>date</th><th>co2</th><th>trend</th></tr></thead>\n",
       "<thead><tr><th>float64</th><th>float64</th><th>float64</th></tr></thead>\n",
       "<tr><td>1958.208</td><td>315.71</td><td>314.62</td></tr>\n",
       "<tr><td>1958.292</td><td>317.45</td><td>315.29</td></tr>\n",
       "<tr><td>1958.375</td><td>317.5</td><td>314.71</td></tr>\n",
       "<tr><td>1958.458</td><td>317.1</td><td>314.85</td></tr>\n",
       "<tr><td>1958.542</td><td>315.86</td><td>314.98</td></tr>\n",
       "<tr><td>1958.625</td><td>314.93</td><td>315.94</td></tr>\n",
       "<tr><td>1958.708</td><td>313.2</td><td>315.91</td></tr>\n",
       "<tr><td>1958.792</td><td>312.66</td><td>315.61</td></tr>\n",
       "<tr><td>1958.875</td><td>313.33</td><td>315.31</td></tr>\n",
       "<tr><td>1958.958</td><td>314.67</td><td>315.61</td></tr>\n",
       "<tr><td>...</td><td>...</td><td>...</td></tr>\n",
       "<tr><td>2017.042</td><td>406.13</td><td>405.9</td></tr>\n",
       "<tr><td>2017.125</td><td>406.42</td><td>405.6</td></tr>\n",
       "<tr><td>2017.208</td><td>407.18</td><td>405.6</td></tr>\n",
       "<tr><td>2017.292</td><td>409.0</td><td>406.11</td></tr>\n",
       "<tr><td>2017.375</td><td>409.65</td><td>406.24</td></tr>\n",
       "<tr><td>2017.458</td><td>408.84</td><td>406.51</td></tr>\n",
       "<tr><td>2017.542</td><td>407.07</td><td>406.66</td></tr>\n",
       "<tr><td>2017.625</td><td>405.07</td><td>406.93</td></tr>\n",
       "<tr><td>2017.708</td><td>403.38</td><td>406.95</td></tr>\n",
       "<tr><td>2017.792</td><td>403.64</td><td>407.06</td></tr>\n",
       "</table>"
      ],
      "text/plain": [
       "<Table length=716>\n",
       "  date     co2    trend \n",
       "float64  float64 float64\n",
       "-------- ------- -------\n",
       "1958.208  315.71  314.62\n",
       "1958.292  317.45  315.29\n",
       "1958.375   317.5  314.71\n",
       "1958.458   317.1  314.85\n",
       "1958.542  315.86  314.98\n",
       "1958.625  314.93  315.94\n",
       "1958.708   313.2  315.91\n",
       "1958.792  312.66  315.61\n",
       "1958.875  313.33  315.31\n",
       "1958.958  314.67  315.61\n",
       "     ...     ...     ...\n",
       "2017.042  406.13   405.9\n",
       "2017.125  406.42   405.6\n",
       "2017.208  407.18   405.6\n",
       "2017.292   409.0  406.11\n",
       "2017.375  409.65  406.24\n",
       "2017.458  408.84  406.51\n",
       "2017.542  407.07  406.66\n",
       "2017.625  405.07  406.93\n",
       "2017.708  403.38  406.95\n",
       "2017.792  403.64  407.06"
      ]
     },
     "execution_count": 5,
     "metadata": {},
     "output_type": "execute_result"
    }
   ],
   "source": [
    "%matplotlib inline\n",
    "import numpy as np\n",
    "import matplotlib.pyplot as plt\n",
    "from astropy.io import ascii\n",
    "\n",
    "tab=ascii.read(\"data/co2.txt\")\n",
    "tab"
   ]
  },
  {
   "cell_type": "markdown",
   "metadata": {},
   "source": [
    "you should produce a plot like this one:\n",
    "<img src=\"solutions/co.png\">\n"
   ]
  },
  {
   "cell_type": "code",
   "execution_count": 6,
   "metadata": {
    "collapsed": true
   },
   "outputs": [],
   "source": [
    "# your solution\n",
    "\n",
    "date=tab[\"date\"]\n",
    "co2=tab[\"co2\"]\n",
    "co2t=tab[\"trend\"]\n",
    "\n",
    "# ...\n"
   ]
  },
  {
   "cell_type": "code",
   "execution_count": 7,
   "metadata": {},
   "outputs": [],
   "source": [
    "# %load solutions/co.py"
   ]
  },
  {
   "cell_type": "markdown",
   "metadata": {},
   "source": [
    "## <span style=\"color:red\">Exercise:</span> Global Temperature\n",
    "The file `data/647_Global_Temperature_Data_File.txt` is a list of\n",
    "the variations in the global surface temperature for every year.\n",
    "\n",
    "The second column in the file is the annual mean;\n",
    "the third column is the five-year average variation. \n",
    "\n",
    "Credit: NASA/GISS. https://climate.nasa.gov/vital-signs/global-temperature/\n",
    "\n",
    "\n",
    "\n",
    "* Create an `astropy Table` reading the data from the file\n",
    "* plot the data\n",
    "* select 5-year average values after 1970\n",
    "* make a fit and plot the result\n",
    "* how much does the global temperature increase every year?"
   ]
  },
  {
   "cell_type": "code",
   "execution_count": 8,
   "metadata": {},
   "outputs": [
    {
     "data": {
      "text/html": [
       "&lt;Table length=3&gt;\n",
       "<table id=\"table140314866160472\" class=\"table-striped table-bordered table-condensed\">\n",
       "<thead><tr><th>year</th><th>dT</th><th>dT_5</th></tr></thead>\n",
       "<thead><tr><th>int64</th><th>float64</th><th>float64</th></tr></thead>\n",
       "<tr><td>1880</td><td>-0.2</td><td>-0.13</td></tr>\n",
       "<tr><td>1881</td><td>-0.12</td><td>-0.16</td></tr>\n",
       "<tr><td>1882</td><td>-0.1</td><td>-0.19</td></tr>\n",
       "</table>"
      ],
      "text/plain": [
       "<Table length=3>\n",
       " year    dT     dT_5 \n",
       "int64 float64 float64\n",
       "----- ------- -------\n",
       " 1880    -0.2   -0.13\n",
       " 1881   -0.12   -0.16\n",
       " 1882    -0.1   -0.19"
      ]
     },
     "execution_count": 8,
     "metadata": {},
     "output_type": "execute_result"
    }
   ],
   "source": [
    "%matplotlib inline\n",
    "import numpy as np\n",
    "import matplotlib.pyplot as plt\n",
    "from astropy.io import ascii\n",
    "\n",
    "tab=ascii.read(\"data/647_Global_Temperature_Data_File.txt\")\n",
    "tab[:3]\n"
   ]
  },
  {
   "cell_type": "markdown",
   "metadata": {},
   "source": [
    "you should produce a plot like this one:\n",
    "<img src=\"solutions/global_temperature.png\">\n"
   ]
  },
  {
   "cell_type": "code",
   "execution_count": 9,
   "metadata": {
    "collapsed": true
   },
   "outputs": [],
   "source": [
    "# you solution\n"
   ]
  },
  {
   "cell_type": "code",
   "execution_count": 10,
   "metadata": {},
   "outputs": [],
   "source": [
    "# %load solutions/global_temperature.py"
   ]
  },
  {
   "cell_type": "markdown",
   "metadata": {
    "collapsed": true
   },
   "source": [
    "# The `astropy.modeling` Package\n",
    "\n",
    "This subpackage provides a framework for representing models and performing model evaluation and fitting. It supports 1D and 2D models and fitting with parameter constraints. It has some predefined models and fitting routines. \n",
    "\n",
    "For a list of available models: http://docs.astropy.org/en/stable/modeling/index.html#module-astropy.modeling\n",
    "\n",
    "It is possible to define new models either from a user-define function or by combining models using arithmetic expressions.\n",
    "\n",
    "The following examples illustrates a 1D and a 2D case:\n",
    "\n",
    "* [1D Gaussian](http://docs.astropy.org/en/stable/api/astropy.modeling.functional_models.Gaussian1D.html#astropy.modeling.functional_models.Gaussian1D)\n",
    "* [2D Sersic profile](http://docs.astropy.org/en/stable/api/astropy.modeling.functional_models.Sersic2D.html#astropy.modeling.functional_models.Sersic2D)"
   ]
  },
  {
   "cell_type": "markdown",
   "metadata": {},
   "source": [
    "## 1D Gaussian\n"
   ]
  },
  {
   "cell_type": "code",
   "execution_count": 11,
   "metadata": {},
   "outputs": [
    {
     "data": {
      "image/png": "[encoded data removed]",
      "text/plain": [
       "<matplotlib.figure.Figure at 0x7f9d8b5c0208>"
      ]
     },
     "metadata": {},
     "output_type": "display_data"
    }
   ],
   "source": [
    "from astropy.modeling import models\n",
    "\n",
    "# Build a Gaussian\n",
    "a=5.0   # amplitude\n",
    "m=2.4   # mean\n",
    "s=0.3   # standard deviation\n",
    "\n",
    "f=models.Gaussian1D(amplitude=a,mean=m,stddev=s)\n",
    "# f is a function!\n",
    "\n",
    "# points at which you want to evaluate the model\n",
    "x=np.linspace(m-5*s,m+5*s,100)\n",
    "# apply f to x\n",
    "y=f(x)\n",
    "\n",
    "fig,ax=plt.subplots()\n",
    "ax.plot(x,y);"
   ]
  },
  {
   "cell_type": "markdown",
   "metadata": {},
   "source": [
    "## 2D Sersic, create your galaxy"
   ]
  },
  {
   "cell_type": "code",
   "execution_count": 12,
   "metadata": {},
   "outputs": [
    {
     "data": {
      "image/png": "[encoded data removed]",
      "text/plain": [
       "<matplotlib.figure.Figure at 0x7f9d9a077b70>"
      ]
     },
     "metadata": {},
     "output_type": "display_data"
    }
   ],
   "source": [
    "from astropy.modeling import models\n",
    "\n",
    "f=models.Sersic2D(amplitude=1, r_eff=80, n=2.5, x_0=200, y_0=100, ellip=0.5, theta=np.pi/6)\n",
    "y, x = np.mgrid[:200, :400]\n",
    "\n",
    "ima=f(x,y)\n",
    "\n",
    "fig,ax=plt.subplots()\n",
    "ax.imshow(ima,origin='lower',vmin=0,vmax=5,cmap=plt.cm.inferno);\n"
   ]
  },
  {
   "cell_type": "markdown",
   "metadata": {},
   "source": [
    "\n",
    "# Compound models\n",
    "\n",
    "A possible way to create new models is by combining existing models using the arithmetic operators `+`, `-`, `*`, `/`, and `**`.\n",
    "\n",
    "As an example let's create a model that is the sum of a 1D gaussian and a linear relation\n",
    "    \n",
    "\\begin{equation}\n",
    "f(x)=A e^{-\\frac{(x-x_0)^2}{2\\sigma^2}}+p_1\\;x+p_0\n",
    "\\end{equation}\n"
   ]
  },
  {
   "cell_type": "code",
   "execution_count": 13,
   "metadata": {},
   "outputs": [
    {
     "data": {
      "text/plain": [
       "[<matplotlib.lines.Line2D at 0x7f9d830c1438>]"
      ]
     },
     "execution_count": 13,
     "metadata": {},
     "output_type": "execute_result"
    },
    {
     "data": {
      "image/png": "[encoded data removed]",
      "text/plain": [
       "<matplotlib.figure.Figure at 0x7f9d830d0550>"
      ]
     },
     "metadata": {},
     "output_type": "display_data"
    }
   ],
   "source": [
    "from astropy.modeling import models\n",
    "\n",
    "\n",
    "# Build a Gaussian\n",
    "amplitude=5\n",
    "mean=2\n",
    "stddev=.3\n",
    "\n",
    "p1=-0.7  # Slope of the straight line\n",
    "p0=10  # Intercept of the straight line\n",
    "\n",
    "f1=models.Gaussian1D(amplitude,mean,stddev)\n",
    "f2=models.Linear1D(p1,p0)\n",
    "\n",
    "f=f1+f2\n",
    "x=np.linspace(mean-5*stddev,mean+5*stddev,100)\n",
    "y=f(x)\n",
    "y_line=f2(x)  # evaluate the LinearModel at x to plot the straight line\n",
    "\n",
    "fig,ax=plt.subplots()\n",
    "ax.plot(x,y)\n",
    "ax.plot(x,y_line,':') # plot only the straight line"
   ]
  },
  {
   "cell_type": "markdown",
   "metadata": {},
   "source": [
    "# Fitting models using astropy\n",
    "\n",
    "To fit an astropy model to some data you need:\n",
    "\n",
    "* A model\n",
    "* An initial guess for the model parameters\n",
    "* An algorithm to find the best-fit solution starting from your initial guess\n",
    "\n",
    "The algorithm is called `fitter` in astropy. We will use the [Levenberg-Marquardt algorithm](https://en.wikipedia.org/wiki/Levenberg%E2%80%93Marquardt_algorithm).\n",
    "\n",
    "The choice of the initial parameters is critical. In many cases, if the initial parameters are very different from the best-solution, the algorithm\n",
    "will not converge to the *\"correct\"* best-fit solution.\n",
    "\n",
    "Let's generate some random numners to see how it work"
   ]
  },
  {
   "cell_type": "code",
   "execution_count": 14,
   "metadata": {},
   "outputs": [
    {
     "data": {
      "image/png": "[encoded data removed]",
      "text/plain": [
       "<matplotlib.figure.Figure at 0x7f9d8b5fbc18>"
      ]
     },
     "metadata": {},
     "output_type": "display_data"
    }
   ],
   "source": [
    "npts=1000\n",
    "x=np.random.uniform(1,8,npts)\n",
    "\n",
    "y=2.4*np.exp( -(x-5)**2/(2*.5**2) )\n",
    "# add some noise\n",
    "y+=np.random.normal(0,.1,npts)\n",
    "fig,ax=plt.subplots()\n",
    "ax.plot(x,y,'ok');"
   ]
  },
  {
   "cell_type": "code",
   "execution_count": 15,
   "metadata": {
    "scrolled": true
   },
   "outputs": [
    {
     "data": {
      "image/png": "[encoded data removed]",
      "text/plain": [
       "<matplotlib.figure.Figure at 0x7f9d8b5fbc18>"
      ]
     },
     "execution_count": 15,
     "metadata": {},
     "output_type": "execute_result"
    }
   ],
   "source": [
    "import numpy as np\n",
    "import matplotlib.pyplot as plt\n",
    "from astropy.modeling import models, fitting\n",
    "\n",
    "# Fit the data using a Gaussian\n",
    "\n",
    "# define the model with your initial guess for the parameters\n",
    "# in this case the initial guess is far from the solution,\n",
    "# but this is a simple case, and the choice is not critical!\n",
    "f_init = models.Gaussian1D(amplitude=1., mean=0, stddev=1.)\n",
    "\n",
    "fitter = fitting.LevMarLSQFitter()  # define your fitter\n",
    "\n",
    "f_fit = fitter(f_init, x, y) # get the best-fit model \n",
    "\n",
    "xfit=np.linspace(x.min(),x.max(),100)\n",
    "yfit=f_fit(xfit)\n",
    "\n",
    "\n",
    "ax.plot(xfit,yfit,c='#ff7f0e',lw=2)\n",
    "fig"
   ]
  },
  {
   "cell_type": "markdown",
   "metadata": {},
   "source": [
    "## A practical example. The spectrum of a star-forming galaxy\n",
    "\n",
    "`data/sdss_spec-0502-51957-0007.fits`\n",
    "is the spectrum of a star-forming galaxy at redshift $z=0.14691$\n",
    "from the [Sloan Digital Sky Survey](http://www.sdss.org/) (SDSS) archive. \n",
    "\n",
    "use the `fits.info()` [from `astropy`] convenience function to get info about the fits file"
   ]
  },
  {
   "cell_type": "code",
   "execution_count": 16,
   "metadata": {},
   "outputs": [
    {
     "name": "stdout",
     "output_type": "stream",
     "text": [
      "Filename: data/sdss_spec-0502-51957-0007.fits\n",
      "No.    Name      Ver    Type      Cards   Dimensions   Format\n",
      "  0  PRIMARY       1 PrimaryHDU     143   ()      \n",
      "  1                1 BinTableHDU     14   3827R x 2C   [E, E]   \n"
     ]
    }
   ],
   "source": [
    "from astropy.io import fits\n",
    "fitsfile=\"data/sdss_spec-0502-51957-0007.fits\"\n",
    "\n",
    "fits.info(fitsfile)"
   ]
  },
  {
   "cell_type": "markdown",
   "metadata": {},
   "source": [
    "get the data and load the BinTable into an astropy Table"
   ]
  },
  {
   "cell_type": "code",
   "execution_count": 17,
   "metadata": {},
   "outputs": [
    {
     "data": {
      "text/html": [
       "&lt;Table length=5&gt;\n",
       "<table id=\"table140314485762872\" class=\"table-striped table-bordered table-condensed\">\n",
       "<thead><tr><th>WAVE</th><th>FLUX</th></tr></thead>\n",
       "<thead><tr><th>float32</th><th>float32</th></tr></thead>\n",
       "<tr><td>3813.29</td><td>15.1034</td></tr>\n",
       "<tr><td>3814.17</td><td>16.644</td></tr>\n",
       "<tr><td>3815.05</td><td>15.5065</td></tr>\n",
       "<tr><td>3815.93</td><td>16.5294</td></tr>\n",
       "<tr><td>3816.81</td><td>12.9917</td></tr>\n",
       "</table>"
      ],
      "text/plain": [
       "<Table length=5>\n",
       "  WAVE    FLUX \n",
       "float32 float32\n",
       "------- -------\n",
       "3813.29 15.1034\n",
       "3814.17  16.644\n",
       "3815.05 15.5065\n",
       "3815.93 16.5294\n",
       "3816.81 12.9917"
      ]
     },
     "execution_count": 17,
     "metadata": {},
     "output_type": "execute_result"
    }
   ],
   "source": [
    "from astropy.table import Table\n",
    "\n",
    "data=fits.getdata(fitsfile,1)\n",
    "tab=Table(data)\n",
    "tab[:5]"
   ]
  },
  {
   "cell_type": "markdown",
   "metadata": {},
   "source": [
    "extract the numpy array with the wavelenght and the flux and plot the spectrum"
   ]
  },
  {
   "cell_type": "code",
   "execution_count": 18,
   "metadata": {},
   "outputs": [
    {
     "data": {
      "image/png": "[encoded data removed]",
      "text/plain": [
       "<matplotlib.figure.Figure at 0x7f9d82f70780>"
      ]
     },
     "metadata": {},
     "output_type": "display_data"
    }
   ],
   "source": [
    "%matplotlib inline\n",
    "import matplotlib.pyplot as plt\n",
    "\n",
    "w=tab[\"WAVE\"].data\n",
    "f=tab[\"FLUX\"].data\n",
    "\n",
    "fig,ax=plt.subplots()\n",
    "ax.plot(w,f);"
   ]
  },
  {
   "cell_type": "markdown",
   "metadata": {},
   "source": [
    "In the spectrum there are several emission lines, we want to zoom in the regions where there are these 3 lines:\n",
    "\n",
    "* $H_\\beta$ 4862.68 A\n",
    "* [OIII]  4960.295 A\n",
    "* [OIII]  5008.240 A\n",
    "\n",
    "We want to zoom in the region corresponding to [4800 A, 5050 A] (restframe)"
   ]
  },
  {
   "cell_type": "code",
   "execution_count": 19,
   "metadata": {},
   "outputs": [
    {
     "data": {
      "image/png": "[encoded data removed]",
      "text/plain": [
       "<matplotlib.figure.Figure at 0x7f9d82f70780>"
      ]
     },
     "execution_count": 19,
     "metadata": {},
     "output_type": "execute_result"
    }
   ],
   "source": [
    "z_sdss=0.14691 # the redshift measured by SDSS\n",
    "\n",
    "wmin=4800*(z_sdss+1) # redshifted min wavelenght\n",
    "wmax=5050*(z_sdss+1) # redshifted max\n",
    "\n",
    "ax.set_xlim(wmin,wmax)  # update the limits of the plot\n",
    "fig                    # show the figure again"
   ]
  },
  {
   "cell_type": "markdown",
   "metadata": {},
   "source": [
    "Try to fit the [OIII] line at 5008.240 A (restframe)\n",
    "\n",
    "The spectral continuum in a \"small\" interval around the emission line can be approximated by a straight line. In this particular case,\n",
    "the emission lines can be described by a Gaussian with a sigma that is equal to the spectral resolution of the instrument ($\\sim$2 A).\n",
    "\n",
    "* Find a first guess for the line center. Find the wavelenght corresponding to the max flux in the region of the [OIII]5008 line.\n",
    "* extract a sub-set of the data by selecting only datapoints within e.g. 20 A from the line center.\n",
    "* fit a Gasussian (+continuum)"
   ]
  },
  {
   "cell_type": "code",
   "execution_count": 20,
   "metadata": {},
   "outputs": [],
   "source": [
    "# calculate the wavelenght of the maximum of the reddest line\n",
    "# this is a good 1st order approximation of the line center\n",
    "# call this wl\n",
    "# [ you have to select data in a region around the line]\n",
    "\n"
   ]
  },
  {
   "cell_type": "code",
   "execution_count": 21,
   "metadata": {},
   "outputs": [],
   "source": [
    "# select the data for the fit: +- 20 A from out fitst guessed line center\n",
    "# overplot the selected data in red to check your selection\n",
    "\n"
   ]
  },
  {
   "cell_type": "code",
   "execution_count": 22,
   "metadata": {},
   "outputs": [],
   "source": [
    "from astropy.modeling import models,fitting\n",
    "\n",
    "# define the first guess model\n",
    "# 1d gauss with center=wl\n",
    "# + straight line\n",
    "#\n",
    "# fit the model to the selected data\n",
    "# overplot the model\n",
    "\n"
   ]
  },
  {
   "cell_type": "code",
   "execution_count": 23,
   "metadata": {},
   "outputs": [
    {
     "ename": "NameError",
     "evalue": "name 'xx' is not defined",
     "output_type": "error",
     "traceback": [
      "\u001b[0;31m---------------------------------------------------------------------------\u001b[0m",
      "\u001b[0;31mNameError\u001b[0m                                 Traceback (most recent call last)",
      "\u001b[0;32m<ipython-input-23-1a10c154912d>\u001b[0m in \u001b[0;36m<module>\u001b[0;34m()\u001b[0m\n\u001b[1;32m      1\u001b[0m \u001b[0;31m# zoom in to show only the [OIII]5008 line\u001b[0m\u001b[0;34m\u001b[0m\u001b[0;34m\u001b[0m\u001b[0m\n\u001b[1;32m      2\u001b[0m \u001b[0;34m\u001b[0m\u001b[0m\n\u001b[0;32m----> 3\u001b[0;31m \u001b[0max\u001b[0m\u001b[0;34m.\u001b[0m\u001b[0mset_xlim\u001b[0m\u001b[0;34m(\u001b[0m\u001b[0mxx\u001b[0m\u001b[0;34m.\u001b[0m\u001b[0mmin\u001b[0m\u001b[0;34m(\u001b[0m\u001b[0;34m)\u001b[0m\u001b[0;34m,\u001b[0m\u001b[0mxx\u001b[0m\u001b[0;34m.\u001b[0m\u001b[0mmax\u001b[0m\u001b[0;34m(\u001b[0m\u001b[0;34m)\u001b[0m\u001b[0;34m)\u001b[0m\u001b[0;34m\u001b[0m\u001b[0m\n\u001b[0m\u001b[1;32m      4\u001b[0m \u001b[0mfig\u001b[0m\u001b[0;34m\u001b[0m\u001b[0m\n",
      "\u001b[0;31mNameError\u001b[0m: name 'xx' is not defined"
     ]
    }
   ],
   "source": [
    "# zoom in to show only the [OIII]5008 line\n",
    "\n",
    "ax.set_xlim(xx.min(),xx.max())\n",
    "fig"
   ]
  },
  {
   "cell_type": "code",
   "execution_count": null,
   "metadata": {},
   "outputs": [],
   "source": [
    "# calculate the redshift from the measured value of the line center. \n",
    "# The restframe wavelenght of [OIII] is 5008.240 A\n",
    "# [the value measured by SDSS is 0.14691]\n",
    "\n"
   ]
  },
  {
   "cell_type": "markdown",
   "metadata": {},
   "source": [
    "Uncomment the following line to see a possible solution"
   ]
  },
  {
   "cell_type": "code",
   "execution_count": null,
   "metadata": {},
   "outputs": [],
   "source": [
    "# %load solutions/fitOIII.py"
   ]
  }
 ],
 "metadata": {
  "kernelspec": {
   "display_name": "Python 3",
   "language": "python",
   "name": "python3"
  },
  "language_info": {
   "codemirror_mode": {
    "name": "ipython",
    "version": 3
   },
   "file_extension": ".py",
   "mimetype": "text/x-python",
   "name": "python",
   "nbconvert_exporter": "python",
   "pygments_lexer": "ipython3",
   "version": "3.6.3"
  }
 },
 "nbformat": 4,
 "nbformat_minor": 2
}
