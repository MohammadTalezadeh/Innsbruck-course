{
 "cells": [
  {
   "cell_type": "markdown",
   "metadata": {},
   "source": [
    "# The RGB slope - metallicity relation (Valenti et al. 2004)\n",
    "In this notebook we will reproduce some of the results from [Valenti et al. (2004)](https://doi.org/10.1111/j.1365-2966.2004.07861.x),\n",
    "a paper that presents near-infrared photometry (in the J, H, and K band) of 10 Galactic globular clusters.\n",
    "The paper was published in the Monthly Notices of the Royal Astronomical Society (MNRAS).\n",
    "\n",
    "We will download the data used to make the analysis and reproduce some of the plots and the results in the paper, in particular the correlation\n",
    "between the slope of the Red Giant Branch (RGB) and the metallicity of globular clusters.\n",
    "** the RGB slope is defined in the K, (J–K) plane**, not in the color-magnitude diagram (J-K), K [read the paper if you want details]\n",
    "\n",
    "\n",
    "To this end, the steps to be carrried out are:\n",
    "* download the complete photometric catalogue for the 10 cluster.\n",
    "* use one of the clusters as a test case to develop a procedure to calculate the slope of the RGB\n",
    "* convert this procedure into a function to be applied to all clusters\n",
    "* check the slope/metallicity relation\n",
    "\n",
    "This notebook will show how to:\n",
    "* Download data from the Virtual Observatory, using [Vizier](http://vizier.u-strasbg.fr/viz-bin/VizieR)\n",
    "* Get data from a tabular ascii file\n",
    "* select data relevant for the analysis\n",
    "* make a linear fit to the data\n",
    "* define a function to carry out all calculations and apply it to a number of different cases [each one of the clusters]\n",
    "\n"
   ]
  },
  {
   "cell_type": "code",
   "execution_count": 1,
   "metadata": {
    "collapsed": true
   },
   "outputs": [],
   "source": [
    "%matplotlib inline\n",
    "\n",
    "import matplotlib.pyplot as plt\n",
    "import numpy as np"
   ]
  },
  {
   "cell_type": "markdown",
   "metadata": {},
   "source": [
    "The metallicity [Fe/H] of the 10 clusters are listed in the file ascii `cluster.dat`. The data were taken from Table 1 in the paper.\n",
    "\n",
    "Load the data into an `astropy` `Table`"
   ]
  },
  {
   "cell_type": "code",
   "execution_count": 2,
   "metadata": {},
   "outputs": [
    {
     "data": {
      "text/html": [
       "&lt;Table length=10&gt;\n",
       "<table id=\"table140279561628920\" class=\"table-striped table-bordered table-condensed\">\n",
       "<thead><tr><th>cluster</th><th>FeH</th></tr></thead>\n",
       "<thead><tr><th>str5</th><th>float64</th></tr></thead>\n",
       "<tr><td>M15</td><td>-2.12</td></tr>\n",
       "<tr><td>M30</td><td>-1.91</td></tr>\n",
       "<tr><td>N288</td><td>-1.07</td></tr>\n",
       "<tr><td>N362</td><td>-1.15</td></tr>\n",
       "<tr><td>N6342</td><td>-0.71</td></tr>\n",
       "<tr><td>N6380</td><td>-0.87</td></tr>\n",
       "<tr><td>N6440</td><td>-0.49</td></tr>\n",
       "<tr><td>N6441</td><td>-0.68</td></tr>\n",
       "<tr><td>N6624</td><td>-0.63</td></tr>\n",
       "<tr><td>N6752</td><td>-1.42</td></tr>\n",
       "</table>"
      ],
      "text/plain": [
       "<Table length=10>\n",
       "cluster   FeH  \n",
       "  str5  float64\n",
       "------- -------\n",
       "    M15   -2.12\n",
       "    M30   -1.91\n",
       "   N288   -1.07\n",
       "   N362   -1.15\n",
       "  N6342   -0.71\n",
       "  N6380   -0.87\n",
       "  N6440   -0.49\n",
       "  N6441   -0.68\n",
       "  N6624   -0.63\n",
       "  N6752   -1.42"
      ]
     },
     "execution_count": 2,
     "metadata": {},
     "output_type": "execute_result"
    }
   ],
   "source": [
    "from astropy.io import ascii\n",
    "\n",
    "clusters=ascii.read(\"clusters.dat\")\n",
    "clusters"
   ]
  },
  {
   "cell_type": "markdown",
   "metadata": {},
   "source": [
    "# Download data from vizier\n",
    "The photometric catalogue used in the paper is available here:\n",
    "http://vizier.u-strasbg.fr/viz-bin/VizieR?-source=J/MNRAS/351/1204/phot\n",
    "\n",
    "The `astroquery` package provides a python interface for querying the [VizieR](http://vizier.u-strasbg.fr/) web service, the most complete library of published astronomical catalogues and data tables available on line.\n",
    "\n",
    "`Astroquery` is a package affiliated to astropy [more details on affiliated packages here: http://www.astropy.org/affiliated/index.html]"
   ]
  },
  {
   "cell_type": "code",
   "execution_count": 3,
   "metadata": {
    "collapsed": true
   },
   "outputs": [],
   "source": [
    "from astroquery.vizier import Vizier\n",
    "\n",
    "# create the Vizier object:\n",
    "v=Vizier()\n",
    "\n",
    "# and remove the limit to number of rows to be retrieved\n",
    "# by default vizier return only the first 50 row of a catalogue!\n",
    "v.ROW_LIMIT=-1"
   ]
  },
  {
   "cell_type": "markdown",
   "metadata": {},
   "source": [
    "On the Vizier page where you have the [catalog from the paper](http://vizier.u-strasbg.fr/viz-bin/VizieR?-source=J/MNRAS/351/1204/phot) you can find \n",
    "that\n",
    "the code of this catalog is `J/MNRAS/351/1204/phot`.\n",
    "\n",
    "To download the data we will use the `get_catalogs()` function.\n",
    "Note that this function accept in input a list of catalogs, if you give only one catalog name in input, you will get a list with only one catalog,\n",
    "to get the catalog itself, you need to select the first (and only) element of the output list.\n"
   ]
  },
  {
   "cell_type": "code",
   "execution_count": 4,
   "metadata": {},
   "outputs": [
    {
     "name": "stdout",
     "output_type": "stream",
     "text": [
      "<Table masked=True length=22248>\n",
      "  name   dtype  unit  format                   description                  n_bad\n",
      "------- ------- ---- -------- --------------------------------------------- -----\n",
      "   GlCl  bytes5                                  Cluster name ('N' for NGC)     0\n",
      "    Seq   int16                            Sequential number in the cluster     0\n",
      "   Jmag float32  mag  {:6.3f}                           ? IRAC2/J magnitude  1690\n",
      "   Hmag float32  mag  {:6.3f}                           ? IRAC2/H magnitude  2169\n",
      "   Kmag float32  mag  {:6.3f}                           ? IRAC2/K magnitude  3438\n",
      "RAJ2000 float64  deg {:10.6f} Right Ascension J2000, Epoch 1989.0 (degrees)     0\n",
      "DEJ2000 float64  deg {:10.6f}     Declination J2000, Epoch 1989.0 (degrees)     0\n"
     ]
    }
   ],
   "source": [
    "# get the catalog\n",
    "catalog0= v.get_catalogs(\"J/MNRAS/351/1204/phot\")[0]\n",
    "\n",
    "catalog0.info()"
   ]
  },
  {
   "cell_type": "markdown",
   "metadata": {},
   "source": [
    "The output is an astropy `Table`."
   ]
  },
  {
   "cell_type": "code",
   "execution_count": 5,
   "metadata": {},
   "outputs": [
    {
     "data": {
      "text/html": [
       "&lt;Table masked=True length=22248&gt;\n",
       "<table id=\"table140278956571280\" class=\"table-striped table-bordered table-condensed\">\n",
       "<thead><tr><th>GlCl</th><th>Seq</th><th>Jmag</th><th>Hmag</th><th>Kmag</th><th>RAJ2000</th><th>DEJ2000</th></tr></thead>\n",
       "<thead><tr><th></th><th></th><th>mag</th><th>mag</th><th>mag</th><th>deg</th><th>deg</th></tr></thead>\n",
       "<thead><tr><th>bytes5</th><th>int16</th><th>float32</th><th>float32</th><th>float32</th><th>float64</th><th>float64</th></tr></thead>\n",
       "<tr><td>M15</td><td>1</td><td>10.196</td><td>9.548</td><td>9.419</td><td>322.493072</td><td>12.162783</td></tr>\n",
       "<tr><td>M15</td><td>2</td><td>10.217</td><td>9.564</td><td>9.437</td><td>322.509369</td><td>12.189307</td></tr>\n",
       "<tr><td>M15</td><td>3</td><td>10.265</td><td>9.671</td><td>9.545</td><td>322.486572</td><td>12.174149</td></tr>\n",
       "<tr><td>M15</td><td>4</td><td>10.268</td><td>9.910</td><td>9.661</td><td>322.494019</td><td>12.155949</td></tr>\n",
       "<tr><td>M15</td><td>5</td><td>10.285</td><td>10.015</td><td>9.918</td><td>322.489837</td><td>12.162182</td></tr>\n",
       "<tr><td>M15</td><td>6</td><td>10.294</td><td>--</td><td>9.511</td><td>322.494019</td><td>12.155974</td></tr>\n",
       "<tr><td>M15</td><td>7</td><td>10.327</td><td>9.718</td><td>9.612</td><td>322.484070</td><td>12.171647</td></tr>\n",
       "<tr><td>M15</td><td>8</td><td>10.351</td><td>9.708</td><td>9.581</td><td>322.497131</td><td>12.153227</td></tr>\n",
       "<tr><td>M15</td><td>9</td><td>10.356</td><td>9.767</td><td>9.591</td><td>322.486603</td><td>12.174164</td></tr>\n",
       "<tr><td>...</td><td>...</td><td>...</td><td>...</td><td>...</td><td>...</td><td>...</td></tr>\n",
       "<tr><td>N6752</td><td>4160</td><td>17.488</td><td>17.375</td><td>--</td><td>287.743725</td><td>-59.998914</td></tr>\n",
       "<tr><td>N6752</td><td>4162</td><td>17.497</td><td>17.247</td><td>--</td><td>287.692977</td><td>-59.985640</td></tr>\n",
       "<tr><td>N6752</td><td>4164</td><td>17.501</td><td>16.755</td><td>--</td><td>287.739951</td><td>-59.965373</td></tr>\n",
       "<tr><td>N6752</td><td>4171</td><td>17.563</td><td>17.032</td><td>--</td><td>287.745071</td><td>-59.996907</td></tr>\n",
       "<tr><td>N6752</td><td>4172</td><td>17.583</td><td>17.350</td><td>--</td><td>287.770702</td><td>-60.019068</td></tr>\n",
       "<tr><td>N6752</td><td>4174</td><td>17.589</td><td>17.110</td><td>--</td><td>287.784164</td><td>-59.981405</td></tr>\n",
       "<tr><td>N6752</td><td>4178</td><td>17.594</td><td>17.046</td><td>16.871</td><td>287.752023</td><td>-59.988276</td></tr>\n",
       "<tr><td>N6752</td><td>4184</td><td>17.668</td><td>16.981</td><td>--</td><td>287.695223</td><td>-59.998905</td></tr>\n",
       "<tr><td>N6752</td><td>4188</td><td>17.749</td><td>17.203</td><td>16.649</td><td>287.676593</td><td>-59.981856</td></tr>\n",
       "<tr><td>N6752</td><td>4191</td><td>17.846</td><td>17.005</td><td>16.705</td><td>287.782924</td><td>-60.006502</td></tr>\n",
       "</table>"
      ],
      "text/plain": [
       "<Table masked=True length=22248>\n",
       " GlCl   Seq    Jmag    Hmag    Kmag   RAJ2000    DEJ2000  \n",
       "               mag     mag     mag      deg        deg    \n",
       "bytes5 int16 float32 float32 float32  float64    float64  \n",
       "------ ----- ------- ------- ------- ---------- ----------\n",
       "   M15     1  10.196   9.548   9.419 322.493072  12.162783\n",
       "   M15     2  10.217   9.564   9.437 322.509369  12.189307\n",
       "   M15     3  10.265   9.671   9.545 322.486572  12.174149\n",
       "   M15     4  10.268   9.910   9.661 322.494019  12.155949\n",
       "   M15     5  10.285  10.015   9.918 322.489837  12.162182\n",
       "   M15     6  10.294      --   9.511 322.494019  12.155974\n",
       "   M15     7  10.327   9.718   9.612 322.484070  12.171647\n",
       "   M15     8  10.351   9.708   9.581 322.497131  12.153227\n",
       "   M15     9  10.356   9.767   9.591 322.486603  12.174164\n",
       "   ...   ...     ...     ...     ...        ...        ...\n",
       " N6752  4160  17.488  17.375      -- 287.743725 -59.998914\n",
       " N6752  4162  17.497  17.247      -- 287.692977 -59.985640\n",
       " N6752  4164  17.501  16.755      -- 287.739951 -59.965373\n",
       " N6752  4171  17.563  17.032      -- 287.745071 -59.996907\n",
       " N6752  4172  17.583  17.350      -- 287.770702 -60.019068\n",
       " N6752  4174  17.589  17.110      -- 287.784164 -59.981405\n",
       " N6752  4178  17.594  17.046  16.871 287.752023 -59.988276\n",
       " N6752  4184  17.668  16.981      -- 287.695223 -59.998905\n",
       " N6752  4188  17.749  17.203  16.649 287.676593 -59.981856\n",
       " N6752  4191  17.846  17.005  16.705 287.782924 -60.006502"
      ]
     },
     "execution_count": 5,
     "metadata": {},
     "output_type": "execute_result"
    }
   ],
   "source": [
    "catalog0"
   ]
  },
  {
   "cell_type": "markdown",
   "metadata": {},
   "source": [
    "Some of the values in the original catalog are `nan` (because some of the magnitudes of some stars could not be measured). \n",
    "Each column in an `astropy` `Table` has a `mask`. This is a boolean numpy array that is True when the original data were `nan`. "
   ]
  },
  {
   "cell_type": "code",
   "execution_count": 6,
   "metadata": {},
   "outputs": [
    {
     "name": "stdout",
     "output_type": "stream",
     "text": [
      "[False False False ..., False False False]\n",
      "stars with masked Jmag 1690\n",
      "stars with masked Kmag 3438\n"
     ]
    }
   ],
   "source": [
    "Jmask=catalog0[\"Jmag\"].mask\n",
    "Kmask=catalog0[\"Kmag\"].mask\n",
    "print (Jmask)\n",
    "print(\"stars with masked Jmag\",Jmask.sum())\n",
    "print(\"stars with masked Kmag\",Kmask.sum())\n"
   ]
  },
  {
   "cell_type": "code",
   "execution_count": 7,
   "metadata": {},
   "outputs": [
    {
     "data": {
      "text/plain": [
       "17120"
      ]
     },
     "execution_count": 7,
     "metadata": {},
     "output_type": "execute_result"
    }
   ],
   "source": [
    "# select only rows with valid J and K mags\n",
    "# i.e. both Jmag and Kmag mask are False\n",
    "\n",
    "good=(Jmask==False)&(Kmask==False)\n",
    "catalog=catalog0[good]\n",
    "\n",
    "len(catalog)\n"
   ]
  },
  {
   "cell_type": "markdown",
   "metadata": {},
   "source": [
    "# Use one cluster as a test case\n",
    "\n",
    "* choose a cluster, eg, M15\n",
    "* select the J and K magnitude for the stars of your cluster\n",
    "* plot the (J-K) vs K color-magnitude diagram to have an idea of what the data look like\n",
    "* select stars in a magnitude range between 0.5 and 5 mag fainter than the brightest star [to follow the selection done in the paper]\n",
    "* overplot these bright stars on the CMD using a different color"
   ]
  },
  {
   "cell_type": "code",
   "execution_count": 8,
   "metadata": {
    "collapsed": true
   },
   "outputs": [],
   "source": [
    "cname=\"M15\"\n",
    "\n",
    "# create a condition to select only data for one cluster\n",
    "\n",
    "# select the columns with J and K-band magnitudes and get only data for your cluster\n",
    "\n",
    "# J=\n",
    "# K=\n",
    "# JK=J-K\n",
    "\n",
    "# create a condition to select only the brightest stars \n",
    "\n",
    "# plot the CMD\n"
   ]
  },
  {
   "cell_type": "code",
   "execution_count": 9,
   "metadata": {
    "collapsed": true
   },
   "outputs": [],
   "source": [
    "# %load solutions/part1.py"
   ]
  },
  {
   "cell_type": "markdown",
   "metadata": {},
   "source": [
    "## Fit a straight line to the bright-end of the RGB in the K, J-K plane\n"
   ]
  },
  {
   "cell_type": "code",
   "execution_count": 10,
   "metadata": {
    "collapsed": true
   },
   "outputs": [],
   "source": [
    "# make the fit\n",
    "\n",
    "# create the best fit line\n",
    "\n",
    "# overplot on the CMD"
   ]
  },
  {
   "cell_type": "code",
   "execution_count": 11,
   "metadata": {
    "collapsed": true
   },
   "outputs": [],
   "source": [
    "# %load solutions/part2.py"
   ]
  },
  {
   "cell_type": "markdown",
   "metadata": {},
   "source": [
    "# put it all togheter in a function \n",
    "* the name of the cluster as input\n",
    "* create a file with the plot of the fit, so you can check that the fit is OK\n",
    "* return the slope"
   ]
  },
  {
   "cell_type": "code",
   "execution_count": 12,
   "metadata": {
    "collapsed": true
   },
   "outputs": [],
   "source": [
    "# create a directory for the plots\n",
    "\n",
    "# define a function to measure the slope of the RGB and plot the results\n",
    "def get_slope(cname):\n",
    "    pass"
   ]
  },
  {
   "cell_type": "code",
   "execution_count": null,
   "metadata": {
    "collapsed": true
   },
   "outputs": [],
   "source": [
    "# %load solutions/function_slope.py"
   ]
  },
  {
   "cell_type": "code",
   "execution_count": null,
   "metadata": {
    "collapsed": true
   },
   "outputs": [],
   "source": [
    "# check that everithing works\n",
    "get_slope(\"M15\")"
   ]
  },
  {
   "cell_type": "markdown",
   "metadata": {},
   "source": [
    "# iterate on all obects"
   ]
  },
  {
   "cell_type": "code",
   "execution_count": null,
   "metadata": {
    "collapsed": true
   },
   "outputs": [],
   "source": [
    "\n",
    "# add a column called slope with a non-sense number, then we will fill it with the value we calculate\n",
    "clusters[\"slope\"]=-999.9 # it is important to have floats!\n",
    "\n",
    "# iterate\n",
    "for row in clusters:\n",
    "    s=get_slope(row[\"cluster\"])\n",
    "    row[\"slope\"]=s\n",
    "\n",
    "clusters"
   ]
  },
  {
   "cell_type": "code",
   "execution_count": null,
   "metadata": {
    "collapsed": true
   },
   "outputs": [],
   "source": [
    "xfit=np.linspace(-.114,-.035,2)\n",
    "yfit_valenti=-22.21*xfit-2.80 # fit from Valenti et al 2004, Figure 11\n",
    "\n",
    "p=np.polyfit(clusters[\"slope\"],clusters[\"FeH\"],1)\n",
    "yfit_me=np.polyval(p,xfit)\n",
    "\n",
    "fig,ax=plt.subplots()\n",
    "ax.plot(clusters[\"slope\"],clusters[\"FeH\"].data,'ok')\n",
    "ax.plot(xfit,yfit_valenti,ls=\":\")\n",
    "ax.plot(xfit,yfit_me)\n",
    "\n",
    "ax.set_xlim(-0.03,-0.119)\n",
    "ax.set_ylim(-2.5,.4)\n"
   ]
  }
 ],
 "metadata": {
  "kernelspec": {
   "display_name": "Python 3",
   "language": "python",
   "name": "python3"
  },
  "language_info": {
   "codemirror_mode": {
    "name": "ipython",
    "version": 3
   },
   "file_extension": ".py",
   "mimetype": "text/x-python",
   "name": "python",
   "nbconvert_exporter": "python",
   "pygments_lexer": "ipython3",
   "version": "3.6.3"
  }
 },
 "nbformat": 4,
 "nbformat_minor": 2
}
