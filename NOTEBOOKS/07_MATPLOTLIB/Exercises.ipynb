{
 "cells": [
  {
   "cell_type": "markdown",
   "metadata": {},
   "source": [
    "# exercise 1\n",
    "\n",
    "Define:\n",
    "```python\n",
    "x=np.linspace(0,2*np.pi)\n",
    "y=2*np.sin(x)\n",
    "```\n",
    "\n",
    "Plot `(x,y)` using black points if `y<1` and red triangles otherwise.\n"
   ]
  },
  {
   "cell_type": "code",
   "execution_count": null,
   "metadata": {
    "collapsed": true
   },
   "outputs": [],
   "source": []
  },
  {
   "cell_type": "code",
   "execution_count": 1,
   "metadata": {
    "collapsed": true
   },
   "outputs": [],
   "source": [
    "# %load solutions/ex1.py"
   ]
  },
  {
   "cell_type": "markdown",
   "metadata": {},
   "source": [
    "# exercise 2\n",
    "\n",
    "plot a 800x800 image of a 2D Gaussian centered at (300,400) with sigma=50\n"
   ]
  },
  {
   "cell_type": "code",
   "execution_count": null,
   "metadata": {
    "collapsed": true
   },
   "outputs": [],
   "source": []
  },
  {
   "cell_type": "code",
   "execution_count": 2,
   "metadata": {
    "collapsed": true
   },
   "outputs": [],
   "source": [
    "# %load solutions/ex2.py"
   ]
  },
  {
   "cell_type": "markdown",
   "metadata": {
    "collapsed": true
   },
   "source": [
    "# exercise 3\n",
    "The shape of a limacon can be defined parametrically as\n",
    "\n",
    "$\\begin{align}\n",
    "r=&r_0+ \\cos \\theta \\\\\n",
    "x=&r \\cos \\theta \\\\\n",
    "y=&r \\sin \\theta \n",
    "\\end{align}$\n",
    "\n",
    "When $r_0= 1$, this curve is called a cardioid.  Use this definition to plot\n",
    "the shape of a limacon for\n",
    "$r_0= 0.8$, $r_0= 1.0$, and $r_0= 1.2$.  \n",
    "Be sure to use enough points that the curve is closed and appears smooth (except for\n",
    "the cusp in the cardioid).  \n",
    "\n",
    "Use a legend to identify which curve is which.\n",
    "\n",
    "Save the plot as a`.pdf` file\n",
    "     "
   ]
  },
  {
   "cell_type": "code",
   "execution_count": null,
   "metadata": {
    "collapsed": true
   },
   "outputs": [],
   "source": []
  },
  {
   "cell_type": "code",
   "execution_count": 3,
   "metadata": {
    "collapsed": true
   },
   "outputs": [],
   "source": [
    "# %load solutions/ex3.py"
   ]
  },
  {
   "cell_type": "markdown",
   "metadata": {
    "collapsed": true
   },
   "source": [
    "# exercise 4\n",
    "\n",
    "Define two numbers, `m` and `s`.\n",
    "Create an array with 1000 points following a Gaussian distribution centered at `m` and with sigma `s`.\n",
    "\n",
    "* Make an histogram of the numbers using a binsize`=s/4`\n",
    "* draw a vertical black solid line at `m`\n",
    "* draw two vertical black dashed lines at `m+s` and `m-s`\n",
    "\n",
    "Find out how to draw vertical lines with matplotlib [GOOGLE]"
   ]
  },
  {
   "cell_type": "code",
   "execution_count": null,
   "metadata": {
    "collapsed": true
   },
   "outputs": [],
   "source": []
  },
  {
   "cell_type": "code",
   "execution_count": 4,
   "metadata": {},
   "outputs": [],
   "source": [
    "# %load solutions/ex4.py\n"
   ]
  },
  {
   "cell_type": "code",
   "execution_count": null,
   "metadata": {
    "collapsed": true
   },
   "outputs": [],
   "source": []
  }
 ],
 "metadata": {
  "kernelspec": {
   "display_name": "Python 3",
   "language": "python",
   "name": "python3"
  },
  "language_info": {
   "codemirror_mode": {
    "name": "ipython",
    "version": 3
   },
   "file_extension": ".py",
   "mimetype": "text/x-python",
   "name": "python",
   "nbconvert_exporter": "python",
   "pygments_lexer": "ipython3",
   "version": "3.6.3"
  }
 },
 "nbformat": 4,
 "nbformat_minor": 2
}
