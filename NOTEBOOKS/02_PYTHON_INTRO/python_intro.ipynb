{
 "cells": [
  {
   "cell_type": "markdown",
   "metadata": {},
   "source": [
    "# Scalar Objects in Python\n",
    "\n",
    "Objects are the fundamental primitives that represent data.\n",
    "\n",
    "Every object has a `type` associated with it that tells what kind of thing it is.\n",
    "The `type` also defines the kind of things that the program can to to the object.\n",
    "\n",
    "Objects can be:\n",
    "* **scalar** (can not be subdivided)\n",
    "* **non-scalar** (they have an internal structure)\n",
    "\n",
    "scalar objects in python are:\n",
    " * `int`: integer numbers, ex 6\n",
    " * `float`: real numbers, ex 3.28\n",
    " * `bool`: boolean values `True` and `False`\n",
    " * `NoneType`: special type. there is only one value which is `None`.\n",
    "\n",
    "Although not explicitly specified, a variable does have a type associated with it. The type is derived from the value that was assigned to it.\n",
    "\n",
    "The built-in function `type` gives the type of an object.\n",
    "\n"
   ]
  },
  {
   "cell_type": "code",
   "execution_count": 1,
   "metadata": {},
   "outputs": [
    {
     "data": {
      "text/plain": [
       "float"
      ]
     },
     "execution_count": 1,
     "metadata": {},
     "output_type": "execute_result"
    }
   ],
   "source": [
    "type(1.4)"
   ]
  },
  {
   "cell_type": "code",
   "execution_count": 2,
   "metadata": {},
   "outputs": [
    {
     "data": {
      "text/plain": [
       "int"
      ]
     },
     "execution_count": 2,
     "metadata": {},
     "output_type": "execute_result"
    }
   ],
   "source": [
    "type(1)"
   ]
  },
  {
   "cell_type": "markdown",
   "metadata": {},
   "source": [
    "## Type casting\n",
    "\n",
    "Sometimes it's necessary to perform conversions between the built-in types. To convert between types you simply use the type name as a function"
   ]
  },
  {
   "cell_type": "code",
   "execution_count": 3,
   "metadata": {},
   "outputs": [
    {
     "data": {
      "text/plain": [
       "1.0"
      ]
     },
     "execution_count": 3,
     "metadata": {},
     "output_type": "execute_result"
    }
   ],
   "source": [
    "float(1)\n"
   ]
  },
  {
   "cell_type": "code",
   "execution_count": 4,
   "metadata": {},
   "outputs": [
    {
     "data": {
      "text/plain": [
       "2"
      ]
     },
     "execution_count": 4,
     "metadata": {},
     "output_type": "execute_result"
    }
   ],
   "source": [
    "int(2.3)\n"
   ]
  },
  {
   "cell_type": "markdown",
   "metadata": {},
   "source": [
    "## operators on `int`s and `float`s\n",
    "* `i +  j ` if both are `int`, results is `int`. if one is `float` the result is float\n",
    "* `i -  j ` if both are `int`, results is `int`. if one is `float` the result is float\n",
    "* `i *  j ` if both are `int`, results is `int`. if one is `float` the result is float\n",
    "* `i /  j ` is *always* a `float` in *python3*\n",
    "* `i // j `   (**integer division**) is always a `int`\n",
    "* `i %  j ` the reminder when `i` is divided by `j`\n",
    "* `i ** j` `i` to the power of `j`\n"
   ]
  },
  {
   "cell_type": "markdown",
   "metadata": {},
   "source": [
    "**NOTE** that the division in python3 always return a float. This does not happen in python2.\n",
    "in python 2 4/2 returns an `int` "
   ]
  },
  {
   "cell_type": "code",
   "execution_count": 5,
   "metadata": {},
   "outputs": [
    {
     "data": {
      "text/plain": [
       "2.0"
      ]
     },
     "execution_count": 5,
     "metadata": {},
     "output_type": "execute_result"
    }
   ],
   "source": [
    "4/2\n"
   ]
  },
  {
   "cell_type": "code",
   "execution_count": null,
   "metadata": {
    "collapsed": true
   },
   "outputs": [],
   "source": []
  },
  {
   "cell_type": "markdown",
   "metadata": {},
   "source": [
    "## Using Python as a calculator"
   ]
  },
  {
   "cell_type": "code",
   "execution_count": 6,
   "metadata": {},
   "outputs": [
    {
     "data": {
      "text/plain": [
       "2"
      ]
     },
     "execution_count": 6,
     "metadata": {},
     "output_type": "execute_result"
    }
   ],
   "source": [
    "1+1"
   ]
  },
  {
   "cell_type": "code",
   "execution_count": 7,
   "metadata": {},
   "outputs": [
    {
     "data": {
      "text/plain": [
       "6"
      ]
     },
     "execution_count": 7,
     "metadata": {},
     "output_type": "execute_result"
    }
   ],
   "source": [
    "3*2"
   ]
  },
  {
   "cell_type": "code",
   "execution_count": 8,
   "metadata": {},
   "outputs": [
    {
     "data": {
      "text/plain": [
       "1.5"
      ]
     },
     "execution_count": 8,
     "metadata": {},
     "output_type": "execute_result"
    }
   ],
   "source": [
    "3/2"
   ]
  },
  {
   "cell_type": "code",
   "execution_count": 9,
   "metadata": {},
   "outputs": [
    {
     "data": {
      "text/plain": [
       "2"
      ]
     },
     "execution_count": 9,
     "metadata": {},
     "output_type": "execute_result"
    }
   ],
   "source": [
    "# (floored) quotient\n",
    "7//3"
   ]
  },
  {
   "cell_type": "code",
   "execution_count": 10,
   "metadata": {},
   "outputs": [
    {
     "data": {
      "text/plain": [
       "1"
      ]
     },
     "execution_count": 10,
     "metadata": {},
     "output_type": "execute_result"
    }
   ],
   "source": [
    "#remainder ( \"7 divided by 3 equals 2 with a remainder of 1\")\n",
    "7%3"
   ]
  },
  {
   "cell_type": "code",
   "execution_count": 11,
   "metadata": {},
   "outputs": [
    {
     "data": {
      "text/plain": [
       "9"
      ]
     },
     "execution_count": 11,
     "metadata": {},
     "output_type": "execute_result"
    }
   ],
   "source": [
    "3**2 # 3 to the power of 2"
   ]
  },
  {
   "cell_type": "markdown",
   "metadata": {},
   "source": [
    "use parentesis to define the order of operations.\n",
    "Without parentesis the *operator precedence* is:\n",
    "\n",
    "1. `**`\n",
    "2. `*`\n",
    "3. `/`\n",
    "4. `-` and `+` "
   ]
  },
  {
   "cell_type": "code",
   "execution_count": 12,
   "metadata": {},
   "outputs": [
    {
     "data": {
      "text/plain": [
       "7"
      ]
     },
     "execution_count": 12,
     "metadata": {},
     "output_type": "execute_result"
    }
   ],
   "source": [
    "1+3*2"
   ]
  },
  {
   "cell_type": "code",
   "execution_count": 13,
   "metadata": {},
   "outputs": [
    {
     "data": {
      "text/plain": [
       "8"
      ]
     },
     "execution_count": 13,
     "metadata": {},
     "output_type": "execute_result"
    }
   ],
   "source": [
    "(1+3)*2"
   ]
  },
  {
   "cell_type": "code",
   "execution_count": 14,
   "metadata": {},
   "outputs": [
    {
     "data": {
      "text/plain": [
       "4.41"
      ]
     },
     "execution_count": 14,
     "metadata": {},
     "output_type": "execute_result"
    }
   ],
   "source": [
    "2.1**2\n",
    "\n"
   ]
  },
  {
   "cell_type": "markdown",
   "metadata": {},
   "source": [
    "# Variable assignment\n",
    "The equal sign is an assignment of a value to a variable name.\n",
    "An assignment *binds* a name to a value "
   ]
  },
  {
   "cell_type": "code",
   "execution_count": 15,
   "metadata": {},
   "outputs": [
    {
     "data": {
      "text/plain": [
       "6"
      ]
     },
     "execution_count": 15,
     "metadata": {},
     "output_type": "execute_result"
    }
   ],
   "source": [
    "a=2\n",
    "b=3\n",
    "c=a*b\n",
    "c"
   ]
  },
  {
   "cell_type": "code",
   "execution_count": 16,
   "metadata": {},
   "outputs": [
    {
     "name": "stdout",
     "output_type": "stream",
     "text": [
      "1\n",
      "1\n",
      "1\n"
     ]
    }
   ],
   "source": [
    "a=b=c=1\n",
    "print (a)\n",
    "print (b)\n",
    "print(c)"
   ]
  },
  {
   "cell_type": "markdown",
   "metadata": {},
   "source": [
    "Normal variable names must start with a letter.\n",
    "\n",
    "By convention, variable names start with a lower-case letter\n",
    "\n",
    "Some special words cannot be used as variable names:\n",
    "```\n",
    "  and, as, assert, break, class, continue, def, del, elif, else, except, \n",
    "  exec, finally, for, from, global, if, import, in, is, lambda, not, or,\n",
    "  pass, print, raise, return, try, while, with, yield\n",
    " ```\n",
    "Note: Be aware of the keyword `lambda`, which could easily be a natural variable name in a scientific program "
   ]
  },
  {
   "cell_type": "code",
   "execution_count": 17,
   "metadata": {
    "collapsed": true
   },
   "outputs": [],
   "source": [
    "# lambda=1 # This can not be done. you will get an error!"
   ]
  },
  {
   "cell_type": "markdown",
   "metadata": {},
   "source": [
    "## Assignment operator\n",
    "\n",
    "There are various compound operators in Python like `a += 5` that adds 5 to the variable and assigns the result to the variable itself. It is equivalent to `a = a + 5`."
   ]
  },
  {
   "cell_type": "code",
   "execution_count": 18,
   "metadata": {},
   "outputs": [
    {
     "name": "stdout",
     "output_type": "stream",
     "text": [
      "11 6 30 5.0 3 1 100\n"
     ]
    }
   ],
   "source": [
    "a=b=c=d=e=f=g=10\n",
    "a += 1\n",
    "b -= 4\n",
    "c *= 3\n",
    "d /= 2\n",
    "e //= 3\n",
    "f %= 3\n",
    "g **= 2\n",
    "print (a,b,c,d,e,f,g)"
   ]
  },
  {
   "cell_type": "markdown",
   "metadata": {},
   "source": [
    "# Comments\n",
    "When working with any programming language, you include comments in the code to notate your work. This details what certain parts of the code are for, and lets other developers – you included – know what you were up to when you wrote the code. This is a necessary practice, and good developers make heavy use of the comment system. Without it, things can get real confusing, real fast.\n",
    "\n",
    "Single-line comments are created with the hash (`#`) character, and they are automatically terminated by the end of line.\n",
    "Everithing on the right of `#` is ignored."
   ]
  },
  {
   "cell_type": "code",
   "execution_count": 19,
   "metadata": {
    "collapsed": true
   },
   "outputs": [],
   "source": [
    "# Comments are useful!\n",
    "\n",
    "a=1\n",
    "a+=2 # increment the variable"
   ]
  },
  {
   "cell_type": "markdown",
   "metadata": {},
   "source": [
    "# Booleans\n",
    "In most computer programming languages, a Boolean data type is a data type with only two possible values: `True` or `False`.\n",
    "They are used to represent truth values\n",
    "\n",
    "The built-in function `bool()` can be used to cast any value to a Boolean,\n",
    "if the value can be interpreted as a truth value."
   ]
  },
  {
   "cell_type": "code",
   "execution_count": 20,
   "metadata": {},
   "outputs": [
    {
     "name": "stdout",
     "output_type": "stream",
     "text": [
      "True\n"
     ]
    }
   ],
   "source": [
    "b=True\n",
    "print (b)"
   ]
  },
  {
   "cell_type": "code",
   "execution_count": 21,
   "metadata": {},
   "outputs": [
    {
     "name": "stdout",
     "output_type": "stream",
     "text": [
      "True\n",
      "False\n"
     ]
    }
   ],
   "source": [
    "a=1\n",
    "b=0\n",
    "\n",
    "a_bool=bool(a)\n",
    "b_bool=bool(b)\n",
    "print (a_bool)\n",
    "print (b_bool)"
   ]
  },
  {
   "cell_type": "markdown",
   "metadata": {},
   "source": [
    "## Comparison operators for `int` and `float`.\n",
    "These operators compare the values on either sides of them and decide the relation among them.\n",
    "Comparisons yield boolean values.\n",
    "```\n",
    "     <  :lower than \n",
    "     >  : greater than\n",
    "     == : equal to\n",
    "     >= :greater or equal to\n",
    "     <= : lower or equal to\n",
    "     != : not equal to\n",
    "```"
   ]
  },
  {
   "cell_type": "code",
   "execution_count": 22,
   "metadata": {},
   "outputs": [
    {
     "name": "stdout",
     "output_type": "stream",
     "text": [
      "True\n",
      "False\n",
      "True\n"
     ]
    }
   ],
   "source": [
    "print ( 1 != 2)\n",
    "print ( 4 < 2)\n",
    "a=4\n",
    "b=3\n",
    "c=12\n",
    "print ( a*b == c)\n"
   ]
  },
  {
   "cell_type": "code",
   "execution_count": 23,
   "metadata": {},
   "outputs": [
    {
     "data": {
      "text/plain": [
       "True"
      ]
     },
     "execution_count": 23,
     "metadata": {},
     "output_type": "execute_result"
    }
   ],
   "source": [
    "2==2.0"
   ]
  },
  {
   "cell_type": "markdown",
   "metadata": {},
   "source": [
    "## Logic operators on `bool`\n",
    "The boolean operators are spelled out as the words `and`, `or`, `not`.\n",
    "\n",
    "```python \n",
    "a and b # return True if both are True\n",
    "a or  b # return True if either or both are True\n",
    "not a   # reverse the logical state of a\n",
    "\n",
    "``` \n"
   ]
  },
  {
   "cell_type": "code",
   "execution_count": 24,
   "metadata": {},
   "outputs": [
    {
     "name": "stdout",
     "output_type": "stream",
     "text": [
      "True\n",
      "False\n",
      "False\n"
     ]
    }
   ],
   "source": [
    "print (True  and True)\n",
    "print (False and True)\n",
    "print (False and False)\n"
   ]
  },
  {
   "cell_type": "code",
   "execution_count": 25,
   "metadata": {},
   "outputs": [
    {
     "name": "stdout",
     "output_type": "stream",
     "text": [
      "True\n",
      "True\n",
      "False\n"
     ]
    }
   ],
   "source": [
    "print (True  or True)\n",
    "print (False or True)\n",
    "print (False or False)"
   ]
  },
  {
   "cell_type": "code",
   "execution_count": 26,
   "metadata": {},
   "outputs": [
    {
     "name": "stdout",
     "output_type": "stream",
     "text": [
      "False\n",
      "True\n"
     ]
    }
   ],
   "source": [
    "print (not True)\n",
    "print (not False)\n"
   ]
  },
  {
   "cell_type": "markdown",
   "metadata": {},
   "source": [
    "## Combining them"
   ]
  },
  {
   "cell_type": "code",
   "execution_count": 27,
   "metadata": {},
   "outputs": [
    {
     "name": "stdout",
     "output_type": "stream",
     "text": [
      "True\n",
      "False\n",
      "True\n"
     ]
    }
   ],
   "source": [
    "a=1\n",
    "b=2\n",
    "c=3\n",
    "\n",
    "print ( (a==b) or (b<c) )\n",
    "print ( (a>b) and (b<c) )\n",
    "print ( not a>b )"
   ]
  },
  {
   "cell_type": "markdown",
   "metadata": {},
   "source": [
    "# Conditional statements: `if`, `elif`, `else`\n",
    "\n",
    "The Python syntax for conditional execution of code uses the keywords `if`, `elif` (else if), `else`\n",
    "\n",
    "For the first time, here we find a peculiar and unusual aspect of the Python programming language: Program blocks are defined by their indentation level."
   ]
  },
  {
   "cell_type": "code",
   "execution_count": 28,
   "metadata": {},
   "outputs": [
    {
     "name": "stdout",
     "output_type": "stream",
     "text": [
      "Even\n",
      "done with conditional\n"
     ]
    }
   ],
   "source": [
    "a=4\n",
    "\n",
    "if a%2==0 :\n",
    "    # block executed if True\n",
    "    print(\"Even\")\n",
    "else:\n",
    "    # block executed if False\n",
    "    print(\"Odd\")\n",
    "    \n",
    "print(\"done with conditional\")"
   ]
  },
  {
   "cell_type": "markdown",
   "metadata": {},
   "source": [
    "* the `else` block is optional\n",
    "* you can also decide to add another test, using `elif`"
   ]
  },
  {
   "cell_type": "code",
   "execution_count": 29,
   "metadata": {},
   "outputs": [
    {
     "name": "stdout",
     "output_type": "stream",
     "text": [
      "statement1 is True\n"
     ]
    }
   ],
   "source": [
    "statement1 = True\n",
    "statement2 = True\n",
    "\n",
    "if statement1:\n",
    "    print(\"statement1 is True\")\n",
    "    \n",
    "elif statement2:\n",
    "    print(\"statemend1 is False and statement2 is True\")\n",
    "    \n",
    "else:\n",
    "    print(\"statement1 and statement2 are False\")"
   ]
  },
  {
   "cell_type": "code",
   "execution_count": 30,
   "metadata": {},
   "outputs": [
    {
     "name": "stdout",
     "output_type": "stream",
     "text": [
      "a is positive and not <10 or >10\n",
      "a is 10!\n"
     ]
    }
   ],
   "source": [
    "a=10\n",
    "\n",
    "if a<0:\n",
    "    print (\"a is negative\")\n",
    "elif (a>=0) and (a<10):\n",
    "    print (\"a positive and <10\")\n",
    "elif (a>10):\n",
    "    print (\"a is positive and >10\")\n",
    "else:\n",
    "    print (\"a is positive and not <10 or >10\")\n",
    "    print (\"a is 10!\")"
   ]
  },
  {
   "cell_type": "markdown",
   "metadata": {},
   "source": [
    "## indentation\n",
    "is used to define block of codes. You can have nested conditionals\n"
   ]
  },
  {
   "cell_type": "code",
   "execution_count": 31,
   "metadata": {},
   "outputs": [
    {
     "name": "stdout",
     "output_type": "stream",
     "text": [
      "divisible by 2 and 3\n"
     ]
    }
   ],
   "source": [
    "a=6\n",
    "if a%2==0:\n",
    "    if a%3==0:\n",
    "        print(\"divisible by 2 and 3\")\n",
    "    else:\n",
    "        print(\"divisible by 2 and not by 3\")\n",
    "elif a%3==0:\n",
    "    print (\"divisible by 3 and not by 2\")"
   ]
  },
  {
   "cell_type": "markdown",
   "metadata": {},
   "source": [
    "# `while` loops\n",
    "repeat a block of code while a condition is True\n",
    "\n",
    "```python\n",
    "while condition:\n",
    "    dosomething\n",
    "    dosomethingelse\n",
    "```"
   ]
  },
  {
   "cell_type": "code",
   "execution_count": 32,
   "metadata": {},
   "outputs": [
    {
     "name": "stdout",
     "output_type": "stream",
     "text": [
      "0 is <5\n",
      "1 is <5\n",
      "2 is <5\n",
      "3 is <5\n",
      "4 is <5\n",
      "5 is NOT <5\n"
     ]
    }
   ],
   "source": [
    "i = 0\n",
    "\n",
    "while i < 5:\n",
    "    print(i,\"is <5\")\n",
    "    \n",
    "    i = i + 1\n",
    "print(i,\"is NOT <5\")"
   ]
  },
  {
   "cell_type": "markdown",
   "metadata": {},
   "source": [
    "### <span style=\"color:red\">EXERCISE:</span> find the square root of a number: BRUTE FORCE\n",
    "\n",
    "We want to calculate the square root of `n` with a given precision. \n",
    "Let's start guessing that the answer is 1; we will increment this nuber while we get close to the real value.\n",
    "\n",
    "to test if our guess `ans` is **not** close, we use the condition\n",
    "```python\n",
    "    abs(ans**2-n)>epsilon\n",
    "```\n",
    "we loop while the condition is `False`, which means that `ans**2` is close to `n`\n"
   ]
  },
  {
   "cell_type": "code",
   "execution_count": 33,
   "metadata": {},
   "outputs": [
    {
     "name": "stdout",
     "output_type": "stream",
     "text": [
      "4.999999999892978\n",
      "Number of iterations: 800000\n"
     ]
    }
   ],
   "source": [
    "n=25\n",
    "\n",
    "epsilon=0.00001 # this is the maximum error allowed\n",
    "step=epsilon/2\n",
    "ans=1\n",
    "count=0\n",
    "while abs(ans**2-n)>epsilon:\n",
    "    count+=1\n",
    "    ans+=step\n",
    "print (ans)  \n",
    "print (\"Number of iterations:\",count)"
   ]
  },
  {
   "cell_type": "markdown",
   "metadata": {},
   "source": [
    "### <span style=\"color:red\">EXERCISE:</span> find the square root of a number: BISECTION SEARCH\n",
    "\n",
    "We want to calculate the square root `r` of `n` with a given precision. We will use an iterative algorithm called BISECTION SEARCH.\n",
    "\n",
    "We know that the square root of `n` is a number in the interval [1,n]. Let's take the mid-point of the interval: x=(1+n)/2.\n",
    "\n",
    "* if x**2>n then `r` is in the first half of the interval [1,x], else it is in [x,n]\n",
    "* we not have a new interval [low,high]. Let's take the new mid-point x=(low-high)/2 and repeat again.\n",
    "\n",
    "continue while \n",
    "abs(x**2-n)>epsilon"
   ]
  },
  {
   "cell_type": "code",
   "execution_count": 34,
   "metadata": {},
   "outputs": [
    {
     "name": "stdout",
     "output_type": "stream",
     "text": [
      "4.999999046325684\n",
      "Number of iterations: 22\n"
     ]
    }
   ],
   "source": [
    "n=25\n",
    "epsilon=0.00001 # this is the maximum error allowed\n",
    "low=1\n",
    "high=n\n",
    "r=(low+high)/2.0\n",
    "count=0\n",
    "while abs(r**2-n)>epsilon:\n",
    "    count+=1\n",
    "    if r**2>n:\n",
    "        high=r\n",
    "    else:\n",
    "        low=r\n",
    "    r=(low+high)/2.0\n",
    "print (r)  \n",
    "print (\"Number of iterations:\",count)\n",
    "    "
   ]
  },
  {
   "cell_type": "code",
   "execution_count": null,
   "metadata": {
    "collapsed": true
   },
   "outputs": [],
   "source": []
  },
  {
   "cell_type": "code",
   "execution_count": null,
   "metadata": {
    "collapsed": true
   },
   "outputs": [],
   "source": []
  },
  {
   "cell_type": "markdown",
   "metadata": {},
   "source": [
    "# Strings\n",
    "`str` is another type of object (like `int`, `float`, and `bool`).\n",
    "String are sequences of characthers, defined by `\"` or `'`\n"
   ]
  },
  {
   "cell_type": "code",
   "execution_count": 35,
   "metadata": {},
   "outputs": [
    {
     "data": {
      "text/plain": [
       "str"
      ]
     },
     "execution_count": 35,
     "metadata": {},
     "output_type": "execute_result"
    }
   ],
   "source": [
    "s=\"Hello\"\n",
    "type(s)"
   ]
  },
  {
   "cell_type": "markdown",
   "metadata": {},
   "source": [
    "you can enclose `'` in `\"` and `\"` in `'`"
   ]
  },
  {
   "cell_type": "code",
   "execution_count": 36,
   "metadata": {},
   "outputs": [
    {
     "name": "stdout",
     "output_type": "stream",
     "text": [
      "that's fun\n",
      "this is a double quote \"\n"
     ]
    }
   ],
   "source": [
    "s1=\"that's fun\"\n",
    "s2='this is a double quote \"'\n",
    "print (s1)\n",
    "print (s2)"
   ]
  },
  {
   "cell_type": "code",
   "execution_count": 37,
   "metadata": {},
   "outputs": [
    {
     "name": "stdout",
     "output_type": "stream",
     "text": [
      "Hello world\n",
      "Helloworld\n"
     ]
    }
   ],
   "source": [
    "str1=\"Hello\"\n",
    "str2=\"world\"\n",
    "print(str1,str2) # The print statement concatenates strings with a space\n",
    "print(str1+str2) # strings added with + are concatenated without space"
   ]
  },
  {
   "cell_type": "markdown",
   "metadata": {},
   "source": [
    "## The old fashion way of formating outputs (C-style)\n",
    "\n",
    "Python uses C-style string formatting to create new, formatted strings. The `%` operator is used to format a set of variables enclosed in a \"tuple\" (a fixed size list), together with a format string, which contains normal text together with \"argument specifiers\", special symbols like `%s` and `%d`."
   ]
  },
  {
   "cell_type": "code",
   "execution_count": 38,
   "metadata": {},
   "outputs": [
    {
     "name": "stdout",
     "output_type": "stream",
     "text": [
      "a is 13.200000 and b is 3\n"
     ]
    }
   ],
   "source": [
    "a=13.2\n",
    "b=3\n",
    "print (\"a is %f and b is %d\"%(a,b))"
   ]
  },
  {
   "cell_type": "markdown",
   "metadata": {},
   "source": [
    "Some basic argument specifiers you should know:\n",
    "* `%s` : String (or any object with a string representation, like numbers)\n",
    "* `%d` : Signed integer decimal\n",
    "* `%f` : Floating point decimal format\n",
    "* `%e` : Floating point exponential format"
   ]
  },
  {
   "cell_type": "code",
   "execution_count": 39,
   "metadata": {},
   "outputs": [
    {
     "name": "stdout",
     "output_type": "stream",
     "text": [
      "a is 13.200000 but it is also 1.320000e+01\n"
     ]
    }
   ],
   "source": [
    "print (\"a is %f but it is also %e\"%(a,a))"
   ]
  },
  {
   "cell_type": "markdown",
   "metadata": {},
   "source": [
    "you can specify :\n",
    "* the total width of the output string\n",
    "* the number of decimal digits (with %f or %a)"
   ]
  },
  {
   "cell_type": "code",
   "execution_count": 40,
   "metadata": {},
   "outputs": [
    {
     "name": "stdout",
     "output_type": "stream",
     "text": [
      "10 spaces and 3 decimal digits     13.200 !\n",
      "10 spaces and 3 decimal digits 13.200     left-aligned!\n"
     ]
    }
   ],
   "source": [
    "print (\"10 spaces and 3 decimal digits %10.3f !\"%a)\n",
    "print (\"10 spaces and 3 decimal digits %-10.3f left-aligned!\"%a) # note the - after %\n"
   ]
  },
  {
   "cell_type": "markdown",
   "metadata": {
    "collapsed": true
   },
   "source": [
    "## The new way"
   ]
  },
  {
   "cell_type": "code",
   "execution_count": 41,
   "metadata": {},
   "outputs": [
    {
     "name": "stdout",
     "output_type": "stream",
     "text": [
      "Hello world\n"
     ]
    }
   ],
   "source": [
    "print (\"{} {}\".format(str1,str2))"
   ]
  },
  {
   "cell_type": "markdown",
   "metadata": {},
   "source": [
    "The replacement fields delimited by braces `{}` can contain the numeric index of  positional argument.\n",
    "`.format()` returns a copy of the string where each replacement field is replaced with the string value of the corresponding argument.\n",
    " "
   ]
  },
  {
   "cell_type": "code",
   "execution_count": 42,
   "metadata": {},
   "outputs": [
    {
     "name": "stdout",
     "output_type": "stream",
     "text": [
      "Hello world\n",
      "world Hello\n",
      "Hello world, HelloHello!\n"
     ]
    }
   ],
   "source": [
    "print (\"{0} {1}\".format(str1,str2)) # this is equivalent to the previous example\n",
    "print (\"{1} {0}\".format(str1,str2))\n",
    "print (\"{0} {1}, {0}{0}!\".format(str1,str2))\n"
   ]
  },
  {
   "cell_type": "markdown",
   "metadata": {},
   "source": [
    "As for the old-style you can specify the width of the string and the precision"
   ]
  },
  {
   "cell_type": "code",
   "execution_count": 43,
   "metadata": {},
   "outputs": [
    {
     "name": "stdout",
     "output_type": "stream",
     "text": [
      "|    13.20|Marco    |\n"
     ]
    }
   ],
   "source": [
    "a=13.2\n",
    "s=\"Marco\"\n",
    "print (\"|{0:9.2f}|{1:9s}|\".format(a,s))\n"
   ]
  },
  {
   "cell_type": "markdown",
   "metadata": {},
   "source": [
    "By default, numbers are  right-aligned within the available space, while most other objects are left align"
   ]
  },
  {
   "cell_type": "code",
   "execution_count": 44,
   "metadata": {},
   "outputs": [
    {
     "name": "stdout",
     "output_type": "stream",
     "text": [
      "|    13.20|    Marco|\n",
      "|13.20    |Marco    |\n",
      "|  13.20  |  Marco  |\n"
     ]
    }
   ],
   "source": [
    "print (\"|{0:>9.2f}|{1:>9s}|\".format(a,s)) # > Force the field to be left-aligned within the available space \n",
    "print (\"|{0:<9.2f}|{1:<9s}|\".format(a,s)) # < right-aligned\n",
    "print (\"|{0:^9.2f}|{1:^9s}|\".format(a,s)) # ^ centered\n"
   ]
  },
  {
   "cell_type": "markdown",
   "metadata": {},
   "source": [
    "much more on string formatting: [https://pyformat.info/](https://pyformat.info/)"
   ]
  },
  {
   "cell_type": "markdown",
   "metadata": {},
   "source": [
    "# Containers: Tuples, Lists and Dictionaries\n"
   ]
  },
  {
   "cell_type": "markdown",
   "metadata": {},
   "source": [
    "### list: a collection of objects. May be of different types. It has an order.\n",
    "a list is defined using `[]`"
   ]
  },
  {
   "cell_type": "code",
   "execution_count": 45,
   "metadata": {},
   "outputs": [
    {
     "data": {
      "text/plain": [
       "list"
      ]
     },
     "execution_count": 45,
     "metadata": {},
     "output_type": "execute_result"
    }
   ],
   "source": [
    "l = ['red','green','blue'] # squared brackets are used to define lists\n",
    "type(l)"
   ]
  },
  {
   "cell_type": "code",
   "execution_count": 46,
   "metadata": {},
   "outputs": [
    {
     "name": "stdout",
     "output_type": "stream",
     "text": [
      "green\n",
      "red\n"
     ]
    }
   ],
   "source": [
    "# indexes start at 0 !!!\n",
    "print (l[1])\n",
    "print (l[0])"
   ]
  },
  {
   "cell_type": "code",
   "execution_count": 47,
   "metadata": {},
   "outputs": [
    {
     "name": "stdout",
     "output_type": "stream",
     "text": [
      "True\n",
      "False\n"
     ]
    }
   ],
   "source": [
    "print ('red' in l)\n",
    "print ('Marco' in l)"
   ]
  },
  {
   "cell_type": "code",
   "execution_count": 48,
   "metadata": {},
   "outputs": [
    {
     "name": "stdout",
     "output_type": "stream",
     "text": [
      "blue\n",
      "green\n",
      "3\n"
     ]
    }
   ],
   "source": [
    "# use - to start counting from the last element\n",
    "print (l[-1]) # last element\n",
    "print (l[-2]) # second-last element\n",
    "print (len(l)) # number of elements"
   ]
  },
  {
   "cell_type": "code",
   "execution_count": 49,
   "metadata": {},
   "outputs": [
    {
     "data": {
      "text/plain": [
       "['yellow', 'purple', 'black', 'white']"
      ]
     },
     "execution_count": 49,
     "metadata": {},
     "output_type": "execute_result"
    }
   ],
   "source": [
    "l = ['red','green','blue'] # squared brackets are used to define lists\n",
    "l1 = ['yellow','purple']\n",
    "l2=['black','white']\n",
    "# the + symbols are used to aggregate lists\n",
    "l1+l2"
   ]
  },
  {
   "cell_type": "code",
   "execution_count": 50,
   "metadata": {},
   "outputs": [
    {
     "name": "stdout",
     "output_type": "stream",
     "text": [
      "['red', 'green', 'blue', 'yellow', 'purple']\n",
      "['red', 'green', 'blue', 'yellow', 'purple', 'black', 'white']\n"
     ]
    }
   ],
   "source": [
    "# to add elements to one list you can use the += operator (add to itself)\n",
    "l+=l1\n",
    "print (l)\n",
    "#or the extend method\n",
    "l.extend(l2)\n",
    "print (l)"
   ]
  },
  {
   "cell_type": "code",
   "execution_count": 51,
   "metadata": {},
   "outputs": [
    {
     "name": "stdout",
     "output_type": "stream",
     "text": [
      "['red', 'green', 'magenta', 'blue', 'yellow', 'purple', 'black', 'white']\n",
      "['red', 'green', 'magenta', 'blue', 'yellow', 'purple', 'brown', 'white']\n",
      "['red', 'green', 'magenta', 'blue', 'yellow', 'purple', 'brown', 'white', 123, ['yellow', 'purple']]\n",
      "['red', 'green', 'magenta', 'blue', 'yellow', 'purple', 'brown', 'white', ['yellow', 'purple']]\n",
      "['red', 'green', 'magenta', 'blue', 'yellow', 'purple', 'brown', 'white']\n"
     ]
    }
   ],
   "source": [
    "l.insert(2, 'magenta')    #L.insert(index, object) -- insert object before index\n",
    "print (l)\n",
    "# Lists are mutable: their content can be modified.\n",
    "l[-2]='brown'\n",
    "print (l)\n",
    "# Lists elements can be of different type.\n",
    "# append an object\n",
    "l.append(123)\n",
    "l.append(l1) # this append a list to the list! extend append each element!\n",
    "print (l)\n",
    "# remove the second-last\n",
    "l.pop(-2) \n",
    "print (l)\n",
    "l.pop() # pop with no arguments remove the last one\n",
    "print (l)"
   ]
  },
  {
   "cell_type": "markdown",
   "metadata": {},
   "source": [
    "#### list slicing\n",
    "```\n",
    "l[start:stop] : elements if index i, where start <= i < stop !! stop not included !!\n",
    "```\n",
    "is used to select a sub-list, use\n",
    "\n"
   ]
  },
  {
   "cell_type": "code",
   "execution_count": 52,
   "metadata": {},
   "outputs": [
    {
     "name": "stdout",
     "output_type": "stream",
     "text": [
      "['red', 'green', 'magenta', 'blue', 'yellow', 'purple', 'brown', 'white']\n"
     ]
    },
    {
     "data": {
      "text/plain": [
       "['green', 'magenta', 'blue', 'yellow', 'purple']"
      ]
     },
     "execution_count": 52,
     "metadata": {},
     "output_type": "execute_result"
    }
   ],
   "source": [
    "print (l)\n",
    "l[1:6]"
   ]
  },
  {
   "cell_type": "code",
   "execution_count": 53,
   "metadata": {},
   "outputs": [
    {
     "data": {
      "text/plain": [
       "['green', 'blue', 'purple']"
      ]
     },
     "execution_count": 53,
     "metadata": {},
     "output_type": "execute_result"
    }
   ],
   "source": [
    "# l[start:stop:step]\n",
    "l[1:6:2]"
   ]
  },
  {
   "cell_type": "code",
   "execution_count": 54,
   "metadata": {},
   "outputs": [
    {
     "name": "stdout",
     "output_type": "stream",
     "text": [
      "['red', 'green', 'magenta', 'blue', 'yellow', 'purple', 'brown', 'white']\n",
      "['red', 'green']\n",
      "['yellow', 'purple', 'brown', 'white']\n",
      "['green', 'magenta', 'blue', 'yellow', 'purple']\n",
      "['red', 'magenta', 'yellow', 'brown']\n",
      "['white', 'brown', 'purple', 'yellow', 'blue', 'magenta', 'green', 'red']\n"
     ]
    }
   ],
   "source": [
    "print (l)\n",
    "print (l[:2])  # from the beginning to position 2 (excluded)\n",
    "print (l[4:])  # from position 4 (included) to the end\n",
    "print (l[1:-2])# from position 1(included) to the second-last (excluded) \n",
    "print (l[::2])\n",
    "print (l[::-1]) # reverse!\n"
   ]
  },
  {
   "cell_type": "markdown",
   "metadata": {},
   "source": [
    "slices works also on strings (they are list of characters!)"
   ]
  },
  {
   "cell_type": "code",
   "execution_count": 55,
   "metadata": {},
   "outputs": [
    {
     "name": "stdout",
     "output_type": "stream",
     "text": [
      "python\n",
      "py\n",
      "on\n",
      "yth\n",
      "pto\n",
      "nohtyp\n"
     ]
    }
   ],
   "source": [
    "l='python'\n",
    "print (l)\n",
    "print (l[:2])  # from the beginning to position 2 (excluded)\n",
    "print (l[4:])  # from position 4 (included) to the end\n",
    "print (l[1:-2])# from position 1(included) to the second-last (excluded) \n",
    "print (l[::2])\n",
    "print (l[::-1]) # reverse!"
   ]
  },
  {
   "cell_type": "markdown",
   "metadata": {},
   "source": [
    "One way to remember how slices work is to think of the indices as pointing between characters, with the left edge of the first character numbered 0. Then the right edge of the last character of a string of n characters has index n, for example:\n",
    "```\n",
    " +---+---+---+---+---+---+\n",
    " | P | y | t | h | o | n |\n",
    " +---+---+---+---+---+---+\n",
    " 0   1   2   3   4   5   6\n",
    "-6  -5  -4  -3  -2  -1\n",
    "```\n"
   ]
  },
  {
   "cell_type": "markdown",
   "metadata": {},
   "source": [
    "### tuples: like lists, but inmutables\n",
    "a tuple is defined using `()`"
   ]
  },
  {
   "cell_type": "code",
   "execution_count": 56,
   "metadata": {},
   "outputs": [
    {
     "data": {
      "text/plain": [
       "tuple"
      ]
     },
     "execution_count": 56,
     "metadata": {},
     "output_type": "execute_result"
    }
   ],
   "source": [
    "t=(1,3,4)\n",
    "type(t)"
   ]
  },
  {
   "cell_type": "code",
   "execution_count": 57,
   "metadata": {},
   "outputs": [
    {
     "data": {
      "text/plain": [
       "3"
      ]
     },
     "execution_count": 57,
     "metadata": {},
     "output_type": "execute_result"
    }
   ],
   "source": [
    "t[1]"
   ]
  },
  {
   "cell_type": "code",
   "execution_count": 58,
   "metadata": {
    "collapsed": true
   },
   "outputs": [],
   "source": [
    "# t[0]=2 # this can not be done"
   ]
  },
  {
   "cell_type": "markdown",
   "metadata": {},
   "source": [
    "### Dictionnaries\n",
    "\n",
    "A dictionary is basically an efficient table that maps *keys* to *values*. It is an unordered container.\n",
    "it is defined using `{}`"
   ]
  },
  {
   "cell_type": "code",
   "execution_count": 59,
   "metadata": {},
   "outputs": [
    {
     "data": {
      "text/plain": [
       "dict"
      ]
     },
     "execution_count": 59,
     "metadata": {},
     "output_type": "execute_result"
    }
   ],
   "source": [
    "d={\"John\":13, 'Mary':54}\n",
    "type(d)"
   ]
  },
  {
   "cell_type": "code",
   "execution_count": 60,
   "metadata": {},
   "outputs": [
    {
     "data": {
      "text/plain": [
       "54"
      ]
     },
     "execution_count": 60,
     "metadata": {},
     "output_type": "execute_result"
    }
   ],
   "source": [
    "d['Mary'] # access to a value by the key"
   ]
  },
  {
   "cell_type": "code",
   "execution_count": 61,
   "metadata": {},
   "outputs": [
    {
     "data": {
      "text/plain": [
       "dict_keys(['John', 'Mary'])"
      ]
     },
     "execution_count": 61,
     "metadata": {},
     "output_type": "execute_result"
    }
   ],
   "source": [
    "d.keys() # list of the dictionary keys"
   ]
  },
  {
   "cell_type": "code",
   "execution_count": 62,
   "metadata": {},
   "outputs": [
    {
     "data": {
      "text/plain": [
       "{'John': 13, 'Mary': 27, 'Paul': 5}"
      ]
     },
     "execution_count": 62,
     "metadata": {},
     "output_type": "execute_result"
    }
   ],
   "source": [
    "d[\"Mary\"]=27 # modify a value\n",
    "d[\"Paul\"]=5  # if the key does not exist it is created \n",
    "d"
   ]
  },
  {
   "cell_type": "code",
   "execution_count": 63,
   "metadata": {},
   "outputs": [
    {
     "name": "stdout",
     "output_type": "stream",
     "text": [
      "True\n",
      "False\n"
     ]
    }
   ],
   "source": [
    "print ('Mary' in d.keys())\n",
    "print ('Marco' in d.keys())\n"
   ]
  },
  {
   "cell_type": "markdown",
   "metadata": {},
   "source": [
    "# Random numbers\n",
    "To use random number you have to import the `random` module"
   ]
  },
  {
   "cell_type": "code",
   "execution_count": 64,
   "metadata": {
    "collapsed": true
   },
   "outputs": [],
   "source": [
    "import random"
   ]
  },
  {
   "cell_type": "markdown",
   "metadata": {},
   "source": [
    "This module implements pseudo-random number generators for various distributions."
   ]
  },
  {
   "cell_type": "code",
   "execution_count": 65,
   "metadata": {},
   "outputs": [
    {
     "name": "stdout",
     "output_type": "stream",
     "text": [
      "6\n",
      "3.927672135870765\n",
      "0.9272767605127495\n"
     ]
    }
   ],
   "source": [
    "print (random.randint(1,22))  # a random integer between 1 and 22\n",
    "print (random.uniform(1, 22)) # a float\n",
    "print (random.random())       # floating point number in the range [0.0, 1.0)."
   ]
  },
  {
   "cell_type": "code",
   "execution_count": 66,
   "metadata": {},
   "outputs": [
    {
     "name": "stdout",
     "output_type": "stream",
     "text": [
      "11\n",
      "[11, 8, 6]\n"
     ]
    }
   ],
   "source": [
    "l=[2,4,5,6,8,11]\n",
    "print (random.choice(l))    # a random element from a list\n",
    "print (random.sample(l, 3)) # randomly extract some (3 in this case) numbers from a list\n",
    "    "
   ]
  },
  {
   "cell_type": "code",
   "execution_count": 67,
   "metadata": {},
   "outputs": [
    {
     "name": "stdout",
     "output_type": "stream",
     "text": [
      "[2, 4, 5, 6, 8, 11]\n",
      "[5, 4, 11, 2, 6, 8]\n"
     ]
    }
   ],
   "source": [
    "l=[2,4,5,6,8,11]\n",
    "print (l)\n",
    "random.shuffle(l)\n",
    "print (l)"
   ]
  },
  {
   "cell_type": "markdown",
   "metadata": {},
   "source": [
    "Read the [official help](https://docs.python.org/library/random.html) for more options\n"
   ]
  },
  {
   "cell_type": "markdown",
   "metadata": {},
   "source": [
    "###  <span style=\"color:red\">EXERCISE:</span> flip a coin\n",
    "\n",
    "generate a coin flipper: \n",
    "* randomly choose 1 or 0\n",
    "* print on the screen if the number that was extracted is 0"
   ]
  },
  {
   "cell_type": "code",
   "execution_count": 68,
   "metadata": {
    "collapsed": true
   },
   "outputs": [],
   "source": [
    "# write your code here\n",
    "\n"
   ]
  },
  {
   "cell_type": "markdown",
   "metadata": {},
   "source": [
    "uncomment the first line on the following cell and run the cell to see the solution"
   ]
  },
  {
   "cell_type": "code",
   "execution_count": 69,
   "metadata": {
    "collapsed": true
   },
   "outputs": [],
   "source": [
    "# %load solutions/coin_flip.py"
   ]
  },
  {
   "cell_type": "markdown",
   "metadata": {},
   "source": [
    "# Mathematical functions\n",
    "The `math` modules provides access to a large number of mathematical functions.\n",
    "\n",
    "The complete list is here: https://docs.python.org/2/library/math.html"
   ]
  },
  {
   "cell_type": "code",
   "execution_count": 70,
   "metadata": {},
   "outputs": [
    {
     "name": "stdout",
     "output_type": "stream",
     "text": [
      "log10(100) =  2.0\n",
      "30 deg in radians = 0.52360\n",
      "sin(a_rad) = 0.50000\n"
     ]
    }
   ],
   "source": [
    "import math\n",
    "print (\"log10(100) = \",math.log10(100))\n",
    "\n",
    "# convert from degrees to radians\n",
    "a_rad=math.radians(30)\n",
    "print (\"30 deg in radians = %.5f\"%a_rad)\n",
    "sin_a=math.sin(a_rad) # angles in trigonometric functions are always in radians\n",
    "print (\"sin(a_rad) = %.5f\"%sin_a)"
   ]
  },
  {
   "cell_type": "code",
   "execution_count": 71,
   "metadata": {},
   "outputs": [
    {
     "name": "stdout",
     "output_type": "stream",
     "text": [
      "2.718281828459045\n",
      "3.141592653589793\n"
     ]
    }
   ],
   "source": [
    "# you also have pi and e\n",
    "print (math.e)\n",
    "print (math.pi)"
   ]
  },
  {
   "cell_type": "markdown",
   "metadata": {},
   "source": [
    "# Basic string operations"
   ]
  },
  {
   "cell_type": "markdown",
   "metadata": {},
   "source": [
    "## append and repeat"
   ]
  },
  {
   "cell_type": "code",
   "execution_count": 72,
   "metadata": {},
   "outputs": [
    {
     "name": "stdout",
     "output_type": "stream",
     "text": [
      "HelloWorld\n"
     ]
    }
   ],
   "source": [
    "s1=\"Hello\"\n",
    "s2=\"World\"\n",
    "sum=s1+s2\n",
    "print (sum)"
   ]
  },
  {
   "cell_type": "code",
   "execution_count": 73,
   "metadata": {},
   "outputs": [
    {
     "name": "stdout",
     "output_type": "stream",
     "text": [
      "HelloHelloHello\n"
     ]
    }
   ],
   "source": [
    "repetita=s1*3\n",
    "print (repetita)"
   ]
  },
  {
   "cell_type": "markdown",
   "metadata": {},
   "source": [
    "## uppercase and lowercase"
   ]
  },
  {
   "cell_type": "code",
   "execution_count": 74,
   "metadata": {},
   "outputs": [
    {
     "name": "stdout",
     "output_type": "stream",
     "text": [
      "HELLO WORLD!\n",
      "hello world!\n"
     ]
    }
   ],
   "source": [
    "astring = \"Hello world!\"\n",
    "print(astring.upper())\n",
    "print(astring.lower())"
   ]
  },
  {
   "cell_type": "markdown",
   "metadata": {},
   "source": [
    "## split\n",
    "split a string using \n",
    "whitespaces as a separator."
   ]
  },
  {
   "cell_type": "code",
   "execution_count": 75,
   "metadata": {},
   "outputs": [
    {
     "data": {
      "text/plain": [
       "['hello', 'word']"
      ]
     },
     "execution_count": 75,
     "metadata": {},
     "output_type": "execute_result"
    }
   ],
   "source": [
    "s1=\"hello word\"\n",
    "s1.split()"
   ]
  },
  {
   "cell_type": "markdown",
   "metadata": {},
   "source": [
    "it is possible to define a separator"
   ]
  },
  {
   "cell_type": "code",
   "execution_count": 76,
   "metadata": {},
   "outputs": [
    {
     "data": {
      "text/plain": [
       "['hello world', ' how are you?']"
      ]
     },
     "execution_count": 76,
     "metadata": {},
     "output_type": "execute_result"
    }
   ],
   "source": [
    "\n",
    "s2=\"hello world, how are you?\"\n",
    "s2.split(\",\")"
   ]
  },
  {
   "cell_type": "markdown",
   "metadata": {},
   "source": [
    "## join\n",
    "join a list of strings using an optional separator.\n",
    "The separator between elements is the string providing this method."
   ]
  },
  {
   "cell_type": "code",
   "execution_count": 77,
   "metadata": {},
   "outputs": [
    {
     "data": {
      "text/plain": [
       "'a, b, c'"
      ]
     },
     "execution_count": 77,
     "metadata": {},
     "output_type": "execute_result"
    }
   ],
   "source": [
    "l=[\"a\",\"b\",\"c\"]\n",
    "s=\", \"\n",
    "s.join(l)"
   ]
  },
  {
   "cell_type": "markdown",
   "metadata": {},
   "source": [
    "# `for` loops\n"
   ]
  },
  {
   "cell_type": "code",
   "execution_count": 78,
   "metadata": {},
   "outputs": [
    {
     "name": "stdout",
     "output_type": "stream",
     "text": [
      "1\n",
      "2\n",
      "3\n"
     ]
    }
   ],
   "source": [
    "for x in [1,2,3]:\n",
    "    print(x)"
   ]
  },
  {
   "cell_type": "markdown",
   "metadata": {},
   "source": [
    "the `range(start,stop,step)` function comes is handy here"
   ]
  },
  {
   "cell_type": "code",
   "execution_count": 79,
   "metadata": {},
   "outputs": [
    {
     "name": "stdout",
     "output_type": "stream",
     "text": [
      "0\n",
      "1\n",
      "2\n",
      "3\n"
     ]
    }
   ],
   "source": [
    "for i in range(4):\n",
    "    print (i)     "
   ]
  },
  {
   "cell_type": "code",
   "execution_count": 80,
   "metadata": {},
   "outputs": [
    {
     "name": "stdout",
     "output_type": "stream",
     "text": [
      "1\n",
      "2\n",
      "3\n"
     ]
    }
   ],
   "source": [
    "for i in range(1,4): print (i) # if the block is only 1 line, it is possible to write it on the same line"
   ]
  },
  {
   "cell_type": "code",
   "execution_count": 81,
   "metadata": {},
   "outputs": [
    {
     "name": "stdout",
     "output_type": "stream",
     "text": [
      "1\n",
      "3\n"
     ]
    }
   ],
   "source": [
    "for i in range(1,4,2): print (i)"
   ]
  },
  {
   "cell_type": "markdown",
   "metadata": {},
   "source": [
    "it is possible to iterate over key,values pair of a dictionaty "
   ]
  },
  {
   "cell_type": "code",
   "execution_count": 82,
   "metadata": {},
   "outputs": [
    {
     "name": "stdout",
     "output_type": "stream",
     "text": [
      "key: John        ; value:  13\n",
      "key: Mary        ; value:  54\n",
      "key: Christoph   ; value:   5\n"
     ]
    }
   ],
   "source": [
    "d={\"John\":13, 'Mary':54,'Christoph':5}\n",
    "for k, v in d.items():\n",
    "    print(\"key: {0:12s}; value: {1:3d}\".format(k,v))"
   ]
  },
  {
   "cell_type": "markdown",
   "metadata": {},
   "source": [
    "Sometimes it is useful to have access to the indices of the values when iterating over a list. We can use the enumerate function for this:"
   ]
  },
  {
   "cell_type": "code",
   "execution_count": 83,
   "metadata": {},
   "outputs": [
    {
     "name": "stdout",
     "output_type": "stream",
     "text": [
      "id:  0; value:  1\n",
      "id:  1; value:  3\n"
     ]
    }
   ],
   "source": [
    "for idx, x in enumerate(range(1,4,2)):\n",
    "    print(\"id: {0:2d}; value: {1:2d}\".format(idx,x))"
   ]
  },
  {
   "cell_type": "markdown",
   "metadata": {},
   "source": [
    "###  <span style=\"color:red\">EXERCISE:</span> roll the dice\n",
    "\n",
    "* extract a random number between 1 and 6\n",
    "* you win if the number is 2 or 4\n",
    "* repeat the game 1000 times and print your score\n",
    "* what is the fraction of matches you won?"
   ]
  },
  {
   "cell_type": "code",
   "execution_count": 84,
   "metadata": {
    "collapsed": true
   },
   "outputs": [],
   "source": [
    "# your solution\n",
    "\n"
   ]
  },
  {
   "cell_type": "markdown",
   "metadata": {},
   "source": [
    "uncomment the first line on the following cell and run the cell to see the solution"
   ]
  },
  {
   "cell_type": "code",
   "execution_count": 85,
   "metadata": {
    "collapsed": true
   },
   "outputs": [],
   "source": [
    "# %load solutions/dice.py"
   ]
  },
  {
   "cell_type": "markdown",
   "metadata": {},
   "source": [
    "##  <span style=\"color:red\">WARNING!!</span>\n",
    "lists (and dictionaries and other objects) share memory"
   ]
  },
  {
   "cell_type": "code",
   "execution_count": 86,
   "metadata": {},
   "outputs": [
    {
     "name": "stdout",
     "output_type": "stream",
     "text": [
      "BEFORE\n",
      "[1, 2, 3]\n",
      "[1, 2, 3]\n",
      "AFTER\n",
      "[1, 2, -99]\n",
      "[1, 2, -99]\n"
     ]
    }
   ],
   "source": [
    "l1=[1,2,3]\n",
    "l2=l1\n",
    "print (\"BEFORE\")\n",
    "print (l1)\n",
    "print (l2)\n",
    "l2[2]=-99\n",
    "print (\"AFTER\")\n",
    "print (l1)\n",
    "print (l2)"
   ]
  },
  {
   "cell_type": "code",
   "execution_count": 87,
   "metadata": {},
   "outputs": [
    {
     "name": "stdout",
     "output_type": "stream",
     "text": [
      "BEFORE\n",
      "{'a': 3, 'b': 2}\n",
      "{'a': 3, 'b': 2}\n",
      "AFTER\n",
      "{'a': 9, 'b': 2}\n",
      "{'a': 9, 'b': 2}\n"
     ]
    }
   ],
   "source": [
    "d1={\"a\":3,\"b\":2}\n",
    "d2=d1\n",
    "print (\"BEFORE\")\n",
    "print (d1)\n",
    "print (d2)\n",
    "d2[\"a\"]=9\n",
    "print (\"AFTER\")\n",
    "print (d1)\n",
    "print (d2)"
   ]
  },
  {
   "cell_type": "markdown",
   "metadata": {},
   "source": [
    "### use the copy method!!\n"
   ]
  },
  {
   "cell_type": "code",
   "execution_count": 88,
   "metadata": {},
   "outputs": [
    {
     "name": "stdout",
     "output_type": "stream",
     "text": [
      "BEFORE\n",
      "[1, 2, 3]\n",
      "[1, 2, 3]\n",
      "AFTER\n",
      "[1, 2, 3]\n",
      "[1, 2, -99]\n"
     ]
    }
   ],
   "source": [
    "l1=[1,2,3]\n",
    "l2=l1.copy()\n",
    "print (\"BEFORE\")\n",
    "print (l1)\n",
    "print (l2)\n",
    "l2[2]=-99\n",
    "print (\"AFTER\")\n",
    "print (l1)\n",
    "print (l2)"
   ]
  },
  {
   "cell_type": "code",
   "execution_count": 89,
   "metadata": {},
   "outputs": [
    {
     "name": "stdout",
     "output_type": "stream",
     "text": [
      "BEFORE\n",
      "{'a': 3, 'b': 2}\n",
      "{'a': 3, 'b': 2}\n",
      "AFTER\n",
      "{'a': 3, 'b': 2}\n",
      "{'a': 9, 'b': 2}\n"
     ]
    }
   ],
   "source": [
    "d1={\"a\":3,\"b\":2}\n",
    "d2=d1.copy()\n",
    "print (\"BEFORE\")\n",
    "print (d1)\n",
    "print (d2)\n",
    "d2[\"a\"]=9\n",
    "print (\"AFTER\")\n",
    "print (d1)\n",
    "print (d2)"
   ]
  },
  {
   "cell_type": "markdown",
   "metadata": {},
   "source": [
    "# List comprehensions: Creating lists using for loops:\n",
    "\n",
    "A convenient and compact way to initialize lists:"
   ]
  },
  {
   "cell_type": "code",
   "execution_count": 90,
   "metadata": {},
   "outputs": [
    {
     "name": "stdout",
     "output_type": "stream",
     "text": [
      "[46, 42, 4, 66, 2, 88]\n"
     ]
    }
   ],
   "source": [
    "l0=[23,21,2,33,1,44]\n",
    "l1 = [x*2 for x in l0]\n",
    "\n",
    "print(l1)"
   ]
  },
  {
   "cell_type": "markdown",
   "metadata": {},
   "source": [
    "it is also possible to apply a condition."
   ]
  },
  {
   "cell_type": "code",
   "execution_count": 91,
   "metadata": {},
   "outputs": [
    {
     "name": "stdout",
     "output_type": "stream",
     "text": [
      "[2, 1]\n"
     ]
    }
   ],
   "source": [
    "l0=[23,21,2,33,1,44]\n",
    "l1=[x for x in l0 if x<10]\n",
    "\n",
    "print (l1)"
   ]
  },
  {
   "cell_type": "markdown",
   "metadata": {},
   "source": [
    "# `break` and `continue` statements\n",
    "The `break statement` breaks out of the innermost enclosing for or while loop."
   ]
  },
  {
   "cell_type": "code",
   "execution_count": 92,
   "metadata": {},
   "outputs": [
    {
     "name": "stdout",
     "output_type": "stream",
     "text": [
      "the least common multiple of 6 and 4 is 12\n"
     ]
    }
   ],
   "source": [
    "# find the least common multiple of n and m\n",
    "n=6\n",
    "m=4\n",
    "x=max(n,m)\n",
    "while True: #his means \"forever\"\n",
    "    if  x%n==0 and x%m==0:\n",
    "        print (\"the least common multiple of\",n,\"and\",m,\"is\",x)\n",
    "        break\n",
    "    x+=1\n"
   ]
  },
  {
   "cell_type": "markdown",
   "metadata": {},
   "source": [
    "Loop statements may have an `else` clause; it is executed when the loop terminates through exhaustion of the list (with `for`) or when the condition becomes false (with `while`), but not when the loop is terminated by a `break` statement. This is exemplified by the following loop, which searches for prime numbers:"
   ]
  },
  {
   "cell_type": "code",
   "execution_count": 93,
   "metadata": {},
   "outputs": [
    {
     "name": "stdout",
     "output_type": "stream",
     "text": [
      "2 is a prime number\n",
      "3 is a prime number\n",
      "4 equals 2 * 2\n",
      "5 is a prime number\n",
      "6 equals 2 * 3\n",
      "7 is a prime number\n",
      "8 equals 2 * 4\n",
      "9 equals 3 * 3\n"
     ]
    }
   ],
   "source": [
    "for n in range(2, 10):\n",
    "    for x in range(2, n):\n",
    "        if n % x == 0:\n",
    "            print(n, 'equals', x, '*', n//x)\n",
    "            break\n",
    "    else:\n",
    "        # loop fell through without finding a factor\n",
    "        print(n, 'is a prime number')    "
   ]
  },
  {
   "cell_type": "markdown",
   "metadata": {},
   "source": [
    "The `continue` statement continues with the next iteration of the loop:"
   ]
  },
  {
   "cell_type": "code",
   "execution_count": 94,
   "metadata": {},
   "outputs": [
    {
     "name": "stdout",
     "output_type": "stream",
     "text": [
      "2 is not 5\n",
      "3 is not 5\n",
      "4 is not 5\n",
      "I found 5!\n",
      "6 is not 5\n",
      "7 is not 5\n",
      "8 is not 5\n",
      "9 is not 5\n"
     ]
    }
   ],
   "source": [
    "for num in range(2, 10):\n",
    "    if num == 5:\n",
    "        print(\"I found 5!\")\n",
    "        continue\n",
    "    print(\"%d is not 5\"%num)"
   ]
  },
  {
   "cell_type": "markdown",
   "metadata": {},
   "source": [
    "# Functions\n",
    "\n",
    "A function in Python is defined using the keyword `def`, followed by a function name, a signature within parentheses `()`, and a colon `:`. The following code, with one additional level of indentation, is the function body."
   ]
  },
  {
   "cell_type": "code",
   "execution_count": 95,
   "metadata": {
    "collapsed": true
   },
   "outputs": [],
   "source": [
    "def func0():   \n",
    "    print(\"test\")"
   ]
  },
  {
   "cell_type": "code",
   "execution_count": 96,
   "metadata": {},
   "outputs": [
    {
     "name": "stdout",
     "output_type": "stream",
     "text": [
      "test\n"
     ]
    }
   ],
   "source": [
    "func0()"
   ]
  },
  {
   "cell_type": "markdown",
   "metadata": {},
   "source": [
    "Optionally, but highly recommended, we can define a so called \"docstring\", which is a description of the functions purpose and behaivor. The docstring should follow directly after the function definition, before the code in the function body."
   ]
  },
  {
   "cell_type": "code",
   "execution_count": 97,
   "metadata": {
    "collapsed": true
   },
   "outputs": [],
   "source": [
    "def func1(s):\n",
    "    \"\"\"\n",
    "    Print a string 's' and tell how many characters it has    \n",
    "    \"\"\"\n",
    "    \n",
    "    print(s + \" has \" + str(len(s)) + \" characters\")"
   ]
  },
  {
   "cell_type": "code",
   "execution_count": 98,
   "metadata": {},
   "outputs": [
    {
     "name": "stdout",
     "output_type": "stream",
     "text": [
      "Help on function func1 in module __main__:\n",
      "\n",
      "func1(s)\n",
      "    Print a string 's' and tell how many characters it has\n",
      "\n"
     ]
    }
   ],
   "source": [
    "help(func1)"
   ]
  },
  {
   "cell_type": "code",
   "execution_count": 99,
   "metadata": {},
   "outputs": [
    {
     "name": "stdout",
     "output_type": "stream",
     "text": [
      "Marco has 5 characters\n"
     ]
    }
   ],
   "source": [
    "func1(\"Marco\")"
   ]
  },
  {
   "cell_type": "code",
   "execution_count": 100,
   "metadata": {
    "collapsed": true
   },
   "outputs": [],
   "source": [
    "def square(x):\n",
    "    \"\"\"\n",
    "    Return the square of x.\n",
    "    \"\"\"\n",
    "    return x ** 2"
   ]
  },
  {
   "cell_type": "code",
   "execution_count": 101,
   "metadata": {},
   "outputs": [
    {
     "data": {
      "text/plain": [
       "9"
      ]
     },
     "execution_count": 101,
     "metadata": {},
     "output_type": "execute_result"
    }
   ],
   "source": [
    "square(3)"
   ]
  },
  {
   "cell_type": "markdown",
   "metadata": {},
   "source": [
    "A function return multiple values, using tuples"
   ]
  },
  {
   "cell_type": "code",
   "execution_count": 102,
   "metadata": {
    "collapsed": true
   },
   "outputs": [],
   "source": [
    "def powers(x):\n",
    "    \"\"\"\n",
    "    Return a few powers of x.\n",
    "    \"\"\"\n",
    "    return x ** 2, x ** 3, x ** 4"
   ]
  },
  {
   "cell_type": "code",
   "execution_count": 103,
   "metadata": {},
   "outputs": [
    {
     "name": "stdout",
     "output_type": "stream",
     "text": [
      "(9, 27, 81)\n"
     ]
    },
    {
     "data": {
      "text/plain": [
       "tuple"
      ]
     },
     "execution_count": 103,
     "metadata": {},
     "output_type": "execute_result"
    }
   ],
   "source": [
    "result=powers(3)\n",
    "print (result)\n",
    "type (result)"
   ]
  },
  {
   "cell_type": "code",
   "execution_count": 104,
   "metadata": {},
   "outputs": [
    {
     "name": "stdout",
     "output_type": "stream",
     "text": [
      "27\n"
     ]
    }
   ],
   "source": [
    "x2, x3, x4 = powers(3)\n",
    "\n",
    "print(x3)"
   ]
  },
  {
   "cell_type": "markdown",
   "metadata": {},
   "source": [
    "## Default argument and keyword arguments\n",
    "\n",
    "In a definition of a function, we can give default values to the arguments the function takes.\n"
   ]
  },
  {
   "cell_type": "code",
   "execution_count": 105,
   "metadata": {
    "collapsed": true
   },
   "outputs": [],
   "source": [
    "def myfunc(a,b,scale=1):\n",
    "    \"\"\"\n",
    "    return a+b, optionally multiply the result by scale\n",
    "    \"\"\"\n",
    "    return (a+b)*scale\n",
    "    "
   ]
  },
  {
   "cell_type": "code",
   "execution_count": 106,
   "metadata": {},
   "outputs": [
    {
     "name": "stdout",
     "output_type": "stream",
     "text": [
      "5\n",
      "10\n"
     ]
    }
   ],
   "source": [
    "print (myfunc(3,2))\n",
    "print (myfunc(3,2,scale=2))"
   ]
  },
  {
   "cell_type": "markdown",
   "metadata": {},
   "source": [
    "## Lambda function\n",
    "it is used to creat simple (single line) functions:\n"
   ]
  },
  {
   "cell_type": "code",
   "execution_count": 107,
   "metadata": {},
   "outputs": [
    {
     "name": "stdout",
     "output_type": "stream",
     "text": [
      "5\n",
      "10\n"
     ]
    }
   ],
   "source": [
    "f = lambda a, b, scale=1: (a+b)*scale\n",
    "print (f(3,2))\n",
    "print (f(3,2,scale=2))"
   ]
  },
  {
   "cell_type": "markdown",
   "metadata": {},
   "source": [
    "### <span style=\"color:red\">EXERCISE:</span> Newtown's method\n",
    "We are going to attempt to use Newton's method to find the roots of some function. The way that Newton's method works is through iteratively solving the expression\n",
    "\n",
    "$x_{n+1}=x_n-\\frac{f(x_n)}{f^\\prime(x_n)}$\n",
    "\n",
    "where $f^\\prime(x_n)=\\mathrm{d}f(x)/\\mathrm{d}x$ is the derivative of $f(x)$\n",
    "\n",
    "This is an iterative method, which means that you start with a \"first guess\" ($x_0$) that is close to the correct value and then you use this to calculate\n",
    "$x_1$ using the above equation. Then you use $x_1$ to get $x_2$ and so on.\n",
    "\n",
    "The iterations can be stopped when $f(x)$ get \"close enough\" to 0.\n",
    "    \n",
    "![a](files/newton_method.gif)\n",
    "\n",
    "As an example let's use  $f(x)=x^3-3*x^2 -3x+9$; we know that $f^\\prime(x)=3x^2-6*x -3$"
   ]
  },
  {
   "cell_type": "code",
   "execution_count": 110,
   "metadata": {
    "collapsed": true
   },
   "outputs": [],
   "source": [
    "# define the function and the derivative\n",
    "def f(x):\n",
    "    # write the code to calculate f(x)\n",
    "    return 0# what??\n",
    "\n",
    "def df(x):\n",
    "    # write the code for the derivative \n",
    "    return 0# what ??\n",
    "# define a function to calculate the \"distance from zero\"\n",
    "def dx(x):\n",
    "    return abs(0-f(x))\n",
    "\n",
    "tolerance=1.0e-7 # stop when dx(0)<tolerance!\n",
    "\n",
    "x0=0.1# our fist guess\n",
    "delta=dx(x0) \n",
    "\n",
    "### implement the newton method !\n",
    "# hint.. use a while loop\n",
    "\n",
    "# print (x0)\n",
    "# print (f(x0))\n"
   ]
  },
  {
   "cell_type": "code",
   "execution_count": 111,
   "metadata": {
    "collapsed": true
   },
   "outputs": [],
   "source": [
    "# %load solutions/newton_method.py\n"
   ]
  },
  {
   "cell_type": "markdown",
   "metadata": {
    "collapsed": true
   },
   "source": [
    "# The input function\n",
    "The `input()` function reads a line from input, converts it to a string (stripping a trailing newline), and returns that. It is used to ask the user to provide values.\n",
    "If you pass an argument, this is written before the input prompt."
   ]
  },
  {
   "cell_type": "code",
   "execution_count": 112,
   "metadata": {},
   "outputs": [
    {
     "name": "stdout",
     "output_type": "stream",
     "text": [
      "What is your name? Marco\n",
      "How old are you? 41\n",
      "Hi Marco, you are 41 years old\n"
     ]
    }
   ],
   "source": [
    "name=input(\"What is your name? \")\n",
    "age=input(\"How old are you? \")\n",
    "print (\"Hi {}, you are {} years old\".format(name,age))"
   ]
  },
  {
   "cell_type": "markdown",
   "metadata": {},
   "source": [
    "**NOTE** the input function return a string! You have to convert it to a numerical type id neededd"
   ]
  },
  {
   "cell_type": "code",
   "execution_count": 113,
   "metadata": {},
   "outputs": [
    {
     "name": "stdout",
     "output_type": "stream",
     "text": [
      "<class 'str'>\n",
      "In ten years Marco will be 51\n"
     ]
    }
   ],
   "source": [
    "print (type(age))\n",
    "\n",
    "age=int(age)\n",
    "print (\"In ten years {} will be {}\".format(name,age+10))"
   ]
  },
  {
   "cell_type": "markdown",
   "metadata": {},
   "source": [
    "# Read and write ASCII files\n",
    "\n",
    "## %%writefile\n",
    "In a python notebook, when a code-cell starts with `%%writefile file_name` the content of the cell is written to the file `file_name`. The code in the cell is not executed."
   ]
  },
  {
   "cell_type": "code",
   "execution_count": 114,
   "metadata": {},
   "outputs": [
    {
     "name": "stdout",
     "output_type": "stream",
     "text": [
      "Overwriting files/example1.txt\n"
     ]
    }
   ],
   "source": [
    "%%writefile files/example1.txt\n",
    "This is a txt file\n",
    "This is the second line\n",
    "This is the third line\n",
    "some other text\n",
    "and a final line"
   ]
  },
  {
   "cell_type": "markdown",
   "metadata": {},
   "source": [
    "## Read&write using the `open()` function\n",
    "The built-in function `open(file_name, [mode])` opens the file file_name and return an object of the `file` type.\n",
    "\n",
    "The most commonly-used values of mode are `'r'` for reading, `'w'` for writing. If mode is not specified, the default `'r'` is used.\n",
    "\n",
    "Many actions can be perfomed on the `file` object, we will use only 4 methods (functions):\n",
    "* `readline()` : Read one entire line from the file. A trailing newline character is kept in the string \n",
    "* `readlines()`: Read until the end of the file using readline() and return a list containing the lines thus read\n",
    "* `write(string)`:  write a string to the file. This works only if the file was opened with the `w` mode\n",
    "* `close()` : close the file. A closed file cannot be read or written any more. "
   ]
  },
  {
   "cell_type": "code",
   "execution_count": 115,
   "metadata": {
    "collapsed": true
   },
   "outputs": [],
   "source": [
    "ff=open('files/example1.txt')\n",
    "line1=ff.readline()\n",
    "line2=ff.readline()\n",
    "lines=ff.readlines()\n",
    "ff.close()"
   ]
  },
  {
   "cell_type": "code",
   "execution_count": 116,
   "metadata": {},
   "outputs": [
    {
     "data": {
      "text/plain": [
       "'This is a txt file\\n'"
      ]
     },
     "execution_count": 116,
     "metadata": {},
     "output_type": "execute_result"
    }
   ],
   "source": [
    "line1"
   ]
  },
  {
   "cell_type": "code",
   "execution_count": 117,
   "metadata": {},
   "outputs": [
    {
     "data": {
      "text/plain": [
       "'This is the second line\\n'"
      ]
     },
     "execution_count": 117,
     "metadata": {},
     "output_type": "execute_result"
    }
   ],
   "source": [
    "line2"
   ]
  },
  {
   "cell_type": "code",
   "execution_count": 118,
   "metadata": {},
   "outputs": [
    {
     "data": {
      "text/plain": [
       "['This is the third line\\n', 'some other text\\n', 'and a final line']"
      ]
     },
     "execution_count": 118,
     "metadata": {},
     "output_type": "execute_result"
    }
   ],
   "source": [
    "lines"
   ]
  },
  {
   "cell_type": "code",
   "execution_count": 119,
   "metadata": {},
   "outputs": [
    {
     "data": {
      "text/plain": [
       "['This is a txt file\\n',\n",
       " 'This is the second line\\n',\n",
       " 'This is the third line\\n',\n",
       " 'some other text\\n',\n",
       " 'and a final line']"
      ]
     },
     "execution_count": 119,
     "metadata": {},
     "output_type": "execute_result"
    }
   ],
   "source": [
    "# if you want to read all lines with readlines() do not use readline() before\n",
    "ff=open('files/example1.txt')\n",
    "lines=ff.readlines()\n",
    "ff.close()\n",
    "lines"
   ]
  },
  {
   "cell_type": "markdown",
   "metadata": {},
   "source": [
    "## Reading a file using the `with` statement\n",
    "\n",
    "It is good practice to use the with keyword when dealing with file objects. The advantage is that the file is properly closed after the code-block finishes."
   ]
  },
  {
   "cell_type": "code",
   "execution_count": 120,
   "metadata": {},
   "outputs": [
    {
     "name": "stdout",
     "output_type": "stream",
     "text": [
      "['This is the third line\\n', 'some other text\\n', 'and a final line']\n"
     ]
    }
   ],
   "source": [
    "with open(\"files/example1.txt\") as ff:\n",
    "    line1=ff.readline()\n",
    "    line2=ff.readline()\n",
    "    lines=ff.readlines()\n",
    "print (lines)"
   ]
  },
  {
   "cell_type": "markdown",
   "metadata": {},
   "source": [
    "## read tables with open()\n",
    "First of all let's write a file"
   ]
  },
  {
   "cell_type": "code",
   "execution_count": 121,
   "metadata": {},
   "outputs": [
    {
     "name": "stdout",
     "output_type": "stream",
     "text": [
      "Overwriting files/example_table.txt\n"
     ]
    }
   ],
   "source": [
    "%%writefile files/example_table.txt\n",
    "# name   distance_kpc\n",
    "47Tuc    7.4\n",
    "NGC288  12.0\n",
    "NGC362   9.4"
   ]
  },
  {
   "cell_type": "markdown",
   "metadata": {},
   "source": [
    "The file have a \"header\" (a line describing the columns) and 3 lines with the name of a globular cluster and its distance from the Sun, in kpc.\n",
    "We want to read it."
   ]
  },
  {
   "cell_type": "code",
   "execution_count": 122,
   "metadata": {},
   "outputs": [
    {
     "data": {
      "text/plain": [
       "['47Tuc    7.4\\n', 'NGC288  12.0\\n', 'NGC362   9.4']"
      ]
     },
     "execution_count": 122,
     "metadata": {},
     "output_type": "execute_result"
    }
   ],
   "source": [
    "with open(\"files/example_table.txt\") as ff:\n",
    "    ff.readline() # skip the first line\n",
    "    lines=ff.readlines()\n",
    "\n",
    "lines"
   ]
  },
  {
   "cell_type": "code",
   "execution_count": 123,
   "metadata": {},
   "outputs": [
    {
     "name": "stdout",
     "output_type": "stream",
     "text": [
      "['47Tuc', 'NGC288', 'NGC362']\n",
      "[7.4, 12.0, 9.4]\n"
     ]
    }
   ],
   "source": [
    "# we saved the lines in a variable. now we process it\n",
    "\n",
    "# create two empty lists, one for the names, the other for the distances\n",
    "names=[]\n",
    "dist=[]\n",
    "for l in lines:\n",
    "    n,d=l.split()    # split the line\n",
    "    names.append(n)  \n",
    "    dist.append(float(d))\n",
    "    \n",
    "print (names)\n",
    "print (dist)\n",
    "    \n"
   ]
  },
  {
   "cell_type": "markdown",
   "metadata": {},
   "source": [
    "**NOTE** There are much better (and faster) ways to read tabular data with Python. A few examples will be given in the next lessons!"
   ]
  },
  {
   "cell_type": "markdown",
   "metadata": {},
   "source": [
    "## write files with `open()`\n",
    "the `file.write()` method is used to write on an opened file. It is very similar to the `print()` function\n"
   ]
  },
  {
   "cell_type": "code",
   "execution_count": 124,
   "metadata": {
    "collapsed": true
   },
   "outputs": [],
   "source": [
    "name=\"Marco\"\n",
    "a=1\n",
    "b=12.3\n",
    "\n",
    "with open(\"files/example2.txt\",'w') as ff:  # !! use the 'w' (write) mode !!\n",
    "    ff.write(\"This file was written by {}\\n\".format(name)) # \\n is the newline charachter. It starts a new line\n",
    "    ff.write(\"if you don't use the newline\")\n",
    "    ff.write(\"you do not start a new line!\\n\")\n",
    "    ff.write(\"Number1: {0:5.2f}\\n\".format(a))\n",
    "    ff.write(\"Number2: {0:5.2f}\\n\".format(b))\n"
   ]
  }
 ],
 "metadata": {
  "kernelspec": {
   "display_name": "Python 3",
   "language": "python",
   "name": "python3"
  },
  "language_info": {
   "codemirror_mode": {
    "name": "ipython",
    "version": 3
   },
   "file_extension": ".py",
   "mimetype": "text/x-python",
   "name": "python",
   "nbconvert_exporter": "python",
   "pygments_lexer": "ipython3",
   "version": "3.6.3"
  }
 },
 "nbformat": 4,
 "nbformat_minor": 2
}
