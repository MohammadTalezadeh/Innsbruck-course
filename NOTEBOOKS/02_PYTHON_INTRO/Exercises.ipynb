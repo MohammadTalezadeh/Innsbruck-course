{
 "cells": [
  {
   "cell_type": "markdown",
   "metadata": {},
   "source": [
    "## Exercices\n",
    "Write the solution on the first cell each assigment.\n",
    "To see the solution uncomment the line `%load something.py in the following cell and run it"
   ]
  },
  {
   "cell_type": "markdown",
   "metadata": {},
   "source": [
    "# Ends of a list\n",
    "Write a function that takes a list of numbers (for example, a = [5, 10, 15, 20, 25]) and return the first and the last ones "
   ]
  },
  {
   "cell_type": "code",
   "execution_count": 1,
   "metadata": {},
   "outputs": [],
   "source": [
    "# your solution\n",
    "\n"
   ]
  },
  {
   "cell_type": "code",
   "execution_count": 2,
   "metadata": {
    "collapsed": true
   },
   "outputs": [],
   "source": [
    "# %load solutions/list_ends.py"
   ]
  },
  {
   "cell_type": "markdown",
   "metadata": {},
   "source": [
    "# Reverse words\n",
    "define a string with spaces, like s=\"my Name is Marco\". reverse the order of each word, but do nor change the order of the words in the sentence. The result should be \"yM eman si ocraM\"\n",
    "\n",
    "Can you do this with just 1 line of code?"
   ]
  },
  {
   "cell_type": "code",
   "execution_count": 3,
   "metadata": {},
   "outputs": [],
   "source": [
    "# your solution\n"
   ]
  },
  {
   "cell_type": "code",
   "execution_count": 4,
   "metadata": {
    "collapsed": true
   },
   "outputs": [],
   "source": [
    "# %load solutions/reverse_words.py"
   ]
  },
  {
   "cell_type": "markdown",
   "metadata": {},
   "source": [
    "# Get the small ones\n",
    "Take a list of numbers, say for example this one:\n",
    "```\n",
    "\ta = [1, 12, 2, 3, 5, 8, 13, 21, 34, 55, 89]\n",
    "```\n",
    "and create a new list with all the elements of the list that are smaller than 15 and greater then 5."
   ]
  },
  {
   "cell_type": "code",
   "execution_count": 5,
   "metadata": {
    "collapsed": true
   },
   "outputs": [],
   "source": [
    "# your solution\n",
    "\n"
   ]
  },
  {
   "cell_type": "code",
   "execution_count": 6,
   "metadata": {
    "collapsed": true
   },
   "outputs": [],
   "source": [
    "# %load solutions/get_small.py"
   ]
  },
  {
   "cell_type": "markdown",
   "metadata": {},
   "source": [
    "# Atomic number\n",
    "\n",
    "You have a dictionary with the atomic mass of a few elements.\n",
    "Extract the list of the elements name and sort it in alphabetical order (use google to find how to sort a list!).\n",
    "Print the list (nicely formatted) of the elements with less protons than Ne."
   ]
  },
  {
   "cell_type": "code",
   "execution_count": 7,
   "metadata": {
    "collapsed": true
   },
   "outputs": [],
   "source": [
    "Z={\n",
    "    'H'  : 1,\n",
    "    'He' : 2,\n",
    "    'C'  : 6,\n",
    "    'N'  : 7,\n",
    "    'O'  : 8,\n",
    "    'Ne' : 10,\n",
    "    'Ca' : 20,\n",
    "    'Fe' : 26}\n",
    "    "
   ]
  },
  {
   "cell_type": "code",
   "execution_count": 8,
   "metadata": {
    "collapsed": true
   },
   "outputs": [],
   "source": [
    "# your solution\n",
    "\n"
   ]
  },
  {
   "cell_type": "code",
   "execution_count": 9,
   "metadata": {},
   "outputs": [],
   "source": [
    "# %load solutions/atomic_number.py\n"
   ]
  },
  {
   "cell_type": "markdown",
   "metadata": {},
   "source": [
    "# Divisors\n",
    "Create a function that return a list of all the divisors of a number.\n",
    "\n",
    "If you don’t know what a divisor is, it is a number that divides evenly into another number. For example, 13 is a divisor of 26 because 26 / 13 has no remainder.)\n",
    "\n",
    "Try to do that with a `lambda` function (1-line)\n",
    "\n",
    "Test your function with a few numbers"
   ]
  },
  {
   "cell_type": "code",
   "execution_count": 10,
   "metadata": {},
   "outputs": [],
   "source": [
    "# your solution\n"
   ]
  },
  {
   "cell_type": "code",
   "execution_count": 11,
   "metadata": {
    "collapsed": true
   },
   "outputs": [],
   "source": [
    "# %load solutions/divisors.py"
   ]
  },
  {
   "cell_type": "markdown",
   "metadata": {
    "collapsed": true
   },
   "source": [
    "# Prime number\n",
    "Ask the user for a number and determine whether the number is prime or not. (For those who have forgotten, a prime number is a number that has no divisors other than 1 and itself). \n",
    "\n",
    "hint: use your answer to the previous exercise (divisors)"
   ]
  },
  {
   "cell_type": "code",
   "execution_count": 12,
   "metadata": {},
   "outputs": [],
   "source": [
    "# your solution"
   ]
  },
  {
   "cell_type": "code",
   "execution_count": 13,
   "metadata": {
    "collapsed": true
   },
   "outputs": [],
   "source": [
    "# %load solutions/is_prime.py"
   ]
  },
  {
   "cell_type": "markdown",
   "metadata": {},
   "source": [
    "# Count the number of lines in a text file\n",
    "\n",
    "write a function to count the number of lines in a text file. Print the number of lines in:\n",
    "\n",
    "    files/example1.txt\n",
    "    files/example2.txt\n",
    "    files/example_table.txt"
   ]
  },
  {
   "cell_type": "code",
   "execution_count": 14,
   "metadata": {
    "collapsed": true
   },
   "outputs": [],
   "source": [
    "# your solution\n"
   ]
  },
  {
   "cell_type": "code",
   "execution_count": 15,
   "metadata": {
    "collapsed": true
   },
   "outputs": [],
   "source": [
    "# %load solutions/count_lines.py"
   ]
  },
  {
   "cell_type": "markdown",
   "metadata": {},
   "source": [
    "# Zorro\n",
    "Write a function to print the alphabet pattern 'Z' of a given size.\n",
    "   \n",
    "```\n",
    "   zorro(4)\n",
    "    ****\n",
    "      *\n",
    "     *\n",
    "    ****\n",
    "\n",
    "    zorro(6)\n",
    "    ******\n",
    "        *\n",
    "       *\n",
    "      *\n",
    "     *\n",
    "    ******\n",
    "```"
   ]
  },
  {
   "cell_type": "code",
   "execution_count": 16,
   "metadata": {
    "collapsed": true
   },
   "outputs": [],
   "source": [
    "# your solution\n"
   ]
  },
  {
   "cell_type": "code",
   "execution_count": 17,
   "metadata": {
    "collapsed": true
   },
   "outputs": [],
   "source": [
    "# %load solutions/zorro.py"
   ]
  },
  {
   "cell_type": "code",
   "execution_count": null,
   "metadata": {
    "collapsed": true
   },
   "outputs": [],
   "source": []
  }
 ],
 "metadata": {
  "kernelspec": {
   "display_name": "Python 3",
   "language": "python",
   "name": "python3"
  },
  "language_info": {
   "codemirror_mode": {
    "name": "ipython",
    "version": 3
   },
   "file_extension": ".py",
   "mimetype": "text/x-python",
   "name": "python",
   "nbconvert_exporter": "python",
   "pygments_lexer": "ipython3",
   "version": "3.6.3"
  }
 },
 "nbformat": 4,
 "nbformat_minor": 2
}
