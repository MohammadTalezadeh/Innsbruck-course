{
 "cells": [
  {
   "cell_type": "markdown",
   "metadata": {},
   "source": [
    "# Numpy\n",
    "NumPy is the fundamental package for scientific computing with Python. It gives support for large, multi-dimensional arrays and matrices, along with a large collection of high-level mathematical functions to operate on these arrays.\n",
    "\n",
    "## Resources\n",
    "* [Quickstart tutorial](https://docs.scipy.org/doc/numpy-dev/user/quickstart.html)\n",
    "* [User Guide](https://docs.scipy.org/doc/numpy/user/)\n",
    "* [Reference Guide](https://docs.scipy.org/doc/numpy/reference/)\n"
   ]
  },
  {
   "cell_type": "code",
   "execution_count": 1,
   "metadata": {
    "collapsed": true
   },
   "outputs": [],
   "source": [
    "# Import numpy.\n",
    "# As it will be widely used, better to give it a nickname, or an alias. Traditionnaly, it's \"np\":\n",
    "import numpy as np"
   ]
  },
  {
   "cell_type": "markdown",
   "metadata": {},
   "source": [
    "# Create an array\n",
    "\n",
    "an array in numpy is an object of a type that is called `ndarray`"
   ]
  },
  {
   "cell_type": "code",
   "execution_count": 2,
   "metadata": {},
   "outputs": [
    {
     "name": "stdout",
     "output_type": "stream",
     "text": [
      "a1: [1 2 3 6 4]\n",
      "a2: [ 1.3  2.9  5.4]\n",
      "[[1 2 3]\n",
      " [4 5 6]\n",
      " [7 8 9]\n",
      " [4 1 7]]\n"
     ]
    },
    {
     "data": {
      "text/plain": [
       "numpy.ndarray"
      ]
     },
     "execution_count": 2,
     "metadata": {},
     "output_type": "execute_result"
    }
   ],
   "source": [
    "a1=np.array([1,2,3,6,4])\n",
    "print (\"a1:\",a1)\n",
    "\n",
    "# or you can create from a list (or a tuple)\n",
    "l=[1.3,2.9,5.4]\n",
    "a2=np.array(l)\n",
    "print (\"a2:\",a2)\n",
    "\n",
    "# multidimensional arrays\n",
    "# you can create them from a list of lists\n",
    "\n",
    "a3=np.array([[1,2,3],[4,5,6],[7,8,9],[4,1,7]])\n",
    "print (a3)\n",
    "type(a3)"
   ]
  },
  {
   "cell_type": "markdown",
   "metadata": {},
   "source": [
    "## Some important attributes of an array:\n",
    "* **ndarray.ndim**:\n",
    "    the number of axes (dimensions) of the array. In the Python world, the number of dimensions is referred to as rank.\n",
    "\n",
    "* **ndarray.shape**:\n",
    "    the dimensions of the array. This is a tuple of integers indicating the size of the array in each dimension. For a \"matrix\" (2D array) with `n` rows and `m` columns, shape will be `(n,m)`. The length of the shape tuple is therefore the rank, or number of dimensions, ndim.\n",
    "\n",
    "* **ndarray.size**:\n",
    "    the total number of elements of the array. This is equal to the product of the elements of shape.\n",
    "\n",
    "* **ndarray.dtype**:\n",
    "    an object describing the type of the elements in the array. One can create or specify dtype’s using standard Python types. Additionally NumPy provides types of its own. numpy.int32, numpy.int16, and numpy.float64 are some examples."
   ]
  },
  {
   "cell_type": "code",
   "execution_count": 3,
   "metadata": {},
   "outputs": [
    {
     "name": "stdout",
     "output_type": "stream",
     "text": [
      "NDIM:  1\n",
      "SHAPE: (5,)\n",
      "SIZE:  5\n",
      "DTYPE: int64\n",
      "\n",
      "NDIM:  1\n",
      "SHAPE: (3,)\n",
      "SIZE:  3\n",
      "DTYPE: float64\n",
      "\n",
      "NDIM:  2\n",
      "SHAPE: (4, 3)\n",
      "SIZE:  12\n",
      "DTYPE: int64\n",
      "\n"
     ]
    }
   ],
   "source": [
    "for a in [a1,a2,a3]:\n",
    "    print (\"NDIM: \",a.ndim)\n",
    "    print (\"SHAPE:\",a.shape)\n",
    "    print (\"SIZE: \",a.size)\n",
    "    print (\"DTYPE:\",a.dtype)\n",
    "    print (\"\")"
   ]
  },
  {
   "cell_type": "markdown",
   "metadata": {},
   "source": [
    "The elements of a numpy array are all of the **same type**\n",
    "If you create an aray using elements with different type, Python **tries** to convert them.\n"
   ]
  },
  {
   "cell_type": "code",
   "execution_count": 4,
   "metadata": {},
   "outputs": [
    {
     "name": "stdout",
     "output_type": "stream",
     "text": [
      "[ 1.   2.   4.2]\n",
      "float64\n"
     ]
    }
   ],
   "source": [
    "a1=np.array([1,2,4.2])\n",
    "print (a1)\n",
    "print (a1.dtype)"
   ]
  },
  {
   "cell_type": "code",
   "execution_count": 5,
   "metadata": {},
   "outputs": [
    {
     "name": "stdout",
     "output_type": "stream",
     "text": [
      "['1' '2' 'D']\n",
      "<U21\n"
     ]
    }
   ],
   "source": [
    "a2=np.array([1,2,\"D\"])\n",
    "print (a2)\n",
    "a=a2.dtype\n",
    "print(a2.dtype)"
   ]
  },
  {
   "cell_type": "markdown",
   "metadata": {},
   "source": [
    "Once the type of an array is defined, one can insert values of any other type, only if they can be transformed to the type of the array"
   ]
  },
  {
   "cell_type": "code",
   "execution_count": 6,
   "metadata": {},
   "outputs": [
    {
     "data": {
      "text/plain": [
       "array([ 3. ,  2.5,  4.2])"
      ]
     },
     "execution_count": 6,
     "metadata": {},
     "output_type": "execute_result"
    }
   ],
   "source": [
    "a3=np.array([1.2,2.5,4.2])\n",
    "a3[0]=3 # 3 will be converted to 3.0 (float)\n",
    "\n",
    "# a1[0]=\"A\" # will raise an ERROR, \"A\" can not converted to a float!\n",
    "a3\n"
   ]
  },
  {
   "cell_type": "markdown",
   "metadata": {},
   "source": [
    "[Data type objects reference manual](https://docs.scipy.org/doc/numpy-1.13.0/reference/arrays.dtypes.html). This doc contains some **ADVANCED TOPICS**. You can skip this doc\n"
   ]
  },
  {
   "cell_type": "markdown",
   "metadata": {
    "collapsed": true
   },
   "source": [
    "## array-generating functions\n",
    "\n",
    "There are many functions in numpy that can be used to generate arrays of different forms. Some of the most common are:"
   ]
  },
  {
   "cell_type": "markdown",
   "metadata": {},
   "source": [
    "### arange\n",
    "Return evenly spaced values within a given interval."
   ]
  },
  {
   "cell_type": "code",
   "execution_count": 7,
   "metadata": {},
   "outputs": [
    {
     "name": "stdout",
     "output_type": "stream",
     "text": [
      "[0 1 2 3 4 5 6 7 8 9]\n",
      "[3 4 5 6 7 8 9]\n",
      "[3 5 7 9]\n"
     ]
    }
   ],
   "source": [
    "x1=np.arange(10)     # 10 is not included!!\n",
    "x2=np.arange(3,10)\n",
    "x3=np.arange(3,10,2)\n",
    "\n",
    "print (x1)\n",
    "print (x2)\n",
    "print (x3)"
   ]
  },
  {
   "cell_type": "markdown",
   "metadata": {},
   "source": [
    "### linspace and logspace \n",
    "Use the help system -`?` or `help()` or `Shift+TAB`- to learn about these functions!"
   ]
  },
  {
   "cell_type": "code",
   "execution_count": 8,
   "metadata": {},
   "outputs": [
    {
     "name": "stdout",
     "output_type": "stream",
     "text": [
      "[ 2.   2.5  3.   3.5  4. ]\n",
      "[   100.            316.22776602   1000.           3162.27766017  10000.        ]\n"
     ]
    }
   ],
   "source": [
    "x1=np.linspace(2,4,5) # 5 evenly spaced points between 2 and 5\n",
    "x2=np.logspace(2,4,5) # points are logarithmically spaced. start and end points are 10**2 and 10**4\n",
    "\n",
    "print (x1)\n",
    "print (x2)\n"
   ]
  },
  {
   "cell_type": "markdown",
   "metadata": {},
   "source": [
    "### meshgrid\n",
    "Return coordinate matrices from coordinate vectors."
   ]
  },
  {
   "cell_type": "code",
   "execution_count": 9,
   "metadata": {},
   "outputs": [
    {
     "name": "stdout",
     "output_type": "stream",
     "text": [
      "[[1 2 3]\n",
      " [1 2 3]]\n",
      "------------------------------------\n",
      "[[5 5 5]\n",
      " [6 6 6]]\n"
     ]
    }
   ],
   "source": [
    "x,y=np.meshgrid([1,2,3],[5,6])\n",
    "print (x)\n",
    "print('------------------------------------')\n",
    "print (y)\n"
   ]
  },
  {
   "cell_type": "markdown",
   "metadata": {},
   "source": [
    "### mgrid\n",
    "create 2 2D arrays (coordinates matrices), one describing how x varies, the other for y."
   ]
  },
  {
   "cell_type": "code",
   "execution_count": 10,
   "metadata": {},
   "outputs": [
    {
     "name": "stdout",
     "output_type": "stream",
     "text": [
      "[[0 1 2]\n",
      " [0 1 2]\n",
      " [0 1 2]\n",
      " [0 1 2]\n",
      " [0 1 2]]\n",
      "------------------------------------\n",
      "[[0 0 0]\n",
      " [1 1 1]\n",
      " [2 2 2]\n",
      " [3 3 3]\n",
      " [4 4 4]]\n"
     ]
    }
   ],
   "source": [
    "# \n",
    "y, x = np.mgrid[0:5, 0:3] # This is not a function!!! notice the []\n",
    "print(x)\n",
    "print('------------------------------------')\n",
    "print(y)"
   ]
  },
  {
   "cell_type": "code",
   "execution_count": 11,
   "metadata": {},
   "outputs": [
    {
     "name": "stdout",
     "output_type": "stream",
     "text": [
      "[[0 1 2]\n",
      " [0 1 2]\n",
      " [0 1 2]\n",
      " [0 1 2]\n",
      " [0 1 2]]\n",
      "------------------------------------\n",
      "[[0 0 0]\n",
      " [1 1 1]\n",
      " [2 2 2]\n",
      " [3 3 3]\n",
      " [4 4 4]]\n"
     ]
    }
   ],
   "source": [
    "# the same with meshgrid\n",
    "x,y=np.meshgrid(range(3),range(5))\n",
    "print(x)\n",
    "print('------------------------------------')\n",
    "print(y)"
   ]
  },
  {
   "cell_type": "markdown",
   "metadata": {},
   "source": [
    "### zeros and ones\n",
    "`np.zeros(shape,dtype=float)` return a new array of given shape and type, filled with zeros. The default output is a float array\n",
    "\n",
    "`np.ones` return an array filled with ones"
   ]
  },
  {
   "cell_type": "code",
   "execution_count": 12,
   "metadata": {},
   "outputs": [
    {
     "data": {
      "text/plain": [
       "array([[ 0.,  0.],\n",
       "       [ 0.,  0.],\n",
       "       [ 0.,  0.]])"
      ]
     },
     "execution_count": 12,
     "metadata": {},
     "output_type": "execute_result"
    }
   ],
   "source": [
    "np.zeros((3,2))"
   ]
  },
  {
   "cell_type": "code",
   "execution_count": 13,
   "metadata": {},
   "outputs": [
    {
     "data": {
      "text/plain": [
       "array([[0, 0],\n",
       "       [0, 0],\n",
       "       [0, 0]])"
      ]
     },
     "execution_count": 13,
     "metadata": {},
     "output_type": "execute_result"
    }
   ],
   "source": [
    "np.zeros((3,2),dtype=int)"
   ]
  },
  {
   "cell_type": "code",
   "execution_count": 14,
   "metadata": {},
   "outputs": [
    {
     "data": {
      "text/plain": [
       "array([[ 1.,  1.,  1.],\n",
       "       [ 1.,  1.,  1.]])"
      ]
     },
     "execution_count": 14,
     "metadata": {},
     "output_type": "execute_result"
    }
   ],
   "source": [
    "np.ones((2,3))"
   ]
  },
  {
   "cell_type": "markdown",
   "metadata": {},
   "source": [
    "### random data\n",
    "[https://docs.scipy.org/doc/numpy-1.13.0/reference/routines.random.html](https://docs.scipy.org/doc/numpy-1.13.0/reference/routines.random.html)"
   ]
  },
  {
   "cell_type": "code",
   "execution_count": 15,
   "metadata": {
    "collapsed": true
   },
   "outputs": [],
   "source": [
    "from numpy import random"
   ]
  },
  {
   "cell_type": "code",
   "execution_count": 16,
   "metadata": {},
   "outputs": [
    {
     "data": {
      "text/plain": [
       "array([[ 0.40861174,  0.26019915,  0.8407054 ],\n",
       "       [ 0.8297808 ,  0.10752617,  0.80268544]])"
      ]
     },
     "execution_count": 16,
     "metadata": {},
     "output_type": "execute_result"
    }
   ],
   "source": [
    "# uniform random numbers in [0,1]\n",
    "random.rand(2,3) # \n"
   ]
  },
  {
   "cell_type": "code",
   "execution_count": 17,
   "metadata": {},
   "outputs": [
    {
     "data": {
      "text/plain": [
       "array([[ 1.43985801,  1.52266074],\n",
       "       [ 0.65309036, -1.22568332],\n",
       "       [-1.42206616, -2.04025034]])"
      ]
     },
     "execution_count": 17,
     "metadata": {},
     "output_type": "execute_result"
    }
   ],
   "source": [
    "# standard normal distributed random numbers\n",
    "random.randn(3,2)"
   ]
  },
  {
   "cell_type": "code",
   "execution_count": 18,
   "metadata": {},
   "outputs": [
    {
     "data": {
      "text/plain": [
       "array([[ 4.04938624,  4.48677658],\n",
       "       [ 3.51959439,  3.01461706],\n",
       "       [ 3.67397726,  3.95670903]])"
      ]
     },
     "execution_count": 18,
     "metadata": {},
     "output_type": "execute_result"
    }
   ],
   "source": [
    "# uniform numbers in a range\n",
    "random.uniform(3,5,(3,2))"
   ]
  },
  {
   "cell_type": "code",
   "execution_count": 19,
   "metadata": {},
   "outputs": [
    {
     "data": {
      "text/plain": [
       "array([ 3.13071323,  2.89410519,  3.01046835,  3.02676252,  3.07747765,\n",
       "        2.98574271,  2.84749836,  2.94647921,  2.92639001])"
      ]
     },
     "execution_count": 19,
     "metadata": {},
     "output_type": "execute_result"
    }
   ],
   "source": [
    "# normal distruted with given mean value and std\n",
    "random.normal(loc=3,scale=.1,size=9)"
   ]
  },
  {
   "cell_type": "markdown",
   "metadata": {},
   "source": [
    "`choice(a[, size, replace, p])`\n",
    "Generates a random sample from a given 1-D array.\n",
    "For more info, read the doc!\n"
   ]
  },
  {
   "cell_type": "code",
   "execution_count": 20,
   "metadata": {},
   "outputs": [
    {
     "name": "stdout",
     "output_type": "stream",
     "text": [
      "[ 1  3  4  6  9 12]\n"
     ]
    },
    {
     "data": {
      "text/plain": [
       "array([ 4, 12,  3])"
      ]
     },
     "execution_count": 20,
     "metadata": {},
     "output_type": "execute_result"
    }
   ],
   "source": [
    "a=np.array([1,3,4,6,9,12])\n",
    "print (a)\n",
    "random.choice(a,3,replace=False) #replace=False for a sample without repetitions"
   ]
  },
  {
   "cell_type": "markdown",
   "metadata": {},
   "source": [
    "### <span style=\"color:red\">**NOTE**</span>: \n",
    "We have imported random from numpy, and then we have used some function of the `random` module.\n",
    "\n",
    "You can obtain the same thing giving the \"full path\" of the `random` module.\n",
    "\n",
    "This is general and works for al sub-modules"
   ]
  },
  {
   "cell_type": "code",
   "execution_count": 21,
   "metadata": {},
   "outputs": [
    {
     "data": {
      "text/plain": [
       "array([[ 0.75707964,  0.26899945],\n",
       "       [ 0.96446421,  0.46317311],\n",
       "       [ 0.02747303,  0.27868184]])"
      ]
     },
     "execution_count": 21,
     "metadata": {},
     "output_type": "execute_result"
    }
   ],
   "source": [
    "import numpy as np   # you import numpy\n",
    "np.random.rand(3,2)  # then you use one function of a sub-module of numpy\n"
   ]
  },
  {
   "cell_type": "markdown",
   "metadata": {},
   "source": [
    "# Operations"
   ]
  },
  {
   "cell_type": "markdown",
   "metadata": {},
   "source": [
    "## Scalar-array operations\n",
    "\n",
    "We can use the usual arithmetic operators to multiply, add, subtract, and divide arrays with scalar numbers.\n"
   ]
  },
  {
   "cell_type": "code",
   "execution_count": 22,
   "metadata": {},
   "outputs": [
    {
     "data": {
      "text/plain": [
       "array([0, 1, 2, 3, 4])"
      ]
     },
     "execution_count": 22,
     "metadata": {},
     "output_type": "execute_result"
    }
   ],
   "source": [
    "v1 = np.arange(0, 5)\n",
    "v1"
   ]
  },
  {
   "cell_type": "code",
   "execution_count": 23,
   "metadata": {},
   "outputs": [
    {
     "name": "stdout",
     "output_type": "stream",
     "text": [
      "[2 3 4 5 6]\n",
      "[0 2 4 6 8]\n"
     ]
    }
   ],
   "source": [
    "v2=v1+2\n",
    "v3=v1*2\n",
    "print (v2)\n",
    "print (v3)\n"
   ]
  },
  {
   "cell_type": "markdown",
   "metadata": {},
   "source": [
    "## Element-wise array-array operations\n",
    "\n",
    "When we add, subtract, multiply and divide arrays with each other, the default behaviour is *element-wise* operations:\n"
   ]
  },
  {
   "cell_type": "code",
   "execution_count": 24,
   "metadata": {},
   "outputs": [
    {
     "name": "stdout",
     "output_type": "stream",
     "text": [
      "[1 2 5 2]\n",
      "[5 1 0 3]\n",
      "SUM\n",
      "[6 3 5 5]\n",
      "MULT\n",
      "[5 2 0 6]\n"
     ]
    }
   ],
   "source": [
    "v1=np.array([1,2,5,2])\n",
    "v2=np.array([5,1,0,3])\n",
    "print (v1)\n",
    "print (v2)\n",
    "print (\"SUM\")\n",
    "print (v1+v2)\n",
    "print (\"MULT\")\n",
    "print (v1*v2)\n"
   ]
  },
  {
   "cell_type": "markdown",
   "metadata": {},
   "source": [
    "## boolean operations\n",
    "\n",
    "### `&` : logical and"
   ]
  },
  {
   "cell_type": "code",
   "execution_count": 25,
   "metadata": {},
   "outputs": [
    {
     "name": "stdout",
     "output_type": "stream",
     "text": [
      "[ 0.   0.5  1.   1.5  2.   2.5  3.   3.5  4.   4.5]\n",
      "[False False False False False  True  True  True  True  True]\n",
      "[ True  True  True  True  True  True  True  True False False]\n",
      "----\n",
      "[False False False False False  True  True  True False False]\n"
     ]
    }
   ],
   "source": [
    "a=np.arange(0,5,.5)\n",
    "cond1 = a>2\n",
    "cond2 = a<4\n",
    "cond=cond1&cond2\n",
    "\n",
    "print (a)\n",
    "print (cond1)\n",
    "print (cond2)\n",
    "print (\"----\")\n",
    "print (cond)"
   ]
  },
  {
   "cell_type": "markdown",
   "metadata": {},
   "source": [
    "### `|` : logical or"
   ]
  },
  {
   "cell_type": "code",
   "execution_count": 26,
   "metadata": {},
   "outputs": [
    {
     "name": "stdout",
     "output_type": "stream",
     "text": [
      "[ True  True  True  True False False False False False False]\n",
      "[False False False False False False False False False  True]\n",
      "[ True  True  True  True False False False False False  True]\n"
     ]
    }
   ],
   "source": [
    "cond1= a<2\n",
    "cond2=a>4\n",
    "cond=cond1 | cond2\n",
    "print (cond1)\n",
    "print (cond2)\n",
    "print (cond)"
   ]
  },
  {
   "cell_type": "markdown",
   "metadata": {},
   "source": [
    "### ~: not"
   ]
  },
  {
   "cell_type": "code",
   "execution_count": 27,
   "metadata": {},
   "outputs": [
    {
     "name": "stdout",
     "output_type": "stream",
     "text": [
      "[ True  True  True  True False False False False False False]\n",
      "[False False False False  True  True  True  True  True  True]\n"
     ]
    }
   ],
   "source": [
    "cond2=~cond1\n",
    "print (cond1)\n",
    "print (cond2)"
   ]
  },
  {
   "cell_type": "markdown",
   "metadata": {},
   "source": [
    "## Mathematical functions\n",
    "[https://docs.scipy.org/doc/numpy-1.13.0/reference/routines.math.html](https://docs.scipy.org/doc/numpy-1.13.0/reference/routines.math.html)"
   ]
  },
  {
   "cell_type": "code",
   "execution_count": 28,
   "metadata": {},
   "outputs": [
    {
     "data": {
      "text/plain": [
       "array([  1.        ,   2.71828183,   7.3890561 ,  20.08553692])"
      ]
     },
     "execution_count": 28,
     "metadata": {},
     "output_type": "execute_result"
    }
   ],
   "source": [
    "a=np.arange(0,4)\n",
    "np.exp(a)"
   ]
  },
  {
   "cell_type": "code",
   "execution_count": 29,
   "metadata": {},
   "outputs": [
    {
     "data": {
      "text/plain": [
       "array([ 0.        ,  0.84147098,  0.90929743,  0.14112001])"
      ]
     },
     "execution_count": 29,
     "metadata": {},
     "output_type": "execute_result"
    }
   ],
   "source": [
    "np.sin(a)"
   ]
  },
  {
   "cell_type": "markdown",
   "metadata": {},
   "source": [
    "### nans, inf\n",
    "There are special values defined in numpy: nan, inf"
   ]
  },
  {
   "cell_type": "code",
   "execution_count": 30,
   "metadata": {},
   "outputs": [
    {
     "name": "stderr",
     "output_type": "stream",
     "text": [
      "/home/marco/miniconda3/lib/python3.6/site-packages/ipykernel_launcher.py:1: RuntimeWarning: divide by zero encountered in log10\n",
      "  \"\"\"Entry point for launching an IPython kernel.\n"
     ]
    },
    {
     "data": {
      "text/plain": [
       "array([       -inf,  0.        ,  0.30103   ,  0.47712125])"
      ]
     },
     "execution_count": 30,
     "metadata": {},
     "output_type": "execute_result"
    }
   ],
   "source": [
    "np.log10(a)"
   ]
  },
  {
   "cell_type": "code",
   "execution_count": 31,
   "metadata": {},
   "outputs": [
    {
     "name": "stdout",
     "output_type": "stream",
     "text": [
      "[        inf  1.          0.5         0.33333333]\n"
     ]
    },
    {
     "name": "stderr",
     "output_type": "stream",
     "text": [
      "/home/marco/miniconda3/lib/python3.6/site-packages/ipykernel_launcher.py:1: RuntimeWarning: divide by zero encountered in true_divide\n",
      "  \"\"\"Entry point for launching an IPython kernel.\n"
     ]
    }
   ],
   "source": [
    "b=1/a\n",
    "print (b)"
   ]
  },
  {
   "cell_type": "code",
   "execution_count": 32,
   "metadata": {},
   "outputs": [
    {
     "data": {
      "text/plain": [
       "array([False,  True,  True,  True], dtype=bool)"
      ]
     },
     "execution_count": 32,
     "metadata": {},
     "output_type": "execute_result"
    }
   ],
   "source": [
    "np.isfinite(b)"
   ]
  },
  {
   "cell_type": "code",
   "execution_count": 33,
   "metadata": {},
   "outputs": [
    {
     "name": "stderr",
     "output_type": "stream",
     "text": [
      "/home/marco/miniconda3/lib/python3.6/site-packages/ipykernel_launcher.py:2: RuntimeWarning: invalid value encountered in sqrt\n",
      "  \n"
     ]
    }
   ],
   "source": [
    "a=np.array([-3,2,10])\n",
    "s=np.sqrt(a) # the square root of a negative number is Not A Number"
   ]
  },
  {
   "cell_type": "code",
   "execution_count": 34,
   "metadata": {},
   "outputs": [
    {
     "data": {
      "text/plain": [
       "array([False,  True,  True], dtype=bool)"
      ]
     },
     "execution_count": 34,
     "metadata": {},
     "output_type": "execute_result"
    }
   ],
   "source": [
    "np.isfinite(s) # note!! nan is not finite!"
   ]
  },
  {
   "cell_type": "code",
   "execution_count": 35,
   "metadata": {},
   "outputs": [
    {
     "data": {
      "text/plain": [
       "array([ True, False, False], dtype=bool)"
      ]
     },
     "execution_count": 35,
     "metadata": {},
     "output_type": "execute_result"
    }
   ],
   "source": [
    "np.isnan(s)"
   ]
  },
  {
   "cell_type": "markdown",
   "metadata": {},
   "source": [
    "## Other useful functions"
   ]
  },
  {
   "cell_type": "markdown",
   "metadata": {},
   "source": [
    "### min and max"
   ]
  },
  {
   "cell_type": "code",
   "execution_count": 36,
   "metadata": {},
   "outputs": [
    {
     "name": "stdout",
     "output_type": "stream",
     "text": [
      "[ 0.06733072  0.25667989  0.34540185  0.91062122  0.83983174]\n",
      "0.0673307184809\n",
      "0.910621224515\n"
     ]
    }
   ],
   "source": [
    "a=np.random.rand(5)\n",
    "print (a)\n",
    "print (np.amin(a))\n",
    "print (np.amax(a))"
   ]
  },
  {
   "cell_type": "markdown",
   "metadata": {},
   "source": [
    "you can calculate the min (and max) along each axis:"
   ]
  },
  {
   "cell_type": "code",
   "execution_count": 37,
   "metadata": {},
   "outputs": [
    {
     "name": "stdout",
     "output_type": "stream",
     "text": [
      "[[ 0.84885433  0.24725243]\n",
      " [ 0.46378352  0.87114619]\n",
      " [ 0.57286064  0.63944057]]\n",
      "\n",
      "------\n",
      "\n",
      "MIN axis=0\n",
      "[ 0.46378352  0.24725243]\n",
      "MIN axis=1\n",
      "[ 0.24725243  0.46378352  0.57286064]\n"
     ]
    }
   ],
   "source": [
    "a=np.random.rand(3,2)\n",
    "print (a)\n",
    "min_0=np.amin(a,axis=0)\n",
    "min_1=np.amin(a,axis=1)\n",
    "\n",
    "print (\"\\n------\\n\") # \\n is \"new line\". can be used to add an empty line\n",
    "\n",
    "print (\"MIN axis=0\")\n",
    "print (min_0)\n",
    "\n",
    "print (\"MIN axis=1\")\n",
    "print (min_1)"
   ]
  },
  {
   "cell_type": "markdown",
   "metadata": {},
   "source": [
    "`min()` and `max()` are equivalent to `amin()` and `amax()`"
   ]
  },
  {
   "cell_type": "code",
   "execution_count": 38,
   "metadata": {},
   "outputs": [
    {
     "name": "stdout",
     "output_type": "stream",
     "text": [
      "[ 0.46378352  0.24725243]\n",
      "[ 0.46378352  0.24725243]\n"
     ]
    }
   ],
   "source": [
    "print (np.min(a,axis=0))\n",
    "print (np.amin(a,axis=0))\n"
   ]
  },
  {
   "cell_type": "markdown",
   "metadata": {},
   "source": [
    "### argmin, argmax\n",
    "Returns the indices of the minimum and maximum values along an axis."
   ]
  },
  {
   "cell_type": "code",
   "execution_count": 39,
   "metadata": {},
   "outputs": [
    {
     "name": "stdout",
     "output_type": "stream",
     "text": [
      "[ 0.87517343  0.30885783  0.19728485  0.46902374  0.44024851]\n",
      "2\n"
     ]
    }
   ],
   "source": [
    "a=np.random.rand(5)\n",
    "idx=a.argmin()\n",
    "print (a)\n",
    "print (idx)\n"
   ]
  },
  {
   "cell_type": "code",
   "execution_count": 40,
   "metadata": {},
   "outputs": [
    {
     "name": "stdout",
     "output_type": "stream",
     "text": [
      "[-2.  -0.5  1.   2.5  4. ]\n",
      "[ 10.     3.25   1.     3.25  10.  ]\n"
     ]
    },
    {
     "data": {
      "text/plain": [
       "1.0"
      ]
     },
     "execution_count": 40,
     "metadata": {},
     "output_type": "execute_result"
    }
   ],
   "source": [
    "# for example:\n",
    "x=np.linspace(-2,4,5)\n",
    "y=(x**2-2*x+2)\n",
    "\n",
    "print (x)\n",
    "print (y)\n",
    "# QUESTION: what is the x corresponding to the min of y?\n",
    "x[np.argmin(y)]\n",
    "\n"
   ]
  },
  {
   "cell_type": "markdown",
   "metadata": {},
   "source": [
    "### sum"
   ]
  },
  {
   "cell_type": "code",
   "execution_count": 41,
   "metadata": {},
   "outputs": [
    {
     "name": "stdout",
     "output_type": "stream",
     "text": [
      "[[8 6 8]\n",
      " [7 8 6]]\n",
      "---\n",
      "43\n",
      "---\n",
      "[15 14 14]\n"
     ]
    }
   ],
   "source": [
    "a=np.random.randint(2,9,size=(2,3)) # an array of random integers in [2,9] with size (2,3)\n",
    "print (a)\n",
    "print (\"---\")\n",
    "print (np.sum(a))\n",
    "print (\"---\")\n",
    "print (a.sum(axis=0))\n"
   ]
  },
  {
   "cell_type": "markdown",
   "metadata": {},
   "source": [
    "### mean and standard deviation"
   ]
  },
  {
   "cell_type": "code",
   "execution_count": 42,
   "metadata": {},
   "outputs": [
    {
     "name": "stdout",
     "output_type": "stream",
     "text": [
      "Mean  : 4.99468693427\n",
      "Median: 4.99061767977\n",
      "std   : 0.183746771936\n"
     ]
    }
   ],
   "source": [
    "# create an array of 100 elements\n",
    "# from a normal (Gaussian) distribution with mean=5 and standard deviation=0.2 \n",
    "x=np.random.normal(5,.2,100)\n",
    "\n",
    "# calculate the mean and std\n",
    "mean=np.mean(x)\n",
    "median=np.median(x)\n",
    "std=np.std(x)\n",
    "print (\"Mean  :\",mean)\n",
    "print (\"Median:\",median)\n",
    "print (\"std   :\",std)"
   ]
  },
  {
   "cell_type": "markdown",
   "metadata": {},
   "source": [
    "# Numpy: functions and methods\n",
    "\n",
    "So far we have used numpy functions, like `np.mean(array)`.\n",
    "The same results can be obtained also using *methods*.\n",
    "\n",
    "A *method* is a function that is associated with a particular *class*.\n",
    "Each object that are member of the class `numpy.array` has a number of functions associated to it.\n",
    "When you write\n",
    "```python\n",
    "np.mean(x)\n",
    "```\n",
    "you are using the numpy function `mean`, and you pass `x` as an argument.\n",
    "The same can be obtained with\n",
    "```python\n",
    "x.mean()\n",
    "```\n",
    "You are using the *method* `mean` of the class numpy.array (`x` is a numpy array)."
   ]
  },
  {
   "cell_type": "code",
   "execution_count": 43,
   "metadata": {},
   "outputs": [
    {
     "name": "stdout",
     "output_type": "stream",
     "text": [
      "4.06599821061\n",
      "4.06599821061\n"
     ]
    }
   ],
   "source": [
    "x=np.random.uniform(3,5,100)\n",
    "m1=np.mean(x)\n",
    "m2=x.mean()\n",
    "print (m1)\n",
    "print (m2)\n"
   ]
  },
  {
   "cell_type": "code",
   "execution_count": 44,
   "metadata": {},
   "outputs": [
    {
     "name": "stdout",
     "output_type": "stream",
     "text": [
      "3.01093475231\n",
      "3.01093475231\n"
     ]
    }
   ],
   "source": [
    "print (x.min())\n",
    "print (np.min(x))"
   ]
  },
  {
   "cell_type": "markdown",
   "metadata": {},
   "source": [
    "# Manipulating arrays\n",
    "\n",
    "## Indexing\n",
    "\n",
    "We can index elements in an array using square brackets and indices:\n"
   ]
  },
  {
   "cell_type": "code",
   "execution_count": 45,
   "metadata": {},
   "outputs": [
    {
     "name": "stdout",
     "output_type": "stream",
     "text": [
      "[ 4  3  8 11]\n",
      "(4,)\n",
      "-----\n",
      "[[ 3  4 11]\n",
      " [ 7  5  4]]\n",
      "(2, 3)\n"
     ]
    }
   ],
   "source": [
    "# v is a 1D vector\n",
    "# M is a matrix (2D vector)\n",
    "v=np.array([4,3,8,11])\n",
    "m=np.array([[3,4,11],[7,5,4]])\n",
    "\n",
    "print (v)\n",
    "print (v.shape)\n",
    "print(\"-----\")\n",
    "print (m)\n",
    "print (m.shape)"
   ]
  },
  {
   "cell_type": "code",
   "execution_count": 46,
   "metadata": {},
   "outputs": [
    {
     "data": {
      "text/plain": [
       "4"
      ]
     },
     "execution_count": 46,
     "metadata": {},
     "output_type": "execute_result"
    }
   ],
   "source": [
    "# v is a vector, and has only one dimension, taking one index\n",
    "v[0]"
   ]
  },
  {
   "cell_type": "code",
   "execution_count": 47,
   "metadata": {},
   "outputs": [
    {
     "data": {
      "text/plain": [
       "4"
      ]
     },
     "execution_count": 47,
     "metadata": {},
     "output_type": "execute_result"
    }
   ],
   "source": [
    "# M is a matrix, or a 2 dimensional array, taking two indices \n",
    "m[0,1]"
   ]
  },
  {
   "cell_type": "code",
   "execution_count": 48,
   "metadata": {},
   "outputs": [
    {
     "data": {
      "text/plain": [
       "array([7, 5, 4])"
      ]
     },
     "execution_count": 48,
     "metadata": {},
     "output_type": "execute_result"
    }
   ],
   "source": [
    "m[1,:] # row 1"
   ]
  },
  {
   "cell_type": "code",
   "execution_count": 49,
   "metadata": {},
   "outputs": [
    {
     "data": {
      "text/plain": [
       "array([4, 5])"
      ]
     },
     "execution_count": 49,
     "metadata": {},
     "output_type": "execute_result"
    }
   ],
   "source": [
    "m[:,1] # column 1"
   ]
  },
  {
   "cell_type": "markdown",
   "metadata": {},
   "source": [
    "We can assign new values to elements in an array using indexing:"
   ]
  },
  {
   "cell_type": "code",
   "execution_count": 50,
   "metadata": {},
   "outputs": [
    {
     "data": {
      "text/plain": [
       "array([[ 9,  4, 11],\n",
       "       [ 7,  5,  4]])"
      ]
     },
     "execution_count": 50,
     "metadata": {},
     "output_type": "execute_result"
    }
   ],
   "source": [
    "m[0,0]=9\n",
    "m"
   ]
  },
  {
   "cell_type": "code",
   "execution_count": 51,
   "metadata": {},
   "outputs": [
    {
     "data": {
      "text/plain": [
       "array([[ 9,  4, -1],\n",
       "       [ 0,  0, -1]])"
      ]
     },
     "execution_count": 51,
     "metadata": {},
     "output_type": "execute_result"
    }
   ],
   "source": [
    "# also works for rows and columns\n",
    "m[1,:] = 0\n",
    "m[:,2] = -1\n",
    "m"
   ]
  },
  {
   "cell_type": "markdown",
   "metadata": {},
   "source": [
    "## Index slicing\n",
    "\n",
    "Index slicing is the technical name for the syntax M[lower:upper:step] to extract part of an array:\n"
   ]
  },
  {
   "cell_type": "code",
   "execution_count": 52,
   "metadata": {},
   "outputs": [
    {
     "data": {
      "text/plain": [
       "array([1, 2, 3, 4, 5])"
      ]
     },
     "execution_count": 52,
     "metadata": {},
     "output_type": "execute_result"
    }
   ],
   "source": [
    "a = np.array([1,2,3,4,5])\n",
    "a"
   ]
  },
  {
   "cell_type": "code",
   "execution_count": 53,
   "metadata": {},
   "outputs": [
    {
     "data": {
      "text/plain": [
       "array([2, 3])"
      ]
     },
     "execution_count": 53,
     "metadata": {},
     "output_type": "execute_result"
    }
   ],
   "source": [
    "a[1:3]"
   ]
  },
  {
   "cell_type": "markdown",
   "metadata": {},
   "source": [
    "Array slices are mutable: if they are assigned a new value the original array from which the slice was extracted is modified:\n"
   ]
  },
  {
   "cell_type": "code",
   "execution_count": 54,
   "metadata": {},
   "outputs": [
    {
     "data": {
      "text/plain": [
       "array([ 1, -2, -3,  4,  5])"
      ]
     },
     "execution_count": 54,
     "metadata": {},
     "output_type": "execute_result"
    }
   ],
   "source": [
    "a[1:3] = [-2,-3]  # this works also with lists!\n",
    "a"
   ]
  },
  {
   "cell_type": "markdown",
   "metadata": {},
   "source": [
    "We can omit any of the three parameters in M[lower:upper:step]:"
   ]
  },
  {
   "cell_type": "code",
   "execution_count": 55,
   "metadata": {},
   "outputs": [
    {
     "data": {
      "text/plain": [
       "array([ 1, -2, -3,  4,  5])"
      ]
     },
     "execution_count": 55,
     "metadata": {},
     "output_type": "execute_result"
    }
   ],
   "source": [
    "a[::] # lower, upper, step all take the default values"
   ]
  },
  {
   "cell_type": "code",
   "execution_count": 56,
   "metadata": {},
   "outputs": [
    {
     "data": {
      "text/plain": [
       "array([ 1, -3,  5])"
      ]
     },
     "execution_count": 56,
     "metadata": {},
     "output_type": "execute_result"
    }
   ],
   "source": [
    "a[::2] # step is 2, lower and upper defaults to the beginning and end of the array"
   ]
  },
  {
   "cell_type": "code",
   "execution_count": 57,
   "metadata": {},
   "outputs": [
    {
     "data": {
      "text/plain": [
       "array([ 1, -2, -3])"
      ]
     },
     "execution_count": 57,
     "metadata": {},
     "output_type": "execute_result"
    }
   ],
   "source": [
    "a[:3] # first three elements"
   ]
  },
  {
   "cell_type": "code",
   "execution_count": 58,
   "metadata": {},
   "outputs": [
    {
     "data": {
      "text/plain": [
       "array([4, 5])"
      ]
     },
     "execution_count": 58,
     "metadata": {},
     "output_type": "execute_result"
    }
   ],
   "source": [
    "a[3:] # elements from index 3\n"
   ]
  },
  {
   "cell_type": "markdown",
   "metadata": {},
   "source": [
    "Negative indices counts from the end of the array (positive index from the begining):"
   ]
  },
  {
   "cell_type": "code",
   "execution_count": 59,
   "metadata": {},
   "outputs": [
    {
     "data": {
      "text/plain": [
       "array([1, 2, 3, 4, 5])"
      ]
     },
     "execution_count": 59,
     "metadata": {},
     "output_type": "execute_result"
    }
   ],
   "source": [
    "a=np.array([1,2,3,4,5])\n",
    "a"
   ]
  },
  {
   "cell_type": "code",
   "execution_count": 60,
   "metadata": {},
   "outputs": [
    {
     "data": {
      "text/plain": [
       "5"
      ]
     },
     "execution_count": 60,
     "metadata": {},
     "output_type": "execute_result"
    }
   ],
   "source": [
    "a[-1] # the last element in the array\n"
   ]
  },
  {
   "cell_type": "code",
   "execution_count": 61,
   "metadata": {},
   "outputs": [
    {
     "data": {
      "text/plain": [
       "array([3, 4, 5])"
      ]
     },
     "execution_count": 61,
     "metadata": {},
     "output_type": "execute_result"
    }
   ],
   "source": [
    "a[-3:] # the last three elements"
   ]
  },
  {
   "cell_type": "markdown",
   "metadata": {},
   "source": [
    "Index slicing works exactly the same way for multidimensional arrays:\n"
   ]
  },
  {
   "cell_type": "code",
   "execution_count": 62,
   "metadata": {},
   "outputs": [
    {
     "data": {
      "text/plain": [
       "array([[ 0,  1,  2,  3,  4],\n",
       "       [10, 11, 12, 13, 14],\n",
       "       [20, 21, 22, 23, 24],\n",
       "       [30, 31, 32, 33, 34],\n",
       "       [40, 41, 42, 43, 44]])"
      ]
     },
     "execution_count": 62,
     "metadata": {},
     "output_type": "execute_result"
    }
   ],
   "source": [
    "a = np.array([[n+m*10 for n in range(5)] for m in range(5)])\n",
    "a"
   ]
  },
  {
   "cell_type": "code",
   "execution_count": 63,
   "metadata": {},
   "outputs": [
    {
     "data": {
      "text/plain": [
       "array([[11, 12, 13],\n",
       "       [21, 22, 23],\n",
       "       [31, 32, 33]])"
      ]
     },
     "execution_count": 63,
     "metadata": {},
     "output_type": "execute_result"
    }
   ],
   "source": [
    "# a block from the original array\n",
    "a[1:4, 1:4]"
   ]
  },
  {
   "cell_type": "code",
   "execution_count": 64,
   "metadata": {},
   "outputs": [
    {
     "data": {
      "text/plain": [
       "array([[ 0,  2,  4],\n",
       "       [20, 22, 24],\n",
       "       [40, 42, 44]])"
      ]
     },
     "execution_count": 64,
     "metadata": {},
     "output_type": "execute_result"
    }
   ],
   "source": [
    "a[::2, ::2]"
   ]
  },
  {
   "cell_type": "markdown",
   "metadata": {},
   "source": [
    "## Fancy indexing\n",
    "\n",
    "Fancy indexing is the name for when an array (or a list) is used in-place of an index:\n"
   ]
  },
  {
   "cell_type": "code",
   "execution_count": 65,
   "metadata": {},
   "outputs": [
    {
     "data": {
      "text/plain": [
       "array([7, 9, 2])"
      ]
     },
     "execution_count": 65,
     "metadata": {},
     "output_type": "execute_result"
    }
   ],
   "source": [
    "v=np.array([2,5,7,9,3])\n",
    "i=[2,3,0]\n",
    "v[i]"
   ]
  },
  {
   "cell_type": "code",
   "execution_count": 66,
   "metadata": {},
   "outputs": [
    {
     "name": "stdout",
     "output_type": "stream",
     "text": [
      "[[ 0  1  2  3  4]\n",
      " [10 11 12 13 14]\n",
      " [20 21 22 23 24]\n",
      " [30 31 32 33 34]\n",
      " [40 41 42 43 44]]\n"
     ]
    },
    {
     "data": {
      "text/plain": [
       "array([11, 12, 24])"
      ]
     },
     "execution_count": 66,
     "metadata": {},
     "output_type": "execute_result"
    }
   ],
   "source": [
    "a = np.array([[n+m*10 for n in range(5)] for m in range(5)])\n",
    "a\n",
    "print (a)\n",
    "row_indices = [1, 1, 2]\n",
    "col_indices = [1, 2, -1] # remember, index -1 means the last element\n",
    "a[row_indices, col_indices]\n"
   ]
  },
  {
   "cell_type": "markdown",
   "metadata": {},
   "source": [
    "We can also use index masks: If the index mask is an Numpy array of data type bool, then an element is selected (True) or not (False) depending on the value of the index mask at the position of each element:\n"
   ]
  },
  {
   "cell_type": "code",
   "execution_count": 67,
   "metadata": {},
   "outputs": [
    {
     "data": {
      "text/plain": [
       "array([0, 1, 2, 3, 4])"
      ]
     },
     "execution_count": 67,
     "metadata": {},
     "output_type": "execute_result"
    }
   ],
   "source": [
    "v = np.arange(5)\n",
    "v"
   ]
  },
  {
   "cell_type": "code",
   "execution_count": 68,
   "metadata": {},
   "outputs": [
    {
     "data": {
      "text/plain": [
       "array([0, 2])"
      ]
     },
     "execution_count": 68,
     "metadata": {},
     "output_type": "execute_result"
    }
   ],
   "source": [
    "row_mask = np.array([True, False, True, False, False])\n",
    "v[row_mask]"
   ]
  },
  {
   "cell_type": "code",
   "execution_count": 69,
   "metadata": {},
   "outputs": [
    {
     "data": {
      "text/plain": [
       "array([0, 2])"
      ]
     },
     "execution_count": 69,
     "metadata": {},
     "output_type": "execute_result"
    }
   ],
   "source": [
    "# same thing\n",
    "row_mask = np.array([1,0,1,0,0], dtype=bool)\n",
    "v[row_mask]"
   ]
  },
  {
   "cell_type": "markdown",
   "metadata": {},
   "source": [
    "\n",
    "\n",
    "This feature is very useful to conditionally select elements from an array, using for example comparison operators:\n"
   ]
  },
  {
   "cell_type": "code",
   "execution_count": 70,
   "metadata": {},
   "outputs": [
    {
     "data": {
      "text/plain": [
       "array([ 0. ,  0.5,  1. ,  1.5,  2. ,  2.5,  3. ,  3.5,  4. ,  4.5,  5. ,\n",
       "        5.5,  6. ,  6.5,  7. ,  7.5,  8. ,  8.5,  9. ,  9.5])"
      ]
     },
     "execution_count": 70,
     "metadata": {},
     "output_type": "execute_result"
    }
   ],
   "source": [
    "x = np.arange(0, 10, 0.5)\n",
    "x"
   ]
  },
  {
   "cell_type": "code",
   "execution_count": 71,
   "metadata": {},
   "outputs": [
    {
     "data": {
      "text/plain": [
       "array([False, False, False, False, False, False, False, False, False,\n",
       "       False, False,  True,  True,  True,  True, False, False, False,\n",
       "       False, False], dtype=bool)"
      ]
     },
     "execution_count": 71,
     "metadata": {},
     "output_type": "execute_result"
    }
   ],
   "source": [
    "mask = (5 < x) & (x < 7.5)\n",
    "\n",
    "mask"
   ]
  },
  {
   "cell_type": "code",
   "execution_count": 72,
   "metadata": {},
   "outputs": [
    {
     "data": {
      "text/plain": [
       "array([ 5.5,  6. ,  6.5,  7. ])"
      ]
     },
     "execution_count": 72,
     "metadata": {},
     "output_type": "execute_result"
    }
   ],
   "source": [
    "x[mask]"
   ]
  },
  {
   "cell_type": "markdown",
   "metadata": {},
   "source": [
    "### where\n",
    "The index mask can be converted to position index using the where function"
   ]
  },
  {
   "cell_type": "code",
   "execution_count": 73,
   "metadata": {},
   "outputs": [
    {
     "data": {
      "text/plain": [
       "(array([11, 12, 13, 14]),)"
      ]
     },
     "execution_count": 73,
     "metadata": {},
     "output_type": "execute_result"
    }
   ],
   "source": [
    "indices = np.where(mask)\n",
    "\n",
    "indices"
   ]
  },
  {
   "cell_type": "code",
   "execution_count": 74,
   "metadata": {},
   "outputs": [
    {
     "data": {
      "text/plain": [
       "array([ 5.5,  6. ,  6.5,  7. ])"
      ]
     },
     "execution_count": 74,
     "metadata": {},
     "output_type": "execute_result"
    }
   ],
   "source": [
    "x[indices] # this indexing is equivalent to the fancy indexing x[mask]"
   ]
  },
  {
   "cell_type": "markdown",
   "metadata": {},
   "source": [
    "###  <span style=\"color:red\">EXERCISE:</span> : percentile\n",
    "\n",
    "Define an array with 1000 random numners uniformely distributed between 3 and 7.\n",
    "Find a way to calculate the 80-th percentile of the sample (a numpy function to calculate percentile)\n",
    "\n",
    "*Hint*: Google helps!! but also the section of the routine list in the numpy reference guide https://docs.scipy.org/doc/numpy-1.13.0/reference/routines.html\n",
    "\n",
    "For example, the 80th percentile is the value (or score) below which 80% of the data may be found.\n",
    "Verify that this is the case for the array you defined.\n",
    "\n",
    "if `p` is the number that you found, count how many elements of the array are <p"
   ]
  },
  {
   "cell_type": "code",
   "execution_count": 75,
   "metadata": {},
   "outputs": [],
   "source": [
    "## your solution\n"
   ]
  },
  {
   "cell_type": "markdown",
   "metadata": {},
   "source": [
    "uncomment the first line on the following cell and run the cell to see the solution"
   ]
  },
  {
   "cell_type": "code",
   "execution_count": 76,
   "metadata": {},
   "outputs": [],
   "source": [
    "# %load solutions/percentile.py"
   ]
  },
  {
   "cell_type": "markdown",
   "metadata": {},
   "source": [
    "# Reshaping, resizing and stacking arrays\n",
    "The shape of an Numpy array can be modified without copying the underlaying data, which makes it a fast operation even for large arrays."
   ]
  },
  {
   "cell_type": "code",
   "execution_count": 77,
   "metadata": {},
   "outputs": [
    {
     "data": {
      "text/plain": [
       "array([[ 0,  1,  2,  3],\n",
       "       [10, 11, 12, 13],\n",
       "       [20, 21, 22, 23]])"
      ]
     },
     "execution_count": 77,
     "metadata": {},
     "output_type": "execute_result"
    }
   ],
   "source": [
    "a = np.array([[n+m*10 for n in range(4)] for m in range(3)])\n",
    "a"
   ]
  },
  {
   "cell_type": "code",
   "execution_count": 78,
   "metadata": {},
   "outputs": [
    {
     "name": "stdout",
     "output_type": "stream",
     "text": [
      "3 4\n"
     ]
    }
   ],
   "source": [
    "n, m = a.shape\n",
    "print (n,m)"
   ]
  },
  {
   "cell_type": "code",
   "execution_count": 79,
   "metadata": {},
   "outputs": [
    {
     "data": {
      "text/plain": [
       "array([[ 0,  1,  2,  3, 10, 11],\n",
       "       [12, 13, 20, 21, 22, 23]])"
      ]
     },
     "execution_count": 79,
     "metadata": {},
     "output_type": "execute_result"
    }
   ],
   "source": [
    "b= a.reshape((2,6))\n",
    "b"
   ]
  },
  {
   "cell_type": "markdown",
   "metadata": {},
   "source": [
    " <span style=\"color:red\">**NOTE**: **Arrays share memory** :</span>(remember? like lists!)\n",
    "\n",
    "When you `reshape` you just create *a different view of the same data*"
   ]
  },
  {
   "cell_type": "code",
   "execution_count": 80,
   "metadata": {},
   "outputs": [
    {
     "name": "stdout",
     "output_type": "stream",
     "text": [
      "[[ 5  5  2  3 10 11]\n",
      " [12 13 20 21 22 23]]\n",
      "----\n",
      "[[ 5  5  2  3]\n",
      " [10 11 12 13]\n",
      " [20 21 22 23]]\n"
     ]
    }
   ],
   "source": [
    "b[0,0:2] = 5 # modify the array\n",
    "\n",
    "print (b)\n",
    "print (\"----\")\n",
    "print (a)\n"
   ]
  },
  {
   "cell_type": "markdown",
   "metadata": {},
   "source": [
    "## `flatten()`\n",
    "makes a higher-dimensional array into a vector. But this function *create a copy* of the data."
   ]
  },
  {
   "cell_type": "code",
   "execution_count": 81,
   "metadata": {},
   "outputs": [
    {
     "data": {
      "text/plain": [
       "array([ 5,  5,  2,  3, 10, 11, 12, 13, 20, 21, 22, 23])"
      ]
     },
     "execution_count": 81,
     "metadata": {},
     "output_type": "execute_result"
    }
   ],
   "source": [
    "b=a.flatten()\n",
    "b"
   ]
  },
  {
   "cell_type": "code",
   "execution_count": 82,
   "metadata": {},
   "outputs": [
    {
     "name": "stdout",
     "output_type": "stream",
     "text": [
      "[ 9  9  9  3 10 11 12 13 20 21 22 23]\n",
      "----\n",
      "[[ 5  5  2  3]\n",
      " [10 11 12 13]\n",
      " [20 21 22 23]]\n"
     ]
    }
   ],
   "source": [
    "b[0:3]=9\n",
    "print (b)\n",
    "print (\"----\")\n",
    "print (a)"
   ]
  },
  {
   "cell_type": "markdown",
   "metadata": {},
   "source": [
    "if one of the axis length is left as -1. Numpy will compute this dimension for you."
   ]
  },
  {
   "cell_type": "code",
   "execution_count": 83,
   "metadata": {},
   "outputs": [
    {
     "name": "stdout",
     "output_type": "stream",
     "text": [
      "(3, 5)\n",
      "---\n",
      "[[ 0  1  2  3  4]\n",
      " [ 5  6  7  8  9]\n",
      " [10 11 12 13 14]]\n"
     ]
    }
   ],
   "source": [
    "a1 = np.arange(15).reshape((-1, 5))\n",
    "\n",
    "print (a1.shape)\n",
    "print (\"---\")\n",
    "print (a1)"
   ]
  },
  {
   "cell_type": "markdown",
   "metadata": {},
   "source": [
    "## Transpose"
   ]
  },
  {
   "cell_type": "code",
   "execution_count": 84,
   "metadata": {},
   "outputs": [
    {
     "data": {
      "text/plain": [
       "array([[ 0,  1,  2,  3],\n",
       "       [10, 11, 12, 13],\n",
       "       [20, 21, 22, 23]])"
      ]
     },
     "execution_count": 84,
     "metadata": {},
     "output_type": "execute_result"
    }
   ],
   "source": [
    "a = np.array([[n+m*10 for n in range(4)] for m in range(3)])\n",
    "a"
   ]
  },
  {
   "cell_type": "code",
   "execution_count": 85,
   "metadata": {},
   "outputs": [
    {
     "data": {
      "text/plain": [
       "array([[ 0, 10, 20],\n",
       "       [ 1, 11, 21],\n",
       "       [ 2, 12, 22],\n",
       "       [ 3, 13, 23]])"
      ]
     },
     "execution_count": 85,
     "metadata": {},
     "output_type": "execute_result"
    }
   ],
   "source": [
    "a.transpose()"
   ]
  },
  {
   "cell_type": "code",
   "execution_count": 86,
   "metadata": {},
   "outputs": [
    {
     "data": {
      "text/plain": [
       "array([[ 0, 10, 20],\n",
       "       [ 1, 11, 21],\n",
       "       [ 2, 12, 22],\n",
       "       [ 3, 13, 23]])"
      ]
     },
     "execution_count": 86,
     "metadata": {},
     "output_type": "execute_result"
    }
   ],
   "source": [
    "# same thing\n",
    "a.T"
   ]
  },
  {
   "cell_type": "code",
   "execution_count": null,
   "metadata": {
    "collapsed": true
   },
   "outputs": [],
   "source": []
  },
  {
   "cell_type": "markdown",
   "metadata": {},
   "source": [
    "## Stacking and repeating arrays\n",
    "\n",
    "Using the functions `repeat`, `tile`, `vstack`, `hstack`, and `concatenate` we can create larger vectors and matrices from smaller ones:\n",
    "\n",
    "### tile and repeat\n"
   ]
  },
  {
   "cell_type": "code",
   "execution_count": 87,
   "metadata": {},
   "outputs": [
    {
     "name": "stdout",
     "output_type": "stream",
     "text": [
      "[[1 2]\n",
      " [3 4]]\n",
      "no axis, repeat the flatten array\n",
      "[1 1 1 2 2 2 3 3 3 4 4 4]\n",
      "axis=0; repeat each row\n",
      "[[1 2]\n",
      " [1 2]\n",
      " [1 2]\n",
      " [3 4]\n",
      " [3 4]\n",
      " [3 4]]\n",
      "axis=1, repeat each column\n",
      "[[1 1 1 2 2 2]\n",
      " [3 3 3 4 4 4]]\n"
     ]
    }
   ],
   "source": [
    "a = np.array([[1, 2],[3, 4]])\n",
    "print (a)\n",
    "# repeat each element 3 times\n",
    "print (\"no axis, repeat the flatten array\")\n",
    "print (np.repeat(a, 3))\n",
    "print (\"axis=0; repeat each row\")\n",
    "print (np.repeat(a,3,axis=0))\n",
    "print (\"axis=1, repeat each column\")\n",
    "print (np.repeat(a,3,axis=1))\n",
    "\n",
    "\n"
   ]
  },
  {
   "cell_type": "code",
   "execution_count": 88,
   "metadata": {},
   "outputs": [
    {
     "data": {
      "text/plain": [
       "array([[1, 2, 1, 2, 1, 2],\n",
       "       [3, 4, 3, 4, 3, 4]])"
      ]
     },
     "execution_count": 88,
     "metadata": {},
     "output_type": "execute_result"
    }
   ],
   "source": [
    "# tile the matrix 3 times \n",
    "np.tile(a, 3)"
   ]
  },
  {
   "cell_type": "markdown",
   "metadata": {},
   "source": [
    "### concatenate"
   ]
  },
  {
   "cell_type": "code",
   "execution_count": 89,
   "metadata": {},
   "outputs": [
    {
     "name": "stdout",
     "output_type": "stream",
     "text": [
      "[[1 2]\n",
      " [3 4]]\n",
      "---\n",
      "[[99 98]\n",
      " [ 5  6]]\n"
     ]
    }
   ],
   "source": [
    "a = np.array([[1, 2],[3, 4]])\n",
    "b = np.array([[99,98],[5, 6]])\n",
    "print (a)\n",
    "print (\"---\")\n",
    "print (b)\n"
   ]
  },
  {
   "cell_type": "code",
   "execution_count": 90,
   "metadata": {},
   "outputs": [
    {
     "data": {
      "text/plain": [
       "array([[ 1,  2],\n",
       "       [ 3,  4],\n",
       "       [99, 98],\n",
       "       [ 5,  6]])"
      ]
     },
     "execution_count": 90,
     "metadata": {},
     "output_type": "execute_result"
    }
   ],
   "source": [
    "np.concatenate((a,b))"
   ]
  },
  {
   "cell_type": "code",
   "execution_count": 91,
   "metadata": {},
   "outputs": [
    {
     "data": {
      "text/plain": [
       "array([[ 1,  2, 99, 98],\n",
       "       [ 3,  4,  5,  6]])"
      ]
     },
     "execution_count": 91,
     "metadata": {},
     "output_type": "execute_result"
    }
   ],
   "source": [
    "a = np.array([[1, 2],[3, 4]])\n",
    "b = np.array([[99,98],[5, 6]])\n",
    "\n",
    "# to concatenate along axis=1 (columns),\n",
    "np.concatenate((a,b),axis=1)\n"
   ]
  },
  {
   "cell_type": "markdown",
   "metadata": {},
   "source": [
    "# Copy and \"deep copy\"\n",
    "\n",
    "To achieve high performance, assignments in Python usually do not copy the underlaying objects. This is important for example when objects are passed between functions, to avoid an excessive amount of memory copying when it is not necessary (technical term: pass by reference).\n"
   ]
  },
  {
   "cell_type": "code",
   "execution_count": 92,
   "metadata": {},
   "outputs": [
    {
     "data": {
      "text/plain": [
       "array([[1, 2],\n",
       "       [3, 4]])"
      ]
     },
     "execution_count": 92,
     "metadata": {},
     "output_type": "execute_result"
    }
   ],
   "source": [
    "a = np.array([[1, 2], [3, 4]])\n",
    "a"
   ]
  },
  {
   "cell_type": "code",
   "execution_count": 93,
   "metadata": {},
   "outputs": [
    {
     "name": "stdout",
     "output_type": "stream",
     "text": [
      "[[9 2]\n",
      " [3 4]]\n",
      "---\n",
      "[[9 2]\n",
      " [3 4]]\n"
     ]
    }
   ],
   "source": [
    "# now b is referring to the same array data as a \n",
    "b = a\n",
    "b[0,0]=9 # changing b affects a\n",
    "\n",
    "print (b)\n",
    "print (\"---\")\n",
    "print (a)\n"
   ]
  },
  {
   "cell_type": "markdown",
   "metadata": {},
   "source": [
    "\n",
    "\n",
    "If we want to avoid this behavior, so that when we get a new completely independent object `b` copied from `a`, then we need to do a so-called \"deep copy\" using the function `copy`:\n"
   ]
  },
  {
   "cell_type": "code",
   "execution_count": 94,
   "metadata": {},
   "outputs": [
    {
     "name": "stdout",
     "output_type": "stream",
     "text": [
      "[[9 2]\n",
      " [3 4]]\n",
      "---\n",
      "[[1 2]\n",
      " [3 4]]\n"
     ]
    }
   ],
   "source": [
    "a = np.array([[1, 2], [3, 4]])\n",
    "b=a.copy() # or you can do b=1*a ... !!!! the \"slice trick\" do not work with np. try to use b=a[:]\n",
    "b[0,0]=9\n",
    "\n",
    "print (b)\n",
    "print (\"---\")\n",
    "print (a)"
   ]
  },
  {
   "cell_type": "markdown",
   "metadata": {
    "collapsed": true
   },
   "source": [
    "# Load  ascii files\n",
    "`numpy` provides a useful functions to load data as numpy arrays from a text file, [`numpy.loadtxt`](https://docs.scipy.org/doc/numpy-1.13.0/reference/generated/numpy.loadtxt.html)\n",
    "\n",
    "The file `data/messier.txt` is the list of Messier objects, their equatorial (`RA,DEC`) and Galactic (`l,b`) coordinates. These are the first lines shown as an example:\n",
    "```\n",
    "# name          RA         DEC           l           b\n",
    "  M1     83.633212  +22.014460  184.557556   -5.784277\n",
    "  M2    323.362552   -0.823318   53.370790  -35.769774\n",
    "  M3    205.546777  +28.375454   42.208085   78.708396\n",
    "  M4    245.897511  -26.525522  350.973585   15.971828\n",
    "```\n",
    "\n",
    "Let's read the RA,DEC coordinates using `numpy.loadtxt`"
   ]
  },
  {
   "cell_type": "code",
   "execution_count": 95,
   "metadata": {},
   "outputs": [
    {
     "name": "stdout",
     "output_type": "stream",
     "text": [
      "(110, 2)\n",
      "[  83.633212  323.362552]\n",
      "[ 22.01446   -0.823318]\n",
      "[ 184.557556   53.37079 ]\n",
      "[ -5.784277 -35.769774]\n"
     ]
    }
   ],
   "source": [
    "import numpy as np\n",
    "data=np.loadtxt(\"data/messier.txt\",usecols=(1,2))\n",
    "print (data.shape)\n",
    "# or, if you want to unpack the data and create the arrays:\n",
    "ra,dec,l,b=np.loadtxt(\"data/messier.txt\",usecols=(1,2,3,4),unpack=True)\n",
    "print (ra[:2])\n",
    "print (dec[:2])\n",
    "print (l[:2])\n",
    "print (b[:2])\n"
   ]
  },
  {
   "cell_type": "markdown",
   "metadata": {},
   "source": [
    "If you need to read columns that contain something different from `float`, you need to use the `dtype` keyword.\n",
    "Its use is quite complicated, we will see how to read this kind of data much more easily using `astropy`."
   ]
  },
  {
   "cell_type": "markdown",
   "metadata": {},
   "source": [
    "# Numpy reference guide\n",
    "\n",
    "`Numpy` is a complex packages with a huge number of sub-modules. In this notebook we found some of them.\n",
    "You can find the `numpy` referece guide here: https://docs.scipy.org/doc/numpy-1.13.0/reference/index.html\n",
    "\n",
    "Here is a list of some of the sections that you may find useful:\n",
    "* Array manipulation routines: https://docs.scipy.org/doc/numpy-1.13.0/reference/routines.array-manipulation.html\n",
    "* Mathematical functions: https://docs.scipy.org/doc/numpy-1.13.0/reference/routines.math.html\n",
    "* Statistics: https://docs.scipy.org/doc/numpy-1.13.0/reference/routines.statistics.html\n",
    "* Random sampling: https://docs.scipy.org/doc/numpy-1.13.0/reference/routines.random.html\n",
    "* Polinomials: https://docs.scipy.org/doc/numpy-1.13.0/reference/routines.polynomials.html\n"
   ]
  },
  {
   "cell_type": "code",
   "execution_count": null,
   "metadata": {
    "collapsed": true
   },
   "outputs": [],
   "source": []
  }
 ],
 "metadata": {
  "kernelspec": {
   "display_name": "Python 2",
   "language": "python",
   "name": "python2"
  },
  "language_info": {
   "codemirror_mode": {
    "name": "ipython",
    "version": 3
   },
   "file_extension": ".py",
   "mimetype": "text/x-python",
   "name": "python",
   "nbconvert_exporter": "python",
   "pygments_lexer": "ipython3",
   "version": "3.6.3"
  }
 },
 "nbformat": 4,
 "nbformat_minor": 2
}
